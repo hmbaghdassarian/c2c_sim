{
 "cells": [
  {
   "cell_type": "code",
   "execution_count": 1,
   "metadata": {},
   "outputs": [],
   "source": [
    "import numpy as np\n",
    "import tensorly as tl\n",
    "from tensorly.decomposition import non_negative_tucker, non_negative_parafac \n",
    "\n",
    "import matplotlib.pyplot as plt\n",
    "import seaborn as sns\n",
    "\n",
    "%matplotlib inline"
   ]
  },
  {
   "cell_type": "code",
   "execution_count": 2,
   "metadata": {},
   "outputs": [],
   "source": [
    "#!pip install git+https://github.com/ahwillia/tensortools"
   ]
  },
  {
   "cell_type": "code",
   "execution_count": 3,
   "metadata": {},
   "outputs": [],
   "source": [
    "#!pip install tensorly"
   ]
  },
  {
   "cell_type": "code",
   "execution_count": 6,
   "metadata": {},
   "outputs": [],
   "source": [
    "data = np.load('example_data.npy')"
   ]
  },
  {
   "cell_type": "code",
   "execution_count": 7,
   "metadata": {},
   "outputs": [],
   "source": [
    "trajectory = []\n",
    "\n",
    "dt = 0.1\n",
    "\n",
    "xt = [0]\n",
    "yt = [30]\n",
    "v0x = 20\n",
    "v0y = 20\n",
    "\n",
    "\n",
    "x = xt[0]\n",
    "y = yt[0]\n",
    "cum_t = 0\n",
    "count = 0\n",
    "while (y > 0) or (count == 0):\n",
    "    if count != 0:\n",
    "        xt.append(x)\n",
    "        yt.append(y)\n",
    "    \n",
    "    cum_t += dt\n",
    "    x = np.round(v0x*cum_t + xt[0], 5)\n",
    "    y = np.round(v0y*cum_t + yt[0] - 0.5*9.8*cum_t**2, 5)\n",
    "    count += 1"
   ]
  },
  {
   "cell_type": "code",
   "execution_count": 8,
   "metadata": {},
   "outputs": [],
   "source": [
    "xbins = 10\n",
    "x_step = np.ceil(np.max(xt) / xbins) \n",
    "x_bins = np.arange(x_step, (x_step) * xbins + x_step, x_step)\n",
    "#x_bins = np.linspace(np.min(xt), np.max(xt), xbins)"
   ]
  },
  {
   "cell_type": "code",
   "execution_count": 9,
   "metadata": {},
   "outputs": [],
   "source": [
    "ybins = 15\n",
    "y_step = np.ceil(np.max(yt) / ybins)\n",
    "y_bins = np.arange(y_step, (y_step) * ybins + y_step, y_step)"
   ]
  },
  {
   "cell_type": "code",
   "execution_count": 10,
   "metadata": {},
   "outputs": [
    {
     "data": {
      "text/plain": [
       "10"
      ]
     },
     "execution_count": 10,
     "metadata": {},
     "output_type": "execute_result"
    }
   ],
   "source": [
    "len(x_bins)"
   ]
  },
  {
   "cell_type": "code",
   "execution_count": 11,
   "metadata": {},
   "outputs": [],
   "source": [
    "tensor = []\n",
    "for c in range(count):\n",
    "    tmp = [[0 for __ in y_bins] for _ in x_bins]\n",
    "    x_dig = np.digitize(xt[c], x_bins, right=True)\n",
    "    y_dig = np.digitize(yt[c], y_bins, right=True)\n",
    "    #print(x_dig, y_dig)\n",
    "    tmp[x_dig][y_dig] = 1.0\n",
    "    tensor.append(tmp)\n",
    "#tensor = np.asarray(tensor)"
   ]
  },
  {
   "cell_type": "code",
   "execution_count": 12,
   "metadata": {},
   "outputs": [],
   "source": [
    "for t in tensor:\n",
    "    #print(t)\n",
    "    pass"
   ]
  },
  {
   "cell_type": "code",
   "execution_count": 13,
   "metadata": {},
   "outputs": [
    {
     "data": {
      "text/plain": [
       "Text(0, 0.5, 'Y(t)')"
      ]
     },
     "execution_count": 13,
     "metadata": {},
     "output_type": "execute_result"
    },
    {
     "data": {
      "image/png": "[encoded data removed]",
      "text/plain": [
       "<Figure size 432x288 with 1 Axes>"
      ]
     },
     "metadata": {
      "needs_background": "light"
     },
     "output_type": "display_data"
    }
   ],
   "source": [
    "plt.plot(xt, yt, '-o')\n",
    "plt.xlabel('X(t)')\n",
    "plt.ylabel('Y(t)')"
   ]
  },
  {
   "cell_type": "code",
   "execution_count": 14,
   "metadata": {},
   "outputs": [
    {
     "data": {
      "text/plain": [
       "Text(0, 0.5, 'X(t)')"
      ]
     },
     "execution_count": 14,
     "metadata": {},
     "output_type": "execute_result"
    },
    {
     "data": {
      "image/png": "[encoded data removed]",
      "text/plain": [
       "<Figure size 432x288 with 1 Axes>"
      ]
     },
     "metadata": {
      "needs_background": "light"
     },
     "output_type": "display_data"
    }
   ],
   "source": [
    "plt.plot(range(len(xt)), [np.digitize(x, x_bins) for x in xt], '-o')\n",
    "plt.xlabel('t')\n",
    "plt.ylabel('X(t)')"
   ]
  },
  {
   "cell_type": "code",
   "execution_count": 15,
   "metadata": {},
   "outputs": [
    {
     "data": {
      "text/plain": [
       "Text(0, 0.5, 'Y(t)')"
      ]
     },
     "execution_count": 15,
     "metadata": {},
     "output_type": "execute_result"
    },
    {
     "data": {
      "image/png": "[encoded data removed]",
      "text/plain": [
       "<Figure size 432x288 with 1 Axes>"
      ]
     },
     "metadata": {
      "needs_background": "light"
     },
     "output_type": "display_data"
    }
   ],
   "source": [
    "plt.plot(range(len(yt)), [np.digitize(y, y_bins) for y in yt], '-o')\n",
    "plt.xlabel('t')\n",
    "plt.ylabel('Y(t)')"
   ]
  },
  {
   "cell_type": "code",
   "execution_count": 16,
   "metadata": {},
   "outputs": [
    {
     "data": {
      "text/plain": [
       "Text(0, 0.5, 'Y(t)')"
      ]
     },
     "execution_count": 16,
     "metadata": {},
     "output_type": "execute_result"
    },
    {
     "data": {
      "image/png": "[encoded data removed]",
      "text/plain": [
       "<Figure size 432x288 with 1 Axes>"
      ]
     },
     "metadata": {
      "needs_background": "light"
     },
     "output_type": "display_data"
    }
   ],
   "source": [
    "plt.plot([np.digitize(x, x_bins) for x in xt], [np.digitize(y, y_bins) for y in yt], '-o')\n",
    "plt.xlabel('X(t)')\n",
    "plt.ylabel('Y(t)')"
   ]
  },
  {
   "cell_type": "markdown",
   "metadata": {},
   "source": [
    "# Tensor Factorization"
   ]
  },
  {
   "cell_type": "code",
   "execution_count": 17,
   "metadata": {},
   "outputs": [],
   "source": [
    "tl_tensor = tl.tensor(tensor)"
   ]
  },
  {
   "cell_type": "code",
   "execution_count": 18,
   "metadata": {},
   "outputs": [],
   "source": [
    "def plot_factors(factors, d=3, factor_labels = [\"Time\", \"Features\", \"Time\"]):\n",
    "    assert d == len(factor_labels), \"The lenght of factor_labels must match d\"\n",
    "    rank = factors[0].shape[1]\n",
    "    fig, axes = plt.subplots(rank, d, figsize=(8, int(rank * 1.2 + 1)))\n",
    "    factors_name = factor_labels\n",
    "    if rank > 1:\n",
    "        for ind, (factor, axs) in enumerate(zip(factors[:d], axes.T)):\n",
    "            axs[-1].set_xlabel(factors_name[ind])\n",
    "            for i, (f, ax) in enumerate(zip(factor.T, axs)):\n",
    "                sns.despine(top=True, ax=ax)\n",
    "                ax.bar(range(len(f)),f)\n",
    "                axes[i, 0].set_ylabel(\"Factor \" + str(i+1))\n",
    "    else:\n",
    "        for ind, factor, in enumerate(factors[:d]):\n",
    "            ax = axes[ind]\n",
    "            ax.set_xlabel(factors_name[ind])\n",
    "            for i, f in enumerate(factor.T):\n",
    "                sns.despine(top=True, ax=ax)\n",
    "                ax.bar(range(len(f)),f)\n",
    "                ax.set_ylabel(\"Factor \" + str(i+1))\n",
    "    fig.tight_layout()"
   ]
  },
  {
   "cell_type": "code",
   "execution_count": 19,
   "metadata": {},
   "outputs": [],
   "source": [
    "r = 3"
   ]
  },
  {
   "cell_type": "code",
   "execution_count": 20,
   "metadata": {},
   "outputs": [],
   "source": [
    "cp_tf = non_negative_parafac(tl_tensor,\n",
    "                             r,\n",
    "                             normalize_factors=False\n",
    "                            )"
   ]
  },
  {
   "cell_type": "code",
   "execution_count": 21,
   "metadata": {},
   "outputs": [],
   "source": [
    "tucker_tf = non_negative_tucker(tl_tensor,\n",
    "                                [r, r, r, r]\n",
    "                               )"
   ]
  },
  {
   "cell_type": "code",
   "execution_count": 22,
   "metadata": {},
   "outputs": [
    {
     "data": {
      "image/png": "[encoded data removed]",
      "text/plain": [
       "<Figure size 576x288 with 9 Axes>"
      ]
     },
     "metadata": {
      "needs_background": "light"
     },
     "output_type": "display_data"
    }
   ],
   "source": [
    "plot_factors(cp_tf.factors,\n",
    "             d=3,\n",
    "             factor_labels=['Time', 'X', 'Y']\n",
    "            )"
   ]
  },
  {
   "cell_type": "code",
   "execution_count": 23,
   "metadata": {},
   "outputs": [
    {
     "data": {
      "image/png": "[encoded data removed]",
      "text/plain": [
       "<Figure size 576x288 with 9 Axes>"
      ]
     },
     "metadata": {
      "needs_background": "light"
     },
     "output_type": "display_data"
    }
   ],
   "source": [
    "plot_factors(tucker_tf.factors,\n",
    "             d=3,\n",
    "             factor_labels=['Time', 'X', 'Y'])"
   ]
  },
  {
   "cell_type": "code",
   "execution_count": null,
   "metadata": {},
   "outputs": [],
   "source": []
  },
  {
   "cell_type": "code",
   "execution_count": null,
   "metadata": {},
   "outputs": [],
   "source": []
  }
 ],
 "metadata": {
  "kernelspec": {
   "display_name": "Python 3",
   "language": "python",
   "name": "python3"
  },
  "language_info": {
   "codemirror_mode": {
    "name": "ipython",
    "version": 3
   },
   "file_extension": ".py",
   "mimetype": "text/x-python",
   "name": "python",
   "nbconvert_exporter": "python",
   "pygments_lexer": "ipython3",
   "version": "3.7.0"
  }
 },
 "nbformat": 4,
 "nbformat_minor": 4
}
