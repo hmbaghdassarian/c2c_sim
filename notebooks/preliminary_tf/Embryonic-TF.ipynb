{
 "cells": [
  {
   "cell_type": "code",
   "execution_count": 58,
   "metadata": {},
   "outputs": [],
   "source": [
    "import cell2cell as c2c\n",
    "import numpy as np\n",
    "import pandas as pd\n",
    "\n",
    "import tensorly as tl\n",
    "from tensorly.decomposition import non_negative_tucker, non_negative_parafac \n",
    "\n",
    "\n",
    "import matplotlib.pyplot as plt\n",
    "import seaborn as sns\n",
    "%matplotlib inline"
   ]
  },
  {
   "cell_type": "markdown",
   "metadata": {},
   "source": [
    "# Load Data"
   ]
  },
  {
   "cell_type": "code",
   "execution_count": 2,
   "metadata": {},
   "outputs": [
    {
     "name": "stdout",
     "output_type": "stream",
     "text": [
      "Opening RNAseq datasets from Celegans_Embryonic_RNASeqData_Warner.txt\n",
      "Celegans_Embryonic_RNASeqData_Warner.txt was correctly loaded\n"
     ]
    }
   ],
   "source": [
    "rnaseq_data = c2c.io.load_rnaseq('Celegans_Embryonic_RNASeqData_Warner.txt',\n",
    "                                 gene_column='CommonName',\n",
    "                                 drop_nangenes=True,\n",
    "                                 log_transformation=False,\n",
    "                                 format='csv',\n",
    "                                 sep=','\n",
    "                                )"
   ]
  },
  {
   "cell_type": "code",
   "execution_count": 3,
   "metadata": {},
   "outputs": [
    {
     "data": {
      "text/html": [
       "<div>\n",
       "<style scoped>\n",
       "    .dataframe tbody tr th:only-of-type {\n",
       "        vertical-align: middle;\n",
       "    }\n",
       "\n",
       "    .dataframe tbody tr th {\n",
       "        vertical-align: top;\n",
       "    }\n",
       "\n",
       "    .dataframe thead th {\n",
       "        text-align: right;\n",
       "    }\n",
       "</style>\n",
       "<table border=\"1\" class=\"dataframe\">\n",
       "  <thead>\n",
       "    <tr style=\"text-align: right;\">\n",
       "      <th></th>\n",
       "      <th>ceh32_T0</th>\n",
       "      <th>ceh32_T1</th>\n",
       "      <th>ceh32_T2</th>\n",
       "      <th>ceh32_T3</th>\n",
       "      <th>ceh32_T4</th>\n",
       "      <th>cnd1_T0</th>\n",
       "      <th>cnd1_T1</th>\n",
       "      <th>cnd1_T2</th>\n",
       "      <th>cnd1_T3</th>\n",
       "      <th>cnd1_T4</th>\n",
       "      <th>...</th>\n",
       "      <th>pha4_T0</th>\n",
       "      <th>pha4_T1</th>\n",
       "      <th>pha4_T2</th>\n",
       "      <th>pha4_T3</th>\n",
       "      <th>pha4_T4</th>\n",
       "      <th>tbx37_T0</th>\n",
       "      <th>tbx37_T1</th>\n",
       "      <th>tbx37_T2</th>\n",
       "      <th>tbx37_T3</th>\n",
       "      <th>tbx37_T4</th>\n",
       "    </tr>\n",
       "    <tr>\n",
       "      <th>CommonName</th>\n",
       "      <th></th>\n",
       "      <th></th>\n",
       "      <th></th>\n",
       "      <th></th>\n",
       "      <th></th>\n",
       "      <th></th>\n",
       "      <th></th>\n",
       "      <th></th>\n",
       "      <th></th>\n",
       "      <th></th>\n",
       "      <th></th>\n",
       "      <th></th>\n",
       "      <th></th>\n",
       "      <th></th>\n",
       "      <th></th>\n",
       "      <th></th>\n",
       "      <th></th>\n",
       "      <th></th>\n",
       "      <th></th>\n",
       "      <th></th>\n",
       "      <th></th>\n",
       "    </tr>\n",
       "  </thead>\n",
       "  <tbody>\n",
       "    <tr>\n",
       "      <th>aap-1</th>\n",
       "      <td>43.133459</td>\n",
       "      <td>50.658138</td>\n",
       "      <td>50.414970</td>\n",
       "      <td>35.766857</td>\n",
       "      <td>33.895195</td>\n",
       "      <td>58.599474</td>\n",
       "      <td>66.939721</td>\n",
       "      <td>61.222382</td>\n",
       "      <td>65.702870</td>\n",
       "      <td>47.982343</td>\n",
       "      <td>...</td>\n",
       "      <td>52.616365</td>\n",
       "      <td>60.825204</td>\n",
       "      <td>51.979991</td>\n",
       "      <td>43.455773</td>\n",
       "      <td>30.967278</td>\n",
       "      <td>51.326500</td>\n",
       "      <td>50.654093</td>\n",
       "      <td>49.112858</td>\n",
       "      <td>43.996665</td>\n",
       "      <td>33.075259</td>\n",
       "    </tr>\n",
       "    <tr>\n",
       "      <th>aat-1</th>\n",
       "      <td>1.621625</td>\n",
       "      <td>3.189402</td>\n",
       "      <td>9.831904</td>\n",
       "      <td>23.548271</td>\n",
       "      <td>22.726582</td>\n",
       "      <td>4.778361</td>\n",
       "      <td>11.748554</td>\n",
       "      <td>20.488394</td>\n",
       "      <td>23.204268</td>\n",
       "      <td>30.890648</td>\n",
       "      <td>...</td>\n",
       "      <td>6.237194</td>\n",
       "      <td>59.957473</td>\n",
       "      <td>130.003444</td>\n",
       "      <td>388.127157</td>\n",
       "      <td>433.615700</td>\n",
       "      <td>11.542751</td>\n",
       "      <td>15.744846</td>\n",
       "      <td>37.220783</td>\n",
       "      <td>102.917061</td>\n",
       "      <td>144.728664</td>\n",
       "    </tr>\n",
       "    <tr>\n",
       "      <th>aat-2</th>\n",
       "      <td>5.496731</td>\n",
       "      <td>12.937667</td>\n",
       "      <td>21.763256</td>\n",
       "      <td>29.827811</td>\n",
       "      <td>37.708772</td>\n",
       "      <td>12.952399</td>\n",
       "      <td>24.959862</td>\n",
       "      <td>25.108797</td>\n",
       "      <td>39.361573</td>\n",
       "      <td>44.727870</td>\n",
       "      <td>...</td>\n",
       "      <td>11.464360</td>\n",
       "      <td>41.773713</td>\n",
       "      <td>51.860603</td>\n",
       "      <td>57.235038</td>\n",
       "      <td>45.479755</td>\n",
       "      <td>7.449374</td>\n",
       "      <td>12.206810</td>\n",
       "      <td>18.608906</td>\n",
       "      <td>31.577895</td>\n",
       "      <td>37.431819</td>\n",
       "    </tr>\n",
       "    <tr>\n",
       "      <th>aat-3</th>\n",
       "      <td>61.400820</td>\n",
       "      <td>136.940807</td>\n",
       "      <td>198.831633</td>\n",
       "      <td>197.640775</td>\n",
       "      <td>219.688245</td>\n",
       "      <td>181.914836</td>\n",
       "      <td>260.822516</td>\n",
       "      <td>225.358789</td>\n",
       "      <td>303.181266</td>\n",
       "      <td>218.492232</td>\n",
       "      <td>...</td>\n",
       "      <td>111.998325</td>\n",
       "      <td>289.777602</td>\n",
       "      <td>288.678800</td>\n",
       "      <td>285.776295</td>\n",
       "      <td>186.243517</td>\n",
       "      <td>151.952176</td>\n",
       "      <td>203.938290</td>\n",
       "      <td>266.344493</td>\n",
       "      <td>303.632732</td>\n",
       "      <td>272.697353</td>\n",
       "    </tr>\n",
       "    <tr>\n",
       "      <th>aat-4</th>\n",
       "      <td>0.204774</td>\n",
       "      <td>1.159116</td>\n",
       "      <td>0.832428</td>\n",
       "      <td>0.591529</td>\n",
       "      <td>0.827419</td>\n",
       "      <td>0.285891</td>\n",
       "      <td>0.305862</td>\n",
       "      <td>0.466678</td>\n",
       "      <td>0.293390</td>\n",
       "      <td>0.913105</td>\n",
       "      <td>...</td>\n",
       "      <td>0.106712</td>\n",
       "      <td>0.948339</td>\n",
       "      <td>0.866276</td>\n",
       "      <td>1.472586</td>\n",
       "      <td>1.381153</td>\n",
       "      <td>0.406641</td>\n",
       "      <td>0.378540</td>\n",
       "      <td>0.714584</td>\n",
       "      <td>0.477434</td>\n",
       "      <td>0.734048</td>\n",
       "    </tr>\n",
       "  </tbody>\n",
       "</table>\n",
       "<p>5 rows × 35 columns</p>\n",
       "</div>"
      ],
      "text/plain": [
       "             ceh32_T0    ceh32_T1    ceh32_T2    ceh32_T3    ceh32_T4  \\\n",
       "CommonName                                                              \n",
       "aap-1       43.133459   50.658138   50.414970   35.766857   33.895195   \n",
       "aat-1        1.621625    3.189402    9.831904   23.548271   22.726582   \n",
       "aat-2        5.496731   12.937667   21.763256   29.827811   37.708772   \n",
       "aat-3       61.400820  136.940807  198.831633  197.640775  219.688245   \n",
       "aat-4        0.204774    1.159116    0.832428    0.591529    0.827419   \n",
       "\n",
       "               cnd1_T0     cnd1_T1     cnd1_T2     cnd1_T3     cnd1_T4  ...  \\\n",
       "CommonName                                                              ...   \n",
       "aap-1        58.599474   66.939721   61.222382   65.702870   47.982343  ...   \n",
       "aat-1         4.778361   11.748554   20.488394   23.204268   30.890648  ...   \n",
       "aat-2        12.952399   24.959862   25.108797   39.361573   44.727870  ...   \n",
       "aat-3       181.914836  260.822516  225.358789  303.181266  218.492232  ...   \n",
       "aat-4         0.285891    0.305862    0.466678    0.293390    0.913105  ...   \n",
       "\n",
       "               pha4_T0     pha4_T1     pha4_T2     pha4_T3     pha4_T4  \\\n",
       "CommonName                                                               \n",
       "aap-1        52.616365   60.825204   51.979991   43.455773   30.967278   \n",
       "aat-1         6.237194   59.957473  130.003444  388.127157  433.615700   \n",
       "aat-2        11.464360   41.773713   51.860603   57.235038   45.479755   \n",
       "aat-3       111.998325  289.777602  288.678800  285.776295  186.243517   \n",
       "aat-4         0.106712    0.948339    0.866276    1.472586    1.381153   \n",
       "\n",
       "              tbx37_T0    tbx37_T1    tbx37_T2    tbx37_T3    tbx37_T4  \n",
       "CommonName                                                              \n",
       "aap-1        51.326500   50.654093   49.112858   43.996665   33.075259  \n",
       "aat-1        11.542751   15.744846   37.220783  102.917061  144.728664  \n",
       "aat-2         7.449374   12.206810   18.608906   31.577895   37.431819  \n",
       "aat-3       151.952176  203.938290  266.344493  303.632732  272.697353  \n",
       "aat-4         0.406641    0.378540    0.714584    0.477434    0.734048  \n",
       "\n",
       "[5 rows x 35 columns]"
      ]
     },
     "execution_count": 3,
     "metadata": {},
     "output_type": "execute_result"
    }
   ],
   "source": [
    "rnaseq_data.head()"
   ]
  },
  {
   "cell_type": "code",
   "execution_count": 33,
   "metadata": {},
   "outputs": [],
   "source": [
    "ppi_data = pd.read_excel('Celegans-Curated-LR-pairs.xlsx')"
   ]
  },
  {
   "cell_type": "code",
   "execution_count": 34,
   "metadata": {},
   "outputs": [],
   "source": [
    "ppi_data = ppi_data.loc[(ppi_data['Ligand_symbol'].isin(rnaseq_data.index)) \\\n",
    "                        & (ppi_data['Receptor_symbol'].isin(rnaseq_data.index))]"
   ]
  },
  {
   "cell_type": "code",
   "execution_count": 35,
   "metadata": {},
   "outputs": [],
   "source": [
    "ppi_data.sort_values(by='LR Function', inplace=True)"
   ]
  },
  {
   "cell_type": "code",
   "execution_count": 36,
   "metadata": {},
   "outputs": [
    {
     "data": {
      "text/html": [
       "<div>\n",
       "<style scoped>\n",
       "    .dataframe tbody tr th:only-of-type {\n",
       "        vertical-align: middle;\n",
       "    }\n",
       "\n",
       "    .dataframe tbody tr th {\n",
       "        vertical-align: top;\n",
       "    }\n",
       "\n",
       "    .dataframe thead th {\n",
       "        text-align: right;\n",
       "    }\n",
       "</style>\n",
       "<table border=\"1\" class=\"dataframe\">\n",
       "  <thead>\n",
       "    <tr style=\"text-align: right;\">\n",
       "      <th></th>\n",
       "      <th>Ligand_WB</th>\n",
       "      <th>Receptor_WB</th>\n",
       "      <th>Ligand_symbol</th>\n",
       "      <th>Receptor_symbol</th>\n",
       "      <th>LR Function</th>\n",
       "      <th>L Function</th>\n",
       "      <th>R Function</th>\n",
       "      <th>Ligand_desc</th>\n",
       "      <th>Receptor_desc</th>\n",
       "    </tr>\n",
       "  </thead>\n",
       "  <tbody>\n",
       "    <tr>\n",
       "      <th>242</th>\n",
       "      <td>WBGene00006444</td>\n",
       "      <td>WBGene00000415</td>\n",
       "      <td>shn-1</td>\n",
       "      <td>ced-1</td>\n",
       "      <td>Apoptosis</td>\n",
       "      <td>SH repeat</td>\n",
       "      <td>SREC</td>\n",
       "      <td>Is an ortholog of human SHANK1 (SH3 and multip...</td>\n",
       "      <td>Is an ortholog of human MEGF10 (multiple EGF l...</td>\n",
       "    </tr>\n",
       "    <tr>\n",
       "      <th>127</th>\n",
       "      <td>WBGene00001185</td>\n",
       "      <td>WBGene00001184</td>\n",
       "      <td>egl-17</td>\n",
       "      <td>egl-15</td>\n",
       "      <td>Canonical RTK-Ras-ERK signaling</td>\n",
       "      <td>FGF8</td>\n",
       "      <td>FGF-R</td>\n",
       "      <td>Is an ortholog of human FGF17 (fibroblast grow...</td>\n",
       "      <td>Is an ortholog of human FGFR1 (fibroblast grow...</td>\n",
       "    </tr>\n",
       "    <tr>\n",
       "      <th>39</th>\n",
       "      <td>WBGene00001185</td>\n",
       "      <td>WBGene00022418</td>\n",
       "      <td>egl-17</td>\n",
       "      <td>igcm-4</td>\n",
       "      <td>Canonical RTK-Ras-ERK signaling</td>\n",
       "      <td>FGF8</td>\n",
       "      <td>FGFR</td>\n",
       "      <td>Is an ortholog of human FGF17 (fibroblast grow...</td>\n",
       "      <td>Is an ortholog of human FGFRL1 (fibroblast gro...</td>\n",
       "    </tr>\n",
       "    <tr>\n",
       "      <th>165</th>\n",
       "      <td>WBGene00006787</td>\n",
       "      <td>WBGene00002299</td>\n",
       "      <td>unc-52</td>\n",
       "      <td>let-23</td>\n",
       "      <td>Canonical RTK-Ras-ERK signaling</td>\n",
       "      <td>Perlecan (secreted heparan sulfate proteoglycan)</td>\n",
       "      <td>EGF-R</td>\n",
       "      <td>Is an ortholog of human HSPG2 (heparan sulfate...</td>\n",
       "      <td>Is an ortholog of human ERBB4 (erb-b2 receptor...</td>\n",
       "    </tr>\n",
       "    <tr>\n",
       "      <th>5</th>\n",
       "      <td>WBGene00002881</td>\n",
       "      <td>WBGene00004749</td>\n",
       "      <td>let-756</td>\n",
       "      <td>sdn-1</td>\n",
       "      <td>Canonical RTK-Ras-ERK signaling</td>\n",
       "      <td>FGF</td>\n",
       "      <td>Syndecan 1 (forms complexes with FGFR)</td>\n",
       "      <td>Is an ortholog of human FGF16 (fibroblast grow...</td>\n",
       "      <td>Is an ortholog of human SDC1 (syndecan 1). Is ...</td>\n",
       "    </tr>\n",
       "  </tbody>\n",
       "</table>\n",
       "</div>"
      ],
      "text/plain": [
       "          Ligand_WB     Receptor_WB Ligand_symbol Receptor_symbol  \\\n",
       "242  WBGene00006444  WBGene00000415         shn-1           ced-1   \n",
       "127  WBGene00001185  WBGene00001184        egl-17          egl-15   \n",
       "39   WBGene00001185  WBGene00022418        egl-17          igcm-4   \n",
       "165  WBGene00006787  WBGene00002299        unc-52          let-23   \n",
       "5    WBGene00002881  WBGene00004749       let-756           sdn-1   \n",
       "\n",
       "                         LR Function  \\\n",
       "242                        Apoptosis   \n",
       "127  Canonical RTK-Ras-ERK signaling   \n",
       "39   Canonical RTK-Ras-ERK signaling   \n",
       "165  Canonical RTK-Ras-ERK signaling   \n",
       "5    Canonical RTK-Ras-ERK signaling   \n",
       "\n",
       "                                           L Function  \\\n",
       "242                                         SH repeat   \n",
       "127                                              FGF8   \n",
       "39                                               FGF8   \n",
       "165  Perlecan (secreted heparan sulfate proteoglycan)   \n",
       "5                                                 FGF   \n",
       "\n",
       "                                 R Function  \\\n",
       "242                                    SREC   \n",
       "127                                   FGF-R   \n",
       "39                                     FGFR   \n",
       "165                                   EGF-R   \n",
       "5    Syndecan 1 (forms complexes with FGFR)   \n",
       "\n",
       "                                           Ligand_desc  \\\n",
       "242  Is an ortholog of human SHANK1 (SH3 and multip...   \n",
       "127  Is an ortholog of human FGF17 (fibroblast grow...   \n",
       "39   Is an ortholog of human FGF17 (fibroblast grow...   \n",
       "165  Is an ortholog of human HSPG2 (heparan sulfate...   \n",
       "5    Is an ortholog of human FGF16 (fibroblast grow...   \n",
       "\n",
       "                                         Receptor_desc  \n",
       "242  Is an ortholog of human MEGF10 (multiple EGF l...  \n",
       "127  Is an ortholog of human FGFR1 (fibroblast grow...  \n",
       "39   Is an ortholog of human FGFRL1 (fibroblast gro...  \n",
       "165  Is an ortholog of human ERBB4 (erb-b2 receptor...  \n",
       "5    Is an ortholog of human SDC1 (syndecan 1). Is ...  "
      ]
     },
     "execution_count": 36,
     "metadata": {},
     "output_type": "execute_result"
    }
   ],
   "source": [
    "ppi_data.head()"
   ]
  },
  {
   "cell_type": "code",
   "execution_count": 37,
   "metadata": {},
   "outputs": [
    {
     "data": {
      "text/plain": [
       "(244, 9)"
      ]
     },
     "execution_count": 37,
     "metadata": {},
     "output_type": "execute_result"
    }
   ],
   "source": [
    "ppi_data.shape"
   ]
  },
  {
   "cell_type": "markdown",
   "metadata": {},
   "source": [
    "# Analysis"
   ]
  },
  {
   "cell_type": "code",
   "execution_count": 134,
   "metadata": {},
   "outputs": [],
   "source": [
    "times = {'T0' : '120',\n",
    "         'T1' : '210',\n",
    "         'T2' : '300',\n",
    "         'T3' : '390',\n",
    "         'T4' : '480'\n",
    "        }"
   ]
  },
  {
   "cell_type": "code",
   "execution_count": 135,
   "metadata": {},
   "outputs": [],
   "source": [
    "markers = {'hlh1' : 'Muscles & Coelomocytes',\n",
    "           'end1' : 'Intestine',\n",
    "           'cnd1' : 'Neurons',\n",
    "           'pha4' : 'Pharynx',\n",
    "           'nhr25end1' : 'Hypodermis',\n",
    "           'ceh32' : 'ABala-derived (Neurons & Glial Cells)',\n",
    "           'tbx37' : 'ABa-derived (Neurons, Phrarynx & Hypodermis)'\n",
    "          }"
   ]
  },
  {
   "cell_type": "code",
   "execution_count": 136,
   "metadata": {},
   "outputs": [],
   "source": [
    "times = ['T0', 'T1', 'T2', 'T3', 'T4']\n",
    "total_cells = list(set([x.split('_')[0] for x in rnaseq_data.columns]))"
   ]
  },
  {
   "cell_type": "code",
   "execution_count": 137,
   "metadata": {},
   "outputs": [],
   "source": [
    "def plot_factors(factors, d=3, factor_labels = [\"Time\", \"Features\", \"Time\"]):\n",
    "    assert d == len(factor_labels), \"The lenght of factor_labels must match d\"\n",
    "    rank = factors[0].shape[1]\n",
    "    fig, axes = plt.subplots(rank, d, figsize=(8, int(rank * 1.2 + 1)))\n",
    "    factors_name = factor_labels\n",
    "    if rank > 1:\n",
    "        for ind, (factor, axs) in enumerate(zip(factors[:d], axes.T)):\n",
    "            axs[-1].set_xlabel(factors_name[ind])\n",
    "            for i, (f, ax) in enumerate(zip(factor.T, axs)):\n",
    "                sns.despine(top=True, ax=ax)\n",
    "                ax.bar(range(len(f)),f)\n",
    "                axes[i, 0].set_ylabel(\"Factor \" + str(i+1))\n",
    "    else:\n",
    "        for ind, factor, in enumerate(factors[:d]):\n",
    "            ax = axes[ind]\n",
    "            ax.set_xlabel(factors_name[ind])\n",
    "            for i, f in enumerate(factor.T):\n",
    "                sns.despine(top=True, ax=ax)\n",
    "                ax.bar(range(len(f)),f)\n",
    "                ax.set_ylabel(\"Factor \" + str(i+1))\n",
    "    fig.tight_layout()"
   ]
  },
  {
   "cell_type": "code",
   "execution_count": 207,
   "metadata": {},
   "outputs": [],
   "source": [
    "def generate_temporal_ccc_tensor(input_rnaseq,\n",
    "                                 lr_pairs,\n",
    "                                 times,\n",
    "                                 cell_labels,\n",
    "                                 ligand_col='Ligand_symbol',\n",
    "                                 receptor_col='Receptor_symbol',\n",
    "                                ):\n",
    "\n",
    "    time_tensor = []\n",
    "\n",
    "    for T in times:\n",
    "        cell_time = [c + '_' + T for c in total_cells]\n",
    "        ccc_tensor = []\n",
    "        df = input_rnaseq[cell_time]\n",
    "        for idx, lr in lr_pairs.iterrows():\n",
    "            ligand_v = df.loc[lr[ligand_col],:].values\n",
    "            receptor_v = df.loc[lr[receptor_col],:].values\n",
    "            ccc_tensor.append(np.outer(ligand_v, receptor_v).tolist())\n",
    "        time_tensor.append(ccc_tensor)\n",
    "    return time_tensor"
   ]
  },
  {
   "cell_type": "code",
   "execution_count": 208,
   "metadata": {},
   "outputs": [],
   "source": [
    "binary_rnaseq = rnaseq_data.gt(10).astype(float)\n",
    "continuous_rnaseq = np.log2(rnaseq_data+1.0)"
   ]
  },
  {
   "cell_type": "code",
   "execution_count": 209,
   "metadata": {},
   "outputs": [],
   "source": [
    "binary_tensor = generate_temporal_ccc_tensor(binary_rnaseq,\n",
    "                                             ppi_data, \n",
    "                                             times, \n",
    "                                             total_cells,\n",
    "                                            )"
   ]
  },
  {
   "cell_type": "code",
   "execution_count": 210,
   "metadata": {},
   "outputs": [],
   "source": [
    "continuous_tensor = generate_temporal_ccc_tensor(continuous_rnaseq,\n",
    "                                                 ppi_data, \n",
    "                                                 times, \n",
    "                                                 total_cells,\n",
    "                                                )"
   ]
  },
  {
   "cell_type": "code",
   "execution_count": 214,
   "metadata": {},
   "outputs": [],
   "source": [
    "tl_b_tensor = tl.tensor(binary_tensor)"
   ]
  },
  {
   "cell_type": "code",
   "execution_count": 215,
   "metadata": {},
   "outputs": [],
   "source": [
    "tl_c_tensor = tl.tensor(continuous_tensor)"
   ]
  },
  {
   "cell_type": "code",
   "execution_count": 216,
   "metadata": {},
   "outputs": [],
   "source": [
    "r = 7"
   ]
  },
  {
   "cell_type": "code",
   "execution_count": 217,
   "metadata": {},
   "outputs": [],
   "source": [
    "b_cp_tf = non_negative_parafac(tl_b_tensor,\n",
    "                               r,\n",
    "                               normalize_factors=False\n",
    "                              )"
   ]
  },
  {
   "cell_type": "code",
   "execution_count": 218,
   "metadata": {},
   "outputs": [],
   "source": [
    "b_tucker_tf = non_negative_tucker(tl_b_tensor,\n",
    "                                [r, r, r, r]\n",
    "                               )"
   ]
  },
  {
   "cell_type": "code",
   "execution_count": 219,
   "metadata": {},
   "outputs": [
    {
     "data": {
      "image/png": "[encoded data removed]",
      "text/plain": [
       "<Figure size 576x648 with 28 Axes>"
      ]
     },
     "metadata": {
      "needs_background": "light"
     },
     "output_type": "display_data"
    }
   ],
   "source": [
    "plot_factors(b_cp_tf.factors, d=4, factor_labels=['Time', 'LRs', 'Sender', 'Receiver'])"
   ]
  },
  {
   "cell_type": "code",
   "execution_count": 220,
   "metadata": {},
   "outputs": [
    {
     "data": {
      "image/png": "[encoded data removed]",
      "text/plain": [
       "<Figure size 576x504 with 20 Axes>"
      ]
     },
     "metadata": {
      "needs_background": "light"
     },
     "output_type": "display_data"
    }
   ],
   "source": [
    "plot_factors(b_tucker_tf.factors, d=4, factor_labels=['Time', 'LRs', 'Sender', 'Receiver'])"
   ]
  },
  {
   "cell_type": "code",
   "execution_count": 222,
   "metadata": {},
   "outputs": [],
   "source": [
    "c_cp_tf = non_negative_parafac(tl_c_tensor,\n",
    "                               r,\n",
    "                               normalize_factors=False\n",
    "                              )"
   ]
  },
  {
   "cell_type": "code",
   "execution_count": 223,
   "metadata": {},
   "outputs": [],
   "source": [
    "c_tucker_tf = non_negative_tucker(tl_c_tensor,\n",
    "                                [r, r, r, r]\n",
    "                               )"
   ]
  },
  {
   "cell_type": "code",
   "execution_count": 224,
   "metadata": {},
   "outputs": [
    {
     "data": {
      "image/png": "[encoded data removed]",
      "text/plain": [
       "<Figure size 576x648 with 28 Axes>"
      ]
     },
     "metadata": {
      "needs_background": "light"
     },
     "output_type": "display_data"
    }
   ],
   "source": [
    "plot_factors(c_cp_tf.factors,\n",
    "             d=4,\n",
    "             factor_labels=['Time', 'LRs', 'Sender', 'Receiver']\n",
    "            )"
   ]
  },
  {
   "cell_type": "code",
   "execution_count": 225,
   "metadata": {},
   "outputs": [
    {
     "data": {
      "image/png": "[encoded data removed]",
      "text/plain": [
       "<Figure size 576x504 with 20 Axes>"
      ]
     },
     "metadata": {
      "needs_background": "light"
     },
     "output_type": "display_data"
    }
   ],
   "source": [
    "plot_factors(c_tucker_tf.factors,\n",
    "             d=4, \n",
    "             factor_labels=['Time', 'LRs', 'Sender', 'Receiver']\n",
    "            )"
   ]
  },
  {
   "cell_type": "code",
   "execution_count": 201,
   "metadata": {},
   "outputs": [
    {
     "data": {
      "text/plain": [
       "['Hypodermis',\n",
       " 'Muscles & Coelomocytes',\n",
       " 'Neurons',\n",
       " 'ABa-derived (Neurons, Phrarynx & Hypodermis)',\n",
       " 'Intestine',\n",
       " 'Pharynx',\n",
       " 'ABala-derived (Neurons & Glial Cells)']"
      ]
     },
     "execution_count": 201,
     "metadata": {},
     "output_type": "execute_result"
    }
   ],
   "source": [
    "[markers[c] for c in total_cells]"
   ]
  },
  {
   "cell_type": "code",
   "execution_count": 203,
   "metadata": {},
   "outputs": [
    {
     "data": {
      "text/plain": [
       "['Apoptosis',\n",
       " 'Canonical RTK-Ras-ERK signaling',\n",
       " 'Canonical RTK-Ras-ERK signaling',\n",
       " 'Canonical RTK-Ras-ERK signaling',\n",
       " 'Canonical RTK-Ras-ERK signaling',\n",
       " 'Canonical RTK-Ras-ERK signaling',\n",
       " 'Canonical RTK-Ras-ERK signaling',\n",
       " 'Canonical RTK-Ras-ERK signaling',\n",
       " 'Canonical RTK-Ras-ERK signaling',\n",
       " 'Cell adhesion',\n",
       " 'Cell adhesion',\n",
       " 'Cell adhesion',\n",
       " 'Cell adhesion',\n",
       " 'Cell adhesion',\n",
       " 'Cell adhesion',\n",
       " 'Cell adhesion',\n",
       " 'Cell adhesion',\n",
       " 'Cell adhesion',\n",
       " 'Cell adhesion',\n",
       " 'Cell adhesion',\n",
       " 'Cell adhesion',\n",
       " 'Cell adhesion',\n",
       " 'Cell adhesion',\n",
       " 'Cell adhesion',\n",
       " 'Cell adhesion',\n",
       " 'Cell adhesion',\n",
       " 'Cell adhesion',\n",
       " 'Cell adhesion',\n",
       " 'Cell adhesion',\n",
       " 'Cell adhesion',\n",
       " 'Cell adhesion',\n",
       " 'Cell adhesion',\n",
       " 'Cell adhesion',\n",
       " 'Cell adhesion',\n",
       " 'Cell adhesion',\n",
       " 'Cell adhesion',\n",
       " 'Cell adhesion',\n",
       " 'Cell adhesion',\n",
       " 'Cell adhesion',\n",
       " 'Cell adhesion',\n",
       " 'Cell adhesion',\n",
       " 'Cell adhesion',\n",
       " 'Cell adhesion',\n",
       " 'Cell adhesion',\n",
       " 'Cell adhesion',\n",
       " 'Cell adhesion',\n",
       " 'Cell adhesion',\n",
       " 'Cell adhesion',\n",
       " 'Cell adhesion',\n",
       " 'Cell adhesion',\n",
       " 'Cell adhesion',\n",
       " 'Cell adhesion',\n",
       " 'Cell adhesion',\n",
       " 'Cell adhesion',\n",
       " 'Cell migration',\n",
       " 'Cell migration',\n",
       " 'Cell migration',\n",
       " 'Cell migration',\n",
       " 'Cell migration',\n",
       " 'Cell migration',\n",
       " 'Cell migration',\n",
       " 'Cell migration',\n",
       " 'Cell migration',\n",
       " 'Cell migration',\n",
       " 'Cell migration',\n",
       " 'Cell migration',\n",
       " 'Cell migration',\n",
       " 'Cell migration',\n",
       " 'Cell migration',\n",
       " 'Cell migration',\n",
       " 'Cell migration',\n",
       " 'Cell migration',\n",
       " 'Cell migration',\n",
       " 'Cell migration',\n",
       " 'Cell migration',\n",
       " 'Cell migration',\n",
       " 'Cell migration',\n",
       " 'Cell migration',\n",
       " 'Cell migration',\n",
       " 'Cell migration',\n",
       " 'Cell migration',\n",
       " 'Eph receptor signaling',\n",
       " 'Eph receptor signaling',\n",
       " 'Eph receptor signaling',\n",
       " 'Eph receptor signaling',\n",
       " 'Eph receptor signaling',\n",
       " 'Eph receptor signaling',\n",
       " 'Epidermal development',\n",
       " 'Epidermal development',\n",
       " 'Epidermal development',\n",
       " 'Hedgehog signaling',\n",
       " 'Hedgehog signaling',\n",
       " 'Hedgehog signaling',\n",
       " 'Hedgehog signaling',\n",
       " 'Hedgehog signaling',\n",
       " 'Hedgehog signaling',\n",
       " 'Immune response',\n",
       " 'Insulin signaling',\n",
       " 'Insulin signaling',\n",
       " 'Insulin signaling',\n",
       " 'Insulin signaling',\n",
       " 'Insulin signaling',\n",
       " 'Insulin signaling',\n",
       " 'Insulin signaling',\n",
       " 'Insulin signaling',\n",
       " 'Insulin signaling',\n",
       " 'Insulin signaling',\n",
       " 'Insulin signaling',\n",
       " 'Insulin signaling',\n",
       " 'Insulin signaling',\n",
       " 'Insulin signaling',\n",
       " 'Insulin signaling',\n",
       " 'Insulin signaling',\n",
       " 'Insulin signaling',\n",
       " 'Insulin signaling',\n",
       " 'Insulin signaling',\n",
       " 'Insulin signaling',\n",
       " 'Insulin signaling',\n",
       " 'Insulin signaling',\n",
       " 'Insulin signaling',\n",
       " 'Insulin signaling',\n",
       " 'Insulin signaling',\n",
       " 'Insulin signaling',\n",
       " 'Insulin signaling',\n",
       " 'Insulin signaling',\n",
       " 'Insulin signaling',\n",
       " 'Insulin signaling',\n",
       " 'Insulin signaling',\n",
       " 'Insulin signaling',\n",
       " 'Insulin signaling',\n",
       " 'Insulin signaling',\n",
       " 'Insulin signaling',\n",
       " 'Insulin signaling',\n",
       " 'Insulin signaling',\n",
       " 'Lipid homeostasis',\n",
       " 'Lipid homeostasis',\n",
       " 'Lipid homeostasis',\n",
       " 'Longevity',\n",
       " 'Mechanosensory mechanism',\n",
       " 'Mechanosensory mechanism',\n",
       " 'Mechanosensory mechanism',\n",
       " 'Mechanosensory mechanism',\n",
       " 'Mechanosensory mechanism',\n",
       " 'Mechanosensory mechanism',\n",
       " 'Neuronal communication',\n",
       " 'Neuronal communication',\n",
       " 'Neuronal communication',\n",
       " 'Neuronal communication',\n",
       " 'Notch signaling',\n",
       " 'Notch signaling',\n",
       " 'Notch signaling',\n",
       " 'Notch signaling',\n",
       " 'Notch signaling',\n",
       " 'Notch signaling',\n",
       " 'Notch signaling',\n",
       " 'Notch signaling',\n",
       " 'Notch signaling',\n",
       " 'Notch signaling',\n",
       " 'Notch signaling',\n",
       " 'Notch signaling',\n",
       " 'Notch signaling',\n",
       " 'Notch signaling',\n",
       " 'Notch signaling',\n",
       " 'Notch signaling',\n",
       " 'Notch signaling',\n",
       " 'Notch signaling',\n",
       " 'Notch signaling',\n",
       " 'Notch signaling',\n",
       " 'Notch signaling',\n",
       " 'Notch signaling',\n",
       " 'Notch signaling',\n",
       " 'Notch signaling',\n",
       " 'PCP pathway',\n",
       " 'Receptor-Mediated-Endocytosis',\n",
       " 'Stress response',\n",
       " 'Stress response',\n",
       " 'Stress response',\n",
       " 'Stress response',\n",
       " 'Stress response',\n",
       " 'TGF-B signaling',\n",
       " 'TGF-B signaling',\n",
       " 'TGF-B signaling',\n",
       " 'TGF-B signaling',\n",
       " 'TGF-B signaling',\n",
       " 'TGF-B signaling',\n",
       " 'TGF-B signaling',\n",
       " 'TGF-B signaling',\n",
       " 'TGF-B signaling',\n",
       " 'TGF-B signaling',\n",
       " 'TGF-B signaling',\n",
       " 'TGF-B signaling',\n",
       " 'TGF-B signaling',\n",
       " 'TGF-B signaling',\n",
       " 'TGF-B signaling',\n",
       " 'TGF-B signaling',\n",
       " 'TGF-B signaling',\n",
       " 'TGF-B signaling',\n",
       " 'TGF-B signaling',\n",
       " 'Trypsin-like proteolysis',\n",
       " 'Wnt signaling',\n",
       " 'Wnt signaling',\n",
       " 'Wnt signaling',\n",
       " 'Wnt signaling',\n",
       " 'Wnt signaling',\n",
       " 'Wnt signaling',\n",
       " 'Wnt signaling',\n",
       " 'Wnt signaling',\n",
       " 'Wnt signaling',\n",
       " 'Wnt signaling',\n",
       " 'Wnt signaling',\n",
       " 'Wnt signaling',\n",
       " 'Wnt signaling',\n",
       " 'Wnt signaling',\n",
       " 'Wnt signaling',\n",
       " 'Wnt signaling',\n",
       " 'Wnt signaling',\n",
       " 'Wnt signaling',\n",
       " 'Wnt signaling',\n",
       " 'Wnt signaling',\n",
       " 'Wnt signaling',\n",
       " 'Wnt signaling',\n",
       " 'Wnt signaling',\n",
       " 'Wnt signaling',\n",
       " 'Wnt signaling',\n",
       " 'Wnt signaling',\n",
       " 'Wnt signaling',\n",
       " 'Wnt signaling',\n",
       " 'Wnt signaling',\n",
       " 'Wnt signaling',\n",
       " 'Wnt signaling',\n",
       " 'Wnt signaling',\n",
       " 'Wnt signaling',\n",
       " 'Wnt signaling',\n",
       " 'Wnt signaling',\n",
       " 'Wnt signaling',\n",
       " 'Wnt signaling',\n",
       " 'Wnt signaling',\n",
       " 'Wnt signaling',\n",
       " 'Wnt signaling',\n",
       " 'Wnt signaling',\n",
       " 'Wnt signaling',\n",
       " 'Wnt signaling',\n",
       " 'Wnt signaling',\n",
       " 'Wnt signaling']"
      ]
     },
     "execution_count": 203,
     "metadata": {},
     "output_type": "execute_result"
    }
   ],
   "source": [
    "ppi_data['LR Function'].values.tolist()"
   ]
  },
  {
   "cell_type": "code",
   "execution_count": null,
   "metadata": {},
   "outputs": [],
   "source": []
  }
 ],
 "metadata": {
  "kernelspec": {
   "display_name": "Python 3",
   "language": "python",
   "name": "python3"
  },
  "language_info": {
   "codemirror_mode": {
    "name": "ipython",
    "version": 3
   },
   "file_extension": ".py",
   "mimetype": "text/x-python",
   "name": "python",
   "nbconvert_exporter": "python",
   "pygments_lexer": "ipython3",
   "version": "3.7.0"
  }
 },
 "nbformat": 4,
 "nbformat_minor": 4
}
