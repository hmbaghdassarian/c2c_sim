{
 "cells": [
  {
   "cell_type": "code",
   "execution_count": 3,
   "metadata": {},
   "outputs": [],
   "source": [
    "import pandas as pd\n",
    "import numpy as np\n",
    "from scipy import optimize\n",
    "import numpy as np\n",
    "from scipy.stats import truncnorm"
   ]
  },
  {
   "cell_type": "code",
   "execution_count": 1,
   "metadata": {},
   "outputs": [],
   "source": [
    "def get_truncated_normal(n, sd, mean=0, low=0, upp=1):\n",
    "    return truncnorm(\n",
    "        (low - mean) / sd, (upp - mean) / sd, loc=mean, scale=sd).rvs(n)\n"
   ]
  },
  {
   "cell_type": "code",
   "execution_count": 4,
   "metadata": {},
   "outputs": [
    {
     "name": "stderr",
     "output_type": "stream",
     "text": [
      "/home/hratch/anaconda3/lib/python3.7/site-packages/scipy/optimize/minpack.py:799: OptimizeWarning: Covariance of the parameters could not be estimated\n",
      "  category=OptimizeWarning)\n"
     ]
    }
   ],
   "source": [
    "relat = pd.DataFrame(columns = ['mean', 'noise_mean'])\n",
    "counter = 0\n",
    "for mean in np.arange(0.01,1,0.001):\n",
    "    relat.loc[counter,:] = [mean, np.mean(get_truncated_normal(n = 10**5, sd = mean))] # noise = 1\n",
    "    counter += 1\n",
    "\n",
    "y = relat['noise_mean'].astype(float).values\n",
    "x = relat['mean'].astype(float).values\n",
    "             \n",
    "def piecewise_fit(x, x0, m, b, a,c, d):\n",
    "    return np.piecewise(x, [x < x0], [lambda x: m*x+b, lambda x: ((x-d)/c)**(1/a)])\n",
    "\n",
    "fit_params , e = optimize.curve_fit(piecewise_fit, x, y, \n",
    "                          p0 = [0.37, 7.93278070e-01, 5.11093685e-04, \n",
    "                               6.21557667, 78.41240029, 0.34450856])"
   ]
  }
 ],
 "metadata": {
  "kernelspec": {
   "display_name": "Python [conda env:cci_dt] *",
   "language": "python",
   "name": "conda-env-cci_dt-py"
  },
  "language_info": {
   "codemirror_mode": {
    "name": "ipython",
    "version": 3
   },
   "file_extension": ".py",
   "mimetype": "text/x-python",
   "name": "python",
   "nbconvert_exporter": "python",
   "pygments_lexer": "ipython3",
   "version": "3.7.9"
  }
 },
 "nbformat": 4,
 "nbformat_minor": 4
}
