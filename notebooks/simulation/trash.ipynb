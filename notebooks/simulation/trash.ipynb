{
 "cells": [
  {
   "cell_type": "code",
   "execution_count": 1,
   "metadata": {},
   "outputs": [
    {
     "name": "stderr",
     "output_type": "stream",
     "text": [
      "/home/hratch/anaconda3/lib/python3.7/site-packages/statsmodels/tools/_testing.py:19: FutureWarning: pandas.util.testing is deprecated. Use the functions in the public API at pandas.testing instead.\n",
      "  import pandas.util.testing as tm\n",
      "/home/hratch/anaconda3/lib/python3.7/site-packages/scipy/optimize/minpack.py:799: OptimizeWarning: Covariance of the parameters could not be estimated\n",
      "  category=OptimizeWarning)\n"
     ]
    }
   ],
   "source": [
    "from matplotlib import pyplot as plt\n",
    "import matplotlib.patches as mpatches\n",
    "import matplotlib.pyplot as plt\n",
    "import seaborn as sns\n",
    "\n",
    "import pandas as pd\n",
    "import numpy as np\n",
    "import itertools\n",
    "import random\n",
    "\n",
    "from tqdm import tqdm\n",
    "\n",
    "import gc\n",
    "\n",
    "import sys\n",
    "sys.path.insert(1, '../../scripts/')\n",
    "from simulation.utils import get_truncated_normal, piecewise_fit, fit_params\n",
    "from simulation.utils import relat,x\n",
    "from simulation.simulate import Simulate, CCI_MD\n",
    "\n",
    "dp = '/data2/hratch/cci_dt/figures/'"
   ]
  },
  {
   "cell_type": "markdown",
   "metadata": {},
   "source": [
    "# What does a tensor slice look like across noise?"
   ]
  },
  {
   "cell_type": "code",
   "execution_count": 2,
   "metadata": {},
   "outputs": [
    {
     "name": "stdout",
     "output_type": "stream",
     "text": [
      "/home/hratch/Projects/cci_dt/notebooks/simulation/tmprr_gngjz_bipartite_sf.csv\n",
      "Generate undirected, bipartite, scale-free graph\n",
      "Check network properties\n",
      "All properties are as expected\n",
      "Remove homotypic cell interactions for 1 categories\n"
     ]
    },
    {
     "name": "stderr",
     "output_type": "stream",
     "text": [
      "../../scripts/simulation/graphs.py:164: UserWarning: 1018 nodes are disconnected, removing from network\n",
      "  warnings.warn(mssg)\n",
      "../../scripts/simulation/simulate.py:498: UserWarning: No conditions specified, only a tensor slice will be generated\n",
      "  warnings.warn('No conditions specified, only a tensor slice will be generated')\n"
     ]
    }
   ],
   "source": [
    "# generate simulation object\n",
    "sim = Simulate() \n",
    "sim.LR_network(network_type = 'scale-free', **{'nodes': 1000, 'degrees': 3, 'alpha': 2}) #scale-free\n",
    "sim.LR.generate_metadata(n_LR_cats = {3: 0}, cat_skew = 0)\n",
    "\n",
    "cci = CCI_MD()\n",
    "cci.cci_network(n_cells = 50, directional = False)\n",
    "cci.generate_metadata(n_cell_cats = {3: 0}, cat_skew = 0, remove_homotypic = 1)\n",
    "\n",
    "sim.cci = cci \n",
    "sim.generate_tensor_md(n_patterns = 4, n_conditions = 0, patterns = ['pulse', 'linear', 'oscillate'])\n",
    "\n"
   ]
  },
  {
   "cell_type": "code",
   "execution_count": null,
   "metadata": {},
   "outputs": [],
   "source": [
    "# get background coordinates\n",
    "coords = list()\n",
    "for x in sim.clrm.ts_coordinates:\n",
    "    i,j = x[0], x[1]\n",
    "    coords += [(i[k], j[k]) for k in range(len(i))]\n",
    "all_coords = list(itertools.product(range(sim.ts_frame.shape[0]), range(sim.ts_frame.shape[1])))\n",
    "background_coords = list(set(all_coords).difference(coords))\n",
    "background_coords = [tuple([i[0] for i in background_coords]), tuple([i[1] for i in background_coords])]"
   ]
  },
  {
   "cell_type": "code",
   "execution_count": 3,
   "metadata": {
    "scrolled": true
   },
   "outputs": [
    {
     "name": "stderr",
     "output_type": "stream",
     "text": [
      "  0%|          | 0/11 [00:00<?, ?it/s]../../scripts/simulation/simulate.py:595: UserWarning: Only continuous scoring is currently implemented\n",
      "  warnings.warn('Only continuous scoring is currently implemented')\n"
     ]
    },
    {
     "name": "stdout",
     "output_type": "stream",
     "text": [
      "Generate background noise\n"
     ]
    },
    {
     "name": "stderr",
     "output_type": "stream",
     "text": [
      "\n",
      "  0%|          | 0/1 [00:00<?, ?it/s]\u001b[A../../scripts/simulation/simulate.py:619: FutureWarning: Using a non-tuple sequence for multidimensional indexing is deprecated; use `arr[tuple(seq)]` instead of `arr[seq]`. In the future this will be interpreted as an array index, `arr[np.array(seq)]`, which will result either in an error or a different result.\n",
      "  self.ts[cond].values[coords] = avg_val if noise == 0 else                                           utils.get_truncated_normal(n = len(coords[0]), sd = noise*avg_val, mean = avg_val)\n",
      "100%|██████████| 1/1 [00:00<00:00, 43.46it/s]\n",
      "/home/hratch/anaconda3/lib/python3.7/site-packages/ipykernel_launcher.py:7: FutureWarning: Using a non-tuple sequence for multidimensional indexing is deprecated; use `arr[tuple(seq)]` instead of `arr[seq]`. In the future this will be interpreted as an array index, `arr[np.array(seq)]`, which will result either in an error or a different result.\n",
      "  import sys\n",
      "/home/hratch/anaconda3/lib/python3.7/site-packages/ipykernel_launcher.py:21: FutureWarning: Using a non-tuple sequence for multidimensional indexing is deprecated; use `arr[tuple(seq)]` instead of `arr[seq]`. In the future this will be interpreted as an array index, `arr[np.array(seq)]`, which will result either in an error or a different result.\n",
      "  9%|▉         | 1/11 [00:04<00:44,  4.48s/it]\n",
      "  0%|          | 0/1 [00:00<?, ?it/s]\u001b[A"
     ]
    },
    {
     "name": "stdout",
     "output_type": "stream",
     "text": [
      "Generate background noise\n"
     ]
    },
    {
     "name": "stderr",
     "output_type": "stream",
     "text": [
      "\n",
      "100%|██████████| 1/1 [00:00<00:00,  1.95it/s]\u001b[A\n",
      "\n",
      "100%|██████████| 1/1 [00:00<00:00, 144.73it/s]\n",
      " 18%|█▊        | 2/11 [00:10<00:45,  5.06s/it]\n",
      "  0%|          | 0/1 [00:00<?, ?it/s]\u001b[A"
     ]
    },
    {
     "name": "stdout",
     "output_type": "stream",
     "text": [
      "Generate background noise\n"
     ]
    },
    {
     "name": "stderr",
     "output_type": "stream",
     "text": [
      "\n",
      "100%|██████████| 1/1 [00:00<00:00,  2.02it/s]\u001b[A\n",
      "\n",
      "100%|██████████| 1/1 [00:00<00:00, 137.50it/s]\n",
      " 27%|██▋       | 3/11 [00:19<00:49,  6.22s/it]\n",
      "  0%|          | 0/1 [00:00<?, ?it/s]\u001b[A"
     ]
    },
    {
     "name": "stdout",
     "output_type": "stream",
     "text": [
      "Generate background noise\n"
     ]
    },
    {
     "name": "stderr",
     "output_type": "stream",
     "text": [
      "\n",
      "100%|██████████| 1/1 [00:00<00:00,  2.06it/s]\u001b[A\n",
      "\n",
      "100%|██████████| 1/1 [00:00<00:00, 176.46it/s]\n",
      " 36%|███▋      | 4/11 [00:31<00:54,  7.83s/it]\n",
      "  0%|          | 0/1 [00:00<?, ?it/s]\u001b[A"
     ]
    },
    {
     "name": "stdout",
     "output_type": "stream",
     "text": [
      "Generate background noise\n"
     ]
    },
    {
     "name": "stderr",
     "output_type": "stream",
     "text": [
      "\n",
      "100%|██████████| 1/1 [00:00<00:00,  1.98it/s]\u001b[A\n",
      "\n",
      "100%|██████████| 1/1 [00:00<00:00, 173.10it/s]\n",
      " 45%|████▌     | 5/11 [00:45<00:57,  9.63s/it]\n",
      "  0%|          | 0/1 [00:00<?, ?it/s]\u001b[A"
     ]
    },
    {
     "name": "stdout",
     "output_type": "stream",
     "text": [
      "Generate background noise\n"
     ]
    },
    {
     "name": "stderr",
     "output_type": "stream",
     "text": [
      "\n",
      "100%|██████████| 1/1 [00:00<00:00,  2.01it/s]\u001b[A\n",
      "\n",
      "100%|██████████| 1/1 [00:00<00:00, 191.53it/s]\n",
      " 55%|█████▍    | 6/11 [01:01<00:58, 11.64s/it]\n",
      "  0%|          | 0/1 [00:00<?, ?it/s]\u001b[A"
     ]
    },
    {
     "name": "stdout",
     "output_type": "stream",
     "text": [
      "Generate background noise\n"
     ]
    },
    {
     "name": "stderr",
     "output_type": "stream",
     "text": [
      "\n",
      "100%|██████████| 1/1 [00:00<00:00,  1.97it/s]\u001b[A\n",
      "\n",
      "100%|██████████| 1/1 [00:00<00:00, 184.75it/s]\n",
      " 64%|██████▎   | 7/11 [01:20<00:55, 13.80s/it]\n",
      "  0%|          | 0/1 [00:00<?, ?it/s]\u001b[A"
     ]
    },
    {
     "name": "stdout",
     "output_type": "stream",
     "text": [
      "Generate background noise\n"
     ]
    },
    {
     "name": "stderr",
     "output_type": "stream",
     "text": [
      "\n",
      "100%|██████████| 1/1 [00:00<00:00,  1.95it/s]\u001b[A\n",
      "\n",
      "100%|██████████| 1/1 [00:00<00:00, 171.06it/s]\n",
      " 73%|███████▎  | 8/11 [01:41<00:48, 16.12s/it]\n",
      "  0%|          | 0/1 [00:00<?, ?it/s]\u001b[A"
     ]
    },
    {
     "name": "stdout",
     "output_type": "stream",
     "text": [
      "Generate background noise\n"
     ]
    },
    {
     "name": "stderr",
     "output_type": "stream",
     "text": [
      "\n",
      "100%|██████████| 1/1 [00:00<00:00,  1.97it/s]\u001b[A\n",
      "\n",
      "100%|██████████| 1/1 [00:00<00:00, 187.98it/s]\n",
      " 82%|████████▏ | 9/11 [02:05<00:36, 18.33s/it]\n",
      "  0%|          | 0/1 [00:00<?, ?it/s]\u001b[A"
     ]
    },
    {
     "name": "stdout",
     "output_type": "stream",
     "text": [
      "Generate background noise\n"
     ]
    },
    {
     "name": "stderr",
     "output_type": "stream",
     "text": [
      "\n",
      "100%|██████████| 1/1 [00:00<00:00,  1.82it/s]\u001b[A\n",
      "\n",
      "100%|██████████| 1/1 [00:00<00:00, 142.58it/s]\n",
      " 91%|█████████ | 10/11 [02:32<00:20, 20.92s/it]\n",
      "  0%|          | 0/1 [00:00<?, ?it/s]\u001b[A"
     ]
    },
    {
     "name": "stdout",
     "output_type": "stream",
     "text": [
      "Generate background noise\n"
     ]
    },
    {
     "name": "stderr",
     "output_type": "stream",
     "text": [
      "\n",
      "100%|██████████| 1/1 [00:00<00:00,  1.90it/s]\u001b[A\n",
      "\n",
      "100%|██████████| 1/1 [00:00<00:00, 192.57it/s]\n",
      "100%|██████████| 11/11 [03:00<00:00, 16.44s/it]\n"
     ]
    }
   ],
   "source": [
    "print('Generate melted df for one tensor slice')\n",
    "res_all = pd.DataFrame(columns = ['score', 'noise', 'cat'])\n",
    "for noise in tqdm(np.arange(0,1.01, 0.1)):\n",
    "    viz = sim.copy()\n",
    "    viz.generate_tensor(noise = noise, binary = False)\n",
    "    for cat in viz.clrm.index:\n",
    "        res_ = pd.DataFrame(columns = ['score', 'cat', 'noise'])\n",
    "        res_['score'] = viz.ts['0'].values[viz.clrm.loc[cat,'ts_coordinates']]\n",
    "        res_['cat'] = str(cat)\n",
    "        res_['noise'] = noise\n",
    "        res_all = pd.concat([res_all, res_], axis = 0)\n",
    "    \n",
    "    res_ = pd.DataFrame(columns = ['score', 'cat', 'noise'])\n",
    "    res_['score'] = viz.ts['0'].values[background_coords]\n",
    "    res_['cat'] = 'background'\n",
    "    res_['noise'] = noise\n",
    "    res_all = pd.concat([res_all, res_], axis = 0)\n",
    "    \n",
    "res_all.reset_index(inplace = True, drop = True)\n",
    "res_all['score'] = res_all['score'].astype(float)\n",
    "list_ordering = ['background','0', '1', '2', '3']\n",
    "res_all[\"cat\"] = pd.Categorical(res_all[\"cat\"], categories=list_ordering) "
   ]
  },
  {
   "cell_type": "code",
   "execution_count": 9,
   "metadata": {},
   "outputs": [],
   "source": [
    "# res_sub = res_all.loc[random.sample(res_all.index.tolist(), k = round(res_all.shape[0]*0.2))]\n",
    "# del res_all"
   ]
  },
  {
   "cell_type": "code",
   "execution_count": null,
   "metadata": {},
   "outputs": [],
   "source": [
    "print('Graph one tensor slice')\n",
    "fig,ax = plt.subplots(figsize = (10,10))\n",
    "sns.boxplot(data = res_all, x = 'cat', y = 'score', hue = 'noise')\n",
    "ax.legend(labels=['{:.1f}'.format(n) for n in sorted(res_all.noise.unique())], \n",
    "         bbox_to_anchor=(-0.1, 1))\n",
    "\n",
    "plt.savefig(dp + 'ts0_comparison.pdf', bbox_to_inches = 'tight')\n",
    "plt.savefig(dp + 'ts0_comparison.png', bbox_to_inches = 'tight')\n",
    "print('Complete graph one tensor slice')\n",
    ";"
   ]
  },
  {
   "cell_type": "code",
   "execution_count": 1,
   "metadata": {},
   "outputs": [],
   "source": [
    "gc.collect()"
   ]
  },
  {
   "cell_type": "markdown",
   "metadata": {},
   "source": [
    "# What does a CC-LR metadata pair look like across conditions?"
   ]
  },
  {
   "cell_type": "code",
   "execution_count": 2,
   "metadata": {},
   "outputs": [
    {
     "name": "stdout",
     "output_type": "stream",
     "text": [
      "/home/hratch/Projects/cci_dt/notebooks/simulation/tmpdpaumwol_bipartite_sf.csv\n",
      "Generate undirected, bipartite, scale-free graph\n",
      "Check network properties\n",
      "All properties are as expected\n",
      "Remove homotypic cell interactions for 1 categories\n"
     ]
    },
    {
     "name": "stderr",
     "output_type": "stream",
     "text": [
      "../../scripts/simulation/graphs.py:164: UserWarning: 1013 nodes are disconnected, removing from network\n",
      "  warnings.warn(mssg)\n"
     ]
    }
   ],
   "source": [
    "# generate simulation object\n",
    "sim = Simulate() \n",
    "sim.LR_network(network_type = 'scale-free', **{'nodes': 1000, 'degrees': 3, 'alpha': 2}) #scale-free\n",
    "sim.LR.generate_metadata(n_LR_cats = {3: 0}, cat_skew = 0)\n",
    "\n",
    "cci = CCI_MD()\n",
    "cci.cci_network(n_cells = 50, directional = False)\n",
    "cci.generate_metadata(n_cell_cats = {3: 0}, cat_skew = 0, remove_homotypic = 1)\n",
    "\n",
    "sim.cci = cci \n",
    "sim.generate_tensor_md(n_patterns = 3, n_conditions = 5, patterns = ['pulse', 'linear', 'oscillate'])\n",
    "\n",
    "\n"
   ]
  },
  {
   "cell_type": "code",
   "execution_count": 14,
   "metadata": {},
   "outputs": [],
   "source": [
    "# get background coordinates\n",
    "coords = list()\n",
    "for x in sim.clrm.ts_coordinates:\n",
    "    i,j = x[0], x[1]\n",
    "    coords += [(i[k], j[k]) for k in range(len(i))]\n",
    "all_coords = list(itertools.product(range(sim.ts_frame.shape[0]), range(sim.ts_frame.shape[1])))\n",
    "background_coords = list(set(all_coords).difference(coords))\n",
    "background_coords = [tuple([i[0] for i in background_coords]), tuple([i[1] for i in background_coords])]"
   ]
  },
  {
   "cell_type": "code",
   "execution_count": 17,
   "metadata": {
    "scrolled": true
   },
   "outputs": [
    {
     "name": "stderr",
     "output_type": "stream",
     "text": [
      "\r",
      "  0%|          | 0/5 [00:00<?, ?it/s]"
     ]
    },
    {
     "name": "stdout",
     "output_type": "stream",
     "text": [
      "---------------------------------------\n",
      "Generate background noise\n"
     ]
    },
    {
     "name": "stderr",
     "output_type": "stream",
     "text": [
      "\n",
      "  0%|          | 0/5 [00:00<?, ?it/s]\u001b[A\n",
      "100%|██████████| 5/5 [00:00<00:00, 26.23it/s]\u001b[A\n",
      "/home/hratch/anaconda3/lib/python3.7/site-packages/ipykernel_launcher.py:10: FutureWarning: Using a non-tuple sequence for multidimensional indexing is deprecated; use `arr[tuple(seq)]` instead of `arr[seq]`. In the future this will be interpreted as an array index, `arr[np.array(seq)]`, which will result either in an error or a different result.\n",
      "  # Remove the CWD from sys.path while we load stuff.\n",
      "/home/hratch/anaconda3/lib/python3.7/site-packages/ipykernel_launcher.py:17: FutureWarning: Using a non-tuple sequence for multidimensional indexing is deprecated; use `arr[tuple(seq)]` instead of `arr[seq]`. In the future this will be interpreted as an array index, `arr[np.array(seq)]`, which will result either in an error or a different result.\n",
      " 20%|██        | 1/5 [00:57<03:51, 57.88s/it]"
     ]
    },
    {
     "name": "stdout",
     "output_type": "stream",
     "text": [
      "---------------------------------------\n"
     ]
    },
    {
     "name": "stderr",
     "output_type": "stream",
     "text": [
      "\n",
      "  0%|          | 0/5 [00:00<?, ?it/s]\u001b[A"
     ]
    },
    {
     "name": "stdout",
     "output_type": "stream",
     "text": [
      "Generate background noise\n"
     ]
    },
    {
     "name": "stderr",
     "output_type": "stream",
     "text": [
      "\n",
      " 20%|██        | 1/5 [00:00<00:02,  1.92it/s]\u001b[A\n",
      " 40%|████      | 2/5 [00:01<00:01,  1.88it/s]\u001b[A\n",
      " 60%|██████    | 3/5 [00:01<00:01,  1.89it/s]\u001b[A\n",
      " 80%|████████  | 4/5 [00:02<00:00,  1.82it/s]\u001b[A\n",
      "100%|██████████| 5/5 [00:02<00:00,  1.84it/s]\u001b[A\n",
      "\n",
      "100%|██████████| 5/5 [00:00<00:00, 289.49it/s]\n",
      " 40%|████      | 2/5 [02:45<03:38, 72.70s/it]"
     ]
    },
    {
     "name": "stdout",
     "output_type": "stream",
     "text": [
      "---------------------------------------\n"
     ]
    },
    {
     "name": "stderr",
     "output_type": "stream",
     "text": [
      "\n",
      "  0%|          | 0/5 [00:00<?, ?it/s]\u001b[A"
     ]
    },
    {
     "name": "stdout",
     "output_type": "stream",
     "text": [
      "Generate background noise\n"
     ]
    },
    {
     "name": "stderr",
     "output_type": "stream",
     "text": [
      "\n",
      " 20%|██        | 1/5 [00:00<00:01,  2.11it/s]\u001b[A\n",
      " 40%|████      | 2/5 [00:00<00:01,  2.06it/s]\u001b[A\n",
      " 60%|██████    | 3/5 [00:01<00:00,  2.12it/s]\u001b[A\n",
      " 80%|████████  | 4/5 [00:01<00:00,  2.20it/s]\u001b[A\n",
      "100%|██████████| 5/5 [00:02<00:00,  2.20it/s]\u001b[A\n",
      "\n",
      "100%|██████████| 5/5 [00:00<00:00, 304.00it/s]\n",
      " 60%|██████    | 3/5 [05:43<03:28, 104.26s/it]"
     ]
    },
    {
     "name": "stdout",
     "output_type": "stream",
     "text": [
      "---------------------------------------\n"
     ]
    },
    {
     "name": "stderr",
     "output_type": "stream",
     "text": [
      "\n",
      "  0%|          | 0/5 [00:00<?, ?it/s]\u001b[A"
     ]
    },
    {
     "name": "stdout",
     "output_type": "stream",
     "text": [
      "Generate background noise\n"
     ]
    },
    {
     "name": "stderr",
     "output_type": "stream",
     "text": [
      "\n",
      " 20%|██        | 1/5 [00:00<00:01,  2.28it/s]\u001b[A\n",
      " 40%|████      | 2/5 [00:00<00:01,  2.24it/s]\u001b[A\n",
      " 60%|██████    | 3/5 [00:01<00:00,  2.22it/s]\u001b[A\n",
      " 80%|████████  | 4/5 [00:01<00:00,  2.17it/s]\u001b[A\n",
      "100%|██████████| 5/5 [00:02<00:00,  2.19it/s]\u001b[A\n",
      "\n",
      "100%|██████████| 5/5 [00:00<00:00, 263.19it/s]\n",
      " 80%|████████  | 4/5 [09:55<02:28, 148.70s/it]"
     ]
    },
    {
     "name": "stdout",
     "output_type": "stream",
     "text": [
      "---------------------------------------\n"
     ]
    },
    {
     "name": "stderr",
     "output_type": "stream",
     "text": [
      "\n",
      "  0%|          | 0/5 [00:00<?, ?it/s]\u001b[A"
     ]
    },
    {
     "name": "stdout",
     "output_type": "stream",
     "text": [
      "Generate background noise\n"
     ]
    },
    {
     "name": "stderr",
     "output_type": "stream",
     "text": [
      "\n",
      " 20%|██        | 1/5 [00:00<00:02,  1.88it/s]\u001b[A\n",
      " 40%|████      | 2/5 [00:01<00:01,  1.89it/s]\u001b[A\n",
      " 60%|██████    | 3/5 [00:01<00:01,  1.93it/s]\u001b[A\n",
      " 80%|████████  | 4/5 [00:02<00:00,  1.99it/s]\u001b[A\n",
      "100%|██████████| 5/5 [00:02<00:00,  2.00it/s]\u001b[A\n",
      "\n",
      "100%|██████████| 5/5 [00:00<00:00, 337.61it/s]\n",
      "100%|██████████| 5/5 [15:14<00:00, 182.88s/it]\n"
     ]
    }
   ],
   "source": [
    "print('Generate melted df for multiple conditions')\n",
    "res_all = pd.DataFrame(columns = ['score', 'noise', 'cat', 'condition'])\n",
    "\n",
    "for noise in tqdm(np.arange(0,1.01, 0.25)):\n",
    "    print('---------------------------------------')\n",
    "    viz = sim.copy()\n",
    "    viz.generate_tensor(noise = noise, binary = False)\n",
    "    for cond in viz.ts:\n",
    "        for cat in viz.clrm.index:\n",
    "            res_ = pd.DataFrame(columns = ['score', 'cat', 'noise', 'condition'])\n",
    "            res_['score'] = viz.ts[cond].values[viz.clrm.loc[cat,'ts_coordinates']]\n",
    "            res_['cat'] = str(cat)\n",
    "            res_['noise'] = noise\n",
    "            res_['condition'] = cond\n",
    "            res_all = pd.concat([res_all, res_], axis = 0)\n",
    "\n",
    "        res_ = pd.DataFrame(columns = ['score', 'cat', 'noise', 'condition'])\n",
    "        res_['score'] = viz.ts['0'].values[background_coords]\n",
    "        res_['cat'] = 'background'\n",
    "        res_['noise'] = noise\n",
    "        res_['condition'] = cond\n",
    "        res_all = pd.concat([res_all, res_], axis = 0)\n",
    "    \n",
    "res_all.reset_index(inplace = True, drop = True)\n",
    "res_all['score'] = res_all['score'].astype(float)\n",
    "\n",
    "cat_ordering = ['background','0', '1', '2']\n",
    "res_all[\"cat\"] = pd.Categorical(res_all[\"cat\"], categories=cat_ordering) \n",
    "\n",
    "cond_ordering = sorted(res_all.condition.unique())\n",
    "res_all[\"condition\"] = pd.Categorical(res_all[\"condition\"], categories=cond_ordering) \n",
    "\n",
    "noise_ordering = sorted(res_all.noise.unique())\n",
    "res_all[\"noise\"] = pd.Categorical(res_all[\"noise\"], categories=noise_ordering) "
   ]
  },
  {
   "cell_type": "code",
   "execution_count": 63,
   "metadata": {},
   "outputs": [],
   "source": [
    "# res_sub = res_all.loc[random.sample(res_all.index.tolist(), k = round(res_all.shape[0]*0.005))]"
   ]
  },
  {
   "cell_type": "code",
   "execution_count": null,
   "metadata": {
    "scrolled": true
   },
   "outputs": [
    {
     "name": "stderr",
     "output_type": "stream",
     "text": [
      "  0%|          | 0/3 [00:00<?, ?it/s]/home/hratch/anaconda3/lib/python3.7/site-packages/seaborn/algorithms.py:70: RuntimeWarning: Mean of empty slice.\n",
      "  return getattr(x, func)()\n",
      "/home/hratch/anaconda3/lib/python3.7/site-packages/numpy/core/_methods.py:85: RuntimeWarning: invalid value encountered in double_scalars\n",
      "  ret = ret.dtype.type(ret / rcount)\n",
      "/home/hratch/anaconda3/lib/python3.7/site-packages/seaborn/algorithms.py:70: RuntimeWarning: Mean of empty slice.\n",
      "  return getattr(x, func)()\n",
      "/home/hratch/anaconda3/lib/python3.7/site-packages/numpy/core/_methods.py:85: RuntimeWarning: invalid value encountered in double_scalars\n",
      "  ret = ret.dtype.type(ret / rcount)\n",
      "/home/hratch/anaconda3/lib/python3.7/site-packages/seaborn/algorithms.py:70: RuntimeWarning: Mean of empty slice.\n",
      "  return getattr(x, func)()\n",
      "/home/hratch/anaconda3/lib/python3.7/site-packages/numpy/core/_methods.py:85: RuntimeWarning: invalid value encountered in double_scalars\n",
      "  ret = ret.dtype.type(ret / rcount)\n",
      "/home/hratch/anaconda3/lib/python3.7/site-packages/seaborn/algorithms.py:70: RuntimeWarning: Mean of empty slice.\n",
      "  return getattr(x, func)()\n",
      "/home/hratch/anaconda3/lib/python3.7/site-packages/numpy/core/_methods.py:85: RuntimeWarning: invalid value encountered in double_scalars\n",
      "  ret = ret.dtype.type(ret / rcount)\n",
      " 33%|███▎      | 1/3 [00:00<00:01,  1.53it/s]/home/hratch/anaconda3/lib/python3.7/site-packages/seaborn/algorithms.py:70: RuntimeWarning: Mean of empty slice.\n",
      "  return getattr(x, func)()\n",
      "/home/hratch/anaconda3/lib/python3.7/site-packages/numpy/core/_methods.py:85: RuntimeWarning: invalid value encountered in double_scalars\n",
      "  ret = ret.dtype.type(ret / rcount)\n",
      "/home/hratch/anaconda3/lib/python3.7/site-packages/seaborn/algorithms.py:70: RuntimeWarning: Mean of empty slice.\n",
      "  return getattr(x, func)()\n",
      "/home/hratch/anaconda3/lib/python3.7/site-packages/numpy/core/_methods.py:85: RuntimeWarning: invalid value encountered in double_scalars\n",
      "  ret = ret.dtype.type(ret / rcount)\n",
      "/home/hratch/anaconda3/lib/python3.7/site-packages/seaborn/algorithms.py:70: RuntimeWarning: Mean of empty slice.\n",
      "  return getattr(x, func)()\n",
      "/home/hratch/anaconda3/lib/python3.7/site-packages/numpy/core/_methods.py:85: RuntimeWarning: invalid value encountered in double_scalars\n",
      "  ret = ret.dtype.type(ret / rcount)\n",
      "/home/hratch/anaconda3/lib/python3.7/site-packages/seaborn/algorithms.py:70: RuntimeWarning: Mean of empty slice.\n",
      "  return getattr(x, func)()\n",
      "/home/hratch/anaconda3/lib/python3.7/site-packages/numpy/core/_methods.py:85: RuntimeWarning: invalid value encountered in double_scalars\n",
      "  ret = ret.dtype.type(ret / rcount)\n",
      " 67%|██████▋   | 2/3 [00:01<00:00,  1.50it/s]/home/hratch/anaconda3/lib/python3.7/site-packages/seaborn/algorithms.py:70: RuntimeWarning: Mean of empty slice.\n",
      "  return getattr(x, func)()\n",
      "/home/hratch/anaconda3/lib/python3.7/site-packages/numpy/core/_methods.py:85: RuntimeWarning: invalid value encountered in double_scalars\n",
      "  ret = ret.dtype.type(ret / rcount)\n",
      "/home/hratch/anaconda3/lib/python3.7/site-packages/seaborn/algorithms.py:70: RuntimeWarning: Mean of empty slice.\n",
      "  return getattr(x, func)()\n",
      "/home/hratch/anaconda3/lib/python3.7/site-packages/numpy/core/_methods.py:85: RuntimeWarning: invalid value encountered in double_scalars\n",
      "  ret = ret.dtype.type(ret / rcount)\n",
      "/home/hratch/anaconda3/lib/python3.7/site-packages/seaborn/algorithms.py:70: RuntimeWarning: Mean of empty slice.\n",
      "  return getattr(x, func)()\n",
      "/home/hratch/anaconda3/lib/python3.7/site-packages/numpy/core/_methods.py:85: RuntimeWarning: invalid value encountered in double_scalars\n",
      "  ret = ret.dtype.type(ret / rcount)\n",
      "/home/hratch/anaconda3/lib/python3.7/site-packages/seaborn/algorithms.py:70: RuntimeWarning: Mean of empty slice.\n",
      "  return getattr(x, func)()\n",
      "/home/hratch/anaconda3/lib/python3.7/site-packages/numpy/core/_methods.py:85: RuntimeWarning: invalid value encountered in double_scalars\n",
      "  ret = ret.dtype.type(ret / rcount)\n",
      "/home/hratch/anaconda3/lib/python3.7/site-packages/seaborn/algorithms.py:70: RuntimeWarning: Mean of empty slice.\n",
      "  return getattr(x, func)()\n",
      "/home/hratch/anaconda3/lib/python3.7/site-packages/numpy/core/_methods.py:85: RuntimeWarning: invalid value encountered in double_scalars\n",
      "  ret = ret.dtype.type(ret / rcount)\n",
      "100%|██████████| 3/3 [00:02<00:00,  1.34it/s]\n"
     ]
    }
   ],
   "source": [
    "print('Generate graph multiple conditions')\n",
    "cats = sorted(res_al.cat.unique().tolist())\n",
    "cats.remove('background')\n",
    "labels_ = ['{:.2f}'.format(n) for n in sorted(res_al.noise.unique())]\n",
    "colors = sns.color_palette(\"tab10\")[:len(labels_)]\n",
    "\n",
    "fig, ax = plt.subplots(nrows = len(cats), figsize = (15,12))\n",
    "counter = 0\n",
    "for cat in tqdm(cats):\n",
    "    viz = res_al[res_al.cat == cat]\n",
    "    sns.lineplot(data = viz, y = 'score', x = 'condition', hue =  'noise', palette = colors,\n",
    "                 ax = ax[counter])\n",
    "    if counter == 0:\n",
    "        ax[counter].legend(labels=labels_, bbox_to_anchor=(-0.1, 1))\n",
    "    else:\n",
    "        ax[counter].get_legend().remove()\n",
    "\n",
    "    ax[counter].set_title('Condition: ' + cat)\n",
    "    counter += 1\n",
    "\n",
    "plt.savefig(dp + 'pattern_delta_condition.pdf', bbox_to_inches = 'tight')\n",
    "plt.savefig(dp + 'pattern_delta_condition.pdf', bbox_to_inches = 'tight')\n",
    "print('Complete graph multiple conditions')\n",
    ";"
   ]
  },
  {
   "cell_type": "code",
   "execution_count": null,
   "metadata": {},
   "outputs": [],
   "source": [
    "del res_all\n",
    "gc.collect()"
   ]
  }
 ],
 "metadata": {
  "kernelspec": {
   "display_name": "Python [conda env:cci_dt] *",
   "language": "python",
   "name": "conda-env-cci_dt-py"
  },
  "language_info": {
   "codemirror_mode": {
    "name": "ipython",
    "version": 3
   },
   "file_extension": ".py",
   "mimetype": "text/x-python",
   "name": "python",
   "nbconvert_exporter": "python",
   "pygments_lexer": "ipython3",
   "version": "3.7.9"
  }
 },
 "nbformat": 4,
 "nbformat_minor": 4
}
