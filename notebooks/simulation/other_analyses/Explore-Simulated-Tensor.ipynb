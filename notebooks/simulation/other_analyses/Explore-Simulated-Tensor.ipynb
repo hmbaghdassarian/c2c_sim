{
 "cells": [
  {
   "cell_type": "code",
   "execution_count": 1,
   "metadata": {},
   "outputs": [
    {
     "name": "stderr",
     "output_type": "stream",
     "text": [
      "/home/hratch/anaconda3/envs/cci_dt/lib/python3.9/site-packages/scipy/optimize/minpack.py:828: OptimizeWarning: Covariance of the parameters could not be estimated\n",
      "  warnings.warn('Covariance of the parameters could not be estimated',\n"
     ]
    }
   ],
   "source": [
    "import sys\n",
    "sys.path.insert(1, '../../../cell2cell/')\n",
    "import cell2cell as c2c\n",
    "from cell2cell.tensor.tensor import BaseTensor\n",
    "\n",
    "sys.path.insert(1, '../../../scripts/')\n",
    "from simulation.simulate import Simulate, CCI_MD\n",
    "# specify path to save figures\n",
    "fig_path = ''\n",
    "data_path = ''"
   ]
  },
  {
   "cell_type": "markdown",
   "metadata": {},
   "source": [
    "# Generate Simulated Tensor"
   ]
  },
  {
   "cell_type": "code",
   "execution_count": 2,
   "metadata": {},
   "outputs": [
    {
     "name": "stdout",
     "output_type": "stream",
     "text": [
      "/home/hratch/Projects/cci_dt/notebooks/simulation/other_analyses/tmpmzr27tpd_bipartite_sf.csv\n",
      "Generate undirected, bipartite, scale-free graph\n",
      "Check network properties\n",
      "All properties are as expected\n"
     ]
    },
    {
     "name": "stderr",
     "output_type": "stream",
     "text": [
      "../../../scripts/simulation/graphs.py:164: UserWarning: 61 nodes are disconnected, removing from network\n",
      "  warnings.warn(mssg)\n",
      "/home/hratch/anaconda3/envs/cci_dt/lib/python3.9/site-packages/pandas/core/internals/blocks.py:983: VisibleDeprecationWarning: Creating an ndarray from ragged nested sequences (which is a list-or-tuple of lists-or-tuples-or ndarrays with different lengths or shapes) is deprecated. If you meant to do this, you must specify 'dtype=object' when creating the ndarray.\n",
      "  arr_value = np.array(value)\n",
      "../../../scripts/simulation/simulate.py:648: UserWarning: Only continuous scoring is currently implemented\n",
      "  warnings.warn('Only continuous scoring is currently implemented')\n",
      "../../../scripts/simulation/simulate.py:698: FutureWarning: Using a non-tuple sequence for multidimensional indexing is deprecated; use `arr[tuple(seq)]` instead of `arr[seq]`. In the future this will be interpreted as an array index, `arr[np.array(seq)]`, which will result either in an error or a different result.\n",
      "  df.values[coords] = utils.get_truncated_normal(n = len(coords[0]),\n",
      "  0%|          | 0/12 [00:00<?, ?it/s]../../../scripts/simulation/simulate.py:734: FutureWarning: Using a non-tuple sequence for multidimensional indexing is deprecated; use `arr[tuple(seq)]` instead of `arr[seq]`. In the future this will be interpreted as an array index, `arr[np.array(seq)]`, which will result either in an error or a different result.\n",
      "  tcs[coords] = ts.iloc[idx,:].values\n",
      " 17%|█▋        | 2/12 [00:00<00:00, 10.54it/s]"
     ]
    },
    {
     "name": "stdout",
     "output_type": "stream",
     "text": [
      "Generate reshaped tensor\n"
     ]
    },
    {
     "name": "stderr",
     "output_type": "stream",
     "text": [
      "100%|██████████| 12/12 [00:01<00:00, 11.98it/s]\n"
     ]
    }
   ],
   "source": [
    "# init\n",
    "sim = Simulate() \n",
    "\n",
    "# simulate a scale_free randomly connected ligand-receptor network (potential interactions)\n",
    "sim.LR_network(network_type = 'scale-free', **{'nodes': 100, 'degrees': 3, 'alpha': 2}) #scale-free\n",
    "\n",
    "# LR metadata\n",
    "sim.LR.generate_metadata(n_LR_cats = {3: 0}, cat_skew = 0)\n",
    "\n",
    "# generate cell metadata, accounting for directionality (senders vs receivers) and \n",
    "# allowing for autocrine interactions \n",
    "cci = CCI_MD()\n",
    "cci.cci_network(n_cells = 50, directional = True, autocrine = True)\n",
    "\n",
    "# generate 1 metadata categories, with 3 subcategories and 0 skew, the overall skew of categories is 0\n",
    "# do not remove homotypic interactions (will be included)\n",
    "cci.generate_metadata(n_cell_cats = {3: 0}, cat_skew = 0, remove_homotypic = 0)\n",
    "# add cell metadata to simulation object\n",
    "sim.cci = cci\n",
    "\n",
    "# generate n_patter metadata groups of CC-LR pairs that change across n_conditions\n",
    "# these changes can either be linear, oscillating, or a pulse; allow homotypic interactions to form patterns\n",
    "# maximize the possible change in communication score\n",
    "sim.generate_tensor_md(n_patterns = 4, n_conditions = 12, patterns = ['pulse', 'linear', 'oscillate', 'power'], \n",
    "                      consider_homotypic = True, score_change = 'max')\n",
    "\n",
    "#generate a tensor with continuous LR scores and baseline noise; keep single-cells \n",
    "sim.generate_tensor(noise = 0.05, binary = False, bulk = True, noise_max = None)\n",
    "\n",
    "# format the tensor to be input to tensor-cell2cell\n",
    "sim.reshape()"
   ]
  },
  {
   "cell_type": "code",
   "execution_count": 6,
   "metadata": {},
   "outputs": [],
   "source": [
    "tensor = BaseTensor()\n",
    "t1 = sim.sim_tensor.tensor_cci\n",
    "tensor.tensor = t1\n",
    "tensor.order_names = [['Context-{}'.format(c+1) for c in range(t1.shape[0])],\n",
    "                      ['LR-{}'.format(c+1) for c in range(t1.shape[1])],\n",
    "                      ['Sender-{}'.format(c+1) for c in range(t1.shape[2])],\n",
    "                      ['Receiver-{}'.format(c+1) for c in range(t1.shape[3])]\n",
    "                     ]"
   ]
  },
  {
   "cell_type": "code",
   "execution_count": 7,
   "metadata": {},
   "outputs": [
    {
     "data": {
      "application/vnd.jupyter.widget-view+json": {
       "model_id": "eda1895fa6614418bbd0e6e9ac71482d",
       "version_major": 2,
       "version_minor": 0
      },
      "text/plain": [
       "  0%|          | 0/5 [00:00<?, ?it/s]"
      ]
     },
     "metadata": {},
     "output_type": "display_data"
    },
    {
     "data": {
      "text/plain": [
       "(<Figure size 288x162 with 1 Axes>,\n",
       " [(1, 0.5776763637370603),\n",
       "  (2, 0.2756666128530637),\n",
       "  (3, 0.19485801287842405),\n",
       "  (4, 0.07046993152061953),\n",
       "  (5, 0.05954831734755845)])"
      ]
     },
     "execution_count": 7,
     "metadata": {},
     "output_type": "execute_result"
    },
    {
     "data": {
      "image/png": "[encoded data removed]",
      "text/plain": [
       "<Figure size 288x162 with 1 Axes>"
      ]
     },
     "metadata": {
      "needs_background": "light"
     },
     "output_type": "display_data"
    }
   ],
   "source": [
    "tensor.elbow_rank_selection(5)"
   ]
  },
  {
   "cell_type": "code",
   "execution_count": 10,
   "metadata": {},
   "outputs": [],
   "source": [
    "tensor.compute_tensor_factorization(rank=r)"
   ]
  },
  {
   "cell_type": "code",
   "execution_count": 30,
   "metadata": {},
   "outputs": [
    {
     "data": {
      "image/png": "[encoded data removed]",
      "text/plain": [
       "<Figure size 720x360 with 16 Axes>"
      ]
     },
     "metadata": {
      "needs_background": "light"
     },
     "output_type": "display_data"
    }
   ],
   "source": [
    "version = #2\n",
    "fig, axes = c2c.plotting.tensor_factors_plot(interaction_tensor=tensor,\n",
    "                                             order_labels=['Time', 'Ligand-Receptor Pair', 'Sender Cell', 'Receiver Cell'],\n",
    "                                             #metadata = tensor.order_names,\n",
    "                                             #sample_col='Order',\n",
    "                                             #group_col='Element',\n",
    "                                             #meta_cmaps=['viridis', 'tab20', 'Pastel1', 'Pastel1'],\n",
    "                                             fontsize=14,\n",
    "                                             filename=fig_path + 'TF_SIM_v' + str(version) + '.svg'\n",
    "                                            )"
   ]
  },
  {
   "cell_type": "code",
   "execution_count": 37,
   "metadata": {},
   "outputs": [],
   "source": [
    "version = 1\n",
    "data_path = ''\n",
    "import pickle\n",
    "with open(data_path + 'sim_obj_v' + str(version) + '.pickle', 'wb') as f:\n",
    "    pickle.dump(sim, f)"
   ]
  },
  {
   "cell_type": "code",
   "execution_count": 26,
   "metadata": {},
   "outputs": [
    {
     "data": {
      "text/html": [
       "<div>\n",
       "<style scoped>\n",
       "    .dataframe tbody tr th:only-of-type {\n",
       "        vertical-align: middle;\n",
       "    }\n",
       "\n",
       "    .dataframe tbody tr th {\n",
       "        vertical-align: top;\n",
       "    }\n",
       "\n",
       "    .dataframe thead th {\n",
       "        text-align: right;\n",
       "    }\n",
       "</style>\n",
       "<table border=\"1\" class=\"dataframe\">\n",
       "  <thead>\n",
       "    <tr style=\"text-align: right;\">\n",
       "      <th></th>\n",
       "      <th>cell_subcat</th>\n",
       "      <th>LR_subcat</th>\n",
       "      <th>change</th>\n",
       "      <th>pattern</th>\n",
       "      <th>0</th>\n",
       "    </tr>\n",
       "  </thead>\n",
       "  <tbody>\n",
       "    <tr>\n",
       "      <th>0</th>\n",
       "      <td>(561ddae80d36, 561ddae80d36)</td>\n",
       "      <td>93f61ac665f9</td>\n",
       "      <td>0.75</td>\n",
       "      <td>oscillate</td>\n",
       "      <td>0.25</td>\n",
       "    </tr>\n",
       "    <tr>\n",
       "      <th>1</th>\n",
       "      <td>(561ddae80d36, 561ddae80d36)</td>\n",
       "      <td>18232f0ba2ea</td>\n",
       "      <td>0.50</td>\n",
       "      <td>pulse</td>\n",
       "      <td>0.50</td>\n",
       "    </tr>\n",
       "    <tr>\n",
       "      <th>2</th>\n",
       "      <td>(dfba567e03f7, 4fdda2194966)</td>\n",
       "      <td>00e8b5e0bb94</td>\n",
       "      <td>-0.75</td>\n",
       "      <td>power</td>\n",
       "      <td>0.75</td>\n",
       "    </tr>\n",
       "    <tr>\n",
       "      <th>3</th>\n",
       "      <td>(dfba567e03f7, dfba567e03f7)</td>\n",
       "      <td>18232f0ba2ea</td>\n",
       "      <td>-1.00</td>\n",
       "      <td>linear</td>\n",
       "      <td>1.00</td>\n",
       "    </tr>\n",
       "  </tbody>\n",
       "</table>\n",
       "</div>"
      ],
      "text/plain": [
       "                    cell_subcat     LR_subcat  change    pattern     0\n",
       "0  (561ddae80d36, 561ddae80d36)  93f61ac665f9    0.75  oscillate  0.25\n",
       "1  (561ddae80d36, 561ddae80d36)  18232f0ba2ea    0.50      pulse  0.50\n",
       "2  (dfba567e03f7, 4fdda2194966)  00e8b5e0bb94   -0.75      power  0.75\n",
       "3  (dfba567e03f7, dfba567e03f7)  18232f0ba2ea   -1.00     linear  1.00"
      ]
     },
     "execution_count": 26,
     "metadata": {},
     "output_type": "execute_result"
    }
   ],
   "source": [
    "sim.clrm.loc[:,['cell_subcat', 'LR_subcat', 'change', 'pattern', '0']]"
   ]
  }
 ],
 "metadata": {
  "kernelspec": {
   "display_name": "Python [conda env:cci_dt] *",
   "language": "python",
   "name": "conda-env-cci_dt-py"
  },
  "language_info": {
   "codemirror_mode": {
    "name": "ipython",
    "version": 3
   },
   "file_extension": ".py",
   "mimetype": "text/x-python",
   "name": "python",
   "nbconvert_exporter": "python",
   "pygments_lexer": "ipython3",
   "version": "3.9.1"
  }
 },
 "nbformat": 4,
 "nbformat_minor": 2
}
