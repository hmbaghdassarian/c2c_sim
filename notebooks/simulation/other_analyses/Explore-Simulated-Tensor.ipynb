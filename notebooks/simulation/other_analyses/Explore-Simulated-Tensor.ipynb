{
 "cells": [
  {
   "cell_type": "code",
   "execution_count": 1,
   "metadata": {},
   "outputs": [],
   "source": [
    "import sys\n",
    "sys.path.insert(1, '../../../cell2cell/')\n",
    "import cell2cell as c2c\n",
    "from cell2cell.tensor.tensor import BaseTensor\n",
    "\n",
    "sys.path.insert(1, '../../../scripts/')\n",
    "from simulation.simulate import Simulate, CCI_MD"
   ]
  },
  {
   "cell_type": "markdown",
   "metadata": {},
   "source": [
    "# Generate Simulated Tensor"
   ]
  },
  {
   "cell_type": "code",
   "execution_count": 27,
   "metadata": {},
   "outputs": [
    {
     "name": "stdout",
     "output_type": "stream",
     "text": [
      "/home/hratch/Projects/cci_dt/notebooks/simulation/other_analyses/tmpo6wvcg_b_bipartite_sf.csv\n",
      "Generate undirected, bipartite, scale-free graph\n",
      "Check network properties\n",
      "All properties are as expected\n"
     ]
    },
    {
     "name": "stderr",
     "output_type": "stream",
     "text": [
      "../../../scripts/simulation/graphs.py:164: UserWarning: 65 nodes are disconnected, removing from network\n",
      "  warnings.warn(mssg)\n",
      "/home/hratch/anaconda3/envs/cci_dt/lib/python3.9/site-packages/pandas/core/internals/blocks.py:983: VisibleDeprecationWarning: Creating an ndarray from ragged nested sequences (which is a list-or-tuple of lists-or-tuples-or ndarrays with different lengths or shapes) is deprecated. If you meant to do this, you must specify 'dtype=object' when creating the ndarray.\n",
      "  arr_value = np.array(value)\n",
      "../../../scripts/simulation/simulate.py:645: UserWarning: Only continuous scoring is currently implemented\n",
      "  warnings.warn('Only continuous scoring is currently implemented')\n",
      "../../../scripts/simulation/utils.py:19: RuntimeWarning: invalid value encountered in double_scalars\n",
      "  (low - mean) / sd, (upp - mean) / sd, loc=mean, scale=sd).rvs(n)\n",
      "../../../scripts/simulation/utils.py:19: RuntimeWarning: divide by zero encountered in double_scalars\n",
      "  (low - mean) / sd, (upp - mean) / sd, loc=mean, scale=sd).rvs(n)\n"
     ]
    },
    {
     "ename": "ValueError",
     "evalue": "Domain error in arguments.",
     "output_type": "error",
     "traceback": [
      "\u001b[0;31m---------------------------------------------------------------------------\u001b[0m",
      "\u001b[0;31mValueError\u001b[0m                                Traceback (most recent call last)",
      "\u001b[0;32m<ipython-input-27-de40ce358ccd>\u001b[0m in \u001b[0;36m<module>\u001b[0;34m\u001b[0m\n\u001b[1;32m     26\u001b[0m \u001b[0;34m\u001b[0m\u001b[0m\n\u001b[1;32m     27\u001b[0m \u001b[0;31m#generate a tensor with continuous LR scores and no noise; keep single-cells\u001b[0m\u001b[0;34m\u001b[0m\u001b[0;34m\u001b[0m\u001b[0;34m\u001b[0m\u001b[0m\n\u001b[0;32m---> 28\u001b[0;31m \u001b[0msim\u001b[0m\u001b[0;34m.\u001b[0m\u001b[0mgenerate_tensor\u001b[0m\u001b[0;34m(\u001b[0m\u001b[0mnoise\u001b[0m \u001b[0;34m=\u001b[0m \u001b[0;36m0.01\u001b[0m\u001b[0;34m,\u001b[0m \u001b[0mbinary\u001b[0m \u001b[0;34m=\u001b[0m \u001b[0;32mFalse\u001b[0m\u001b[0;34m,\u001b[0m \u001b[0mbulk\u001b[0m \u001b[0;34m=\u001b[0m \u001b[0;32mTrue\u001b[0m\u001b[0;34m)\u001b[0m\u001b[0;34m\u001b[0m\u001b[0;34m\u001b[0m\u001b[0m\n\u001b[0m\u001b[1;32m     29\u001b[0m \u001b[0;34m\u001b[0m\u001b[0m\n\u001b[1;32m     30\u001b[0m \u001b[0;31m# format the tensor to be input to tensor-cell2cell\u001b[0m\u001b[0;34m\u001b[0m\u001b[0;34m\u001b[0m\u001b[0;34m\u001b[0m\u001b[0m\n",
      "\u001b[0;32m~/Projects/cci_dt/scripts/simulation/simulate.py\u001b[0m in \u001b[0;36mgenerate_tensor\u001b[0;34m(self, noise, binary, bulk)\u001b[0m\n\u001b[1;32m    682\u001b[0m                 \u001b[0mdf\u001b[0m \u001b[0;34m=\u001b[0m \u001b[0mself\u001b[0m\u001b[0;34m.\u001b[0m\u001b[0mts_frame\u001b[0m\u001b[0;34m.\u001b[0m\u001b[0mcopy\u001b[0m\u001b[0;34m(\u001b[0m\u001b[0;34m)\u001b[0m\u001b[0;34m\u001b[0m\u001b[0;34m\u001b[0m\u001b[0m\n\u001b[1;32m    683\u001b[0m                 \u001b[0;31m# background\u001b[0m\u001b[0;34m\u001b[0m\u001b[0;34m\u001b[0m\u001b[0;34m\u001b[0m\u001b[0m\n\u001b[0;32m--> 684\u001b[0;31m                 vals = utils.get_truncated_normal(n = self.ts_frame.shape[0]*self.ts_frame.shape[1], \n\u001b[0m\u001b[1;32m    685\u001b[0m                                                   sd = noise*min_val, mean = 0)*scale\n\u001b[1;32m    686\u001b[0m                 \u001b[0mdf\u001b[0m\u001b[0;34m[\u001b[0m\u001b[0;34m:\u001b[0m\u001b[0;34m]\u001b[0m \u001b[0;34m=\u001b[0m \u001b[0mvals\u001b[0m\u001b[0;34m.\u001b[0m\u001b[0mreshape\u001b[0m\u001b[0;34m(\u001b[0m\u001b[0mself\u001b[0m\u001b[0;34m.\u001b[0m\u001b[0mts_frame\u001b[0m\u001b[0;34m.\u001b[0m\u001b[0mshape\u001b[0m\u001b[0;34m)\u001b[0m\u001b[0;34m\u001b[0m\u001b[0;34m\u001b[0m\u001b[0m\n",
      "\u001b[0;32m~/Projects/cci_dt/scripts/simulation/utils.py\u001b[0m in \u001b[0;36mget_truncated_normal\u001b[0;34m(n, sd, mean, low, upp)\u001b[0m\n\u001b[1;32m     16\u001b[0m \u001b[0;34m\u001b[0m\u001b[0m\n\u001b[1;32m     17\u001b[0m \u001b[0;32mdef\u001b[0m \u001b[0mget_truncated_normal\u001b[0m\u001b[0;34m(\u001b[0m\u001b[0mn\u001b[0m\u001b[0;34m,\u001b[0m \u001b[0msd\u001b[0m\u001b[0;34m,\u001b[0m \u001b[0mmean\u001b[0m\u001b[0;34m=\u001b[0m\u001b[0;36m0\u001b[0m\u001b[0;34m,\u001b[0m \u001b[0mlow\u001b[0m\u001b[0;34m=\u001b[0m\u001b[0;36m0\u001b[0m\u001b[0;34m,\u001b[0m \u001b[0mupp\u001b[0m\u001b[0;34m=\u001b[0m\u001b[0;36m1\u001b[0m\u001b[0;34m)\u001b[0m\u001b[0;34m:\u001b[0m\u001b[0;34m\u001b[0m\u001b[0;34m\u001b[0m\u001b[0m\n\u001b[0;32m---> 18\u001b[0;31m     return truncnorm(\n\u001b[0m\u001b[1;32m     19\u001b[0m         (low - mean) / sd, (upp - mean) / sd, loc=mean, scale=sd).rvs(n)\n\u001b[1;32m     20\u001b[0m \u001b[0;34m\u001b[0m\u001b[0m\n",
      "\u001b[0;32m~/anaconda3/envs/cci_dt/lib/python3.9/site-packages/scipy/stats/_distn_infrastructure.py\u001b[0m in \u001b[0;36mrvs\u001b[0;34m(self, size, random_state)\u001b[0m\n\u001b[1;32m    469\u001b[0m         \u001b[0mkwds\u001b[0m \u001b[0;34m=\u001b[0m \u001b[0mself\u001b[0m\u001b[0;34m.\u001b[0m\u001b[0mkwds\u001b[0m\u001b[0;34m.\u001b[0m\u001b[0mcopy\u001b[0m\u001b[0;34m(\u001b[0m\u001b[0;34m)\u001b[0m\u001b[0;34m\u001b[0m\u001b[0;34m\u001b[0m\u001b[0m\n\u001b[1;32m    470\u001b[0m         \u001b[0mkwds\u001b[0m\u001b[0;34m.\u001b[0m\u001b[0mupdate\u001b[0m\u001b[0;34m(\u001b[0m\u001b[0;34m{\u001b[0m\u001b[0;34m'size'\u001b[0m\u001b[0;34m:\u001b[0m \u001b[0msize\u001b[0m\u001b[0;34m,\u001b[0m \u001b[0;34m'random_state'\u001b[0m\u001b[0;34m:\u001b[0m \u001b[0mrandom_state\u001b[0m\u001b[0;34m}\u001b[0m\u001b[0;34m)\u001b[0m\u001b[0;34m\u001b[0m\u001b[0;34m\u001b[0m\u001b[0m\n\u001b[0;32m--> 471\u001b[0;31m         \u001b[0;32mreturn\u001b[0m \u001b[0mself\u001b[0m\u001b[0;34m.\u001b[0m\u001b[0mdist\u001b[0m\u001b[0;34m.\u001b[0m\u001b[0mrvs\u001b[0m\u001b[0;34m(\u001b[0m\u001b[0;34m*\u001b[0m\u001b[0mself\u001b[0m\u001b[0;34m.\u001b[0m\u001b[0margs\u001b[0m\u001b[0;34m,\u001b[0m \u001b[0;34m**\u001b[0m\u001b[0mkwds\u001b[0m\u001b[0;34m)\u001b[0m\u001b[0;34m\u001b[0m\u001b[0;34m\u001b[0m\u001b[0m\n\u001b[0m\u001b[1;32m    472\u001b[0m \u001b[0;34m\u001b[0m\u001b[0m\n\u001b[1;32m    473\u001b[0m     \u001b[0;32mdef\u001b[0m \u001b[0msf\u001b[0m\u001b[0;34m(\u001b[0m\u001b[0mself\u001b[0m\u001b[0;34m,\u001b[0m \u001b[0mx\u001b[0m\u001b[0;34m)\u001b[0m\u001b[0;34m:\u001b[0m\u001b[0;34m\u001b[0m\u001b[0;34m\u001b[0m\u001b[0m\n",
      "\u001b[0;32m~/anaconda3/envs/cci_dt/lib/python3.9/site-packages/scipy/stats/_distn_infrastructure.py\u001b[0m in \u001b[0;36mrvs\u001b[0;34m(self, *args, **kwds)\u001b[0m\n\u001b[1;32m   1033\u001b[0m         \u001b[0mcond\u001b[0m \u001b[0;34m=\u001b[0m \u001b[0mlogical_and\u001b[0m\u001b[0;34m(\u001b[0m\u001b[0mself\u001b[0m\u001b[0;34m.\u001b[0m\u001b[0m_argcheck\u001b[0m\u001b[0;34m(\u001b[0m\u001b[0;34m*\u001b[0m\u001b[0margs\u001b[0m\u001b[0;34m)\u001b[0m\u001b[0;34m,\u001b[0m \u001b[0;34m(\u001b[0m\u001b[0mscale\u001b[0m \u001b[0;34m>=\u001b[0m \u001b[0;36m0\u001b[0m\u001b[0;34m)\u001b[0m\u001b[0;34m)\u001b[0m\u001b[0;34m\u001b[0m\u001b[0;34m\u001b[0m\u001b[0m\n\u001b[1;32m   1034\u001b[0m         \u001b[0;32mif\u001b[0m \u001b[0;32mnot\u001b[0m \u001b[0mnp\u001b[0m\u001b[0;34m.\u001b[0m\u001b[0mall\u001b[0m\u001b[0;34m(\u001b[0m\u001b[0mcond\u001b[0m\u001b[0;34m)\u001b[0m\u001b[0;34m:\u001b[0m\u001b[0;34m\u001b[0m\u001b[0;34m\u001b[0m\u001b[0m\n\u001b[0;32m-> 1035\u001b[0;31m             \u001b[0;32mraise\u001b[0m \u001b[0mValueError\u001b[0m\u001b[0;34m(\u001b[0m\u001b[0;34m\"Domain error in arguments.\"\u001b[0m\u001b[0;34m)\u001b[0m\u001b[0;34m\u001b[0m\u001b[0;34m\u001b[0m\u001b[0m\n\u001b[0m\u001b[1;32m   1036\u001b[0m \u001b[0;34m\u001b[0m\u001b[0m\n\u001b[1;32m   1037\u001b[0m         \u001b[0;32mif\u001b[0m \u001b[0mnp\u001b[0m\u001b[0;34m.\u001b[0m\u001b[0mall\u001b[0m\u001b[0;34m(\u001b[0m\u001b[0mscale\u001b[0m \u001b[0;34m==\u001b[0m \u001b[0;36m0\u001b[0m\u001b[0;34m)\u001b[0m\u001b[0;34m:\u001b[0m\u001b[0;34m\u001b[0m\u001b[0;34m\u001b[0m\u001b[0m\n",
      "\u001b[0;31mValueError\u001b[0m: Domain error in arguments."
     ]
    }
   ],
   "source": [
    "# init\n",
    "sim = Simulate() \n",
    "\n",
    "# simulate a scale_free randomly connected ligand-receptor network (potential interactions)\n",
    "sim.LR_network(network_type = 'scale-free', **{'nodes': 100, 'degrees': 3, 'alpha': 2}) #scale-free\n",
    "\n",
    "# LR metadata\n",
    "sim.LR.generate_metadata(n_LR_cats = {3: 0}, cat_skew = 0)\n",
    "\n",
    "# generate cell metadata, accounting for directionality (senders vs receivers) and \n",
    "# allowing for autocrine interactions \n",
    "cci = CCI_MD()\n",
    "cci.cci_network(n_cells = 50, directional = True, autocrine = True)\n",
    "\n",
    "# generate 1 metadata categories, with 3 subcategories and 0 skew, the overall skew of categories is 0\n",
    "# do not remove homotypic interactions (will be included)\n",
    "cci.generate_metadata(n_cell_cats = {3: 0}, cat_skew = 0, remove_homotypic = 0)\n",
    "# add cell metadata to simulation object\n",
    "sim.cci = cci\n",
    "\n",
    "# generate n_patter metadata groups of CC-LR pairs that change across n_conditions\n",
    "# these changes can either be linear, oscillating, or a pulse; allow homotypic interactions to form patterns\n",
    "# maximize the possible change in communication score\n",
    "sim.generate_tensor_md(n_patterns = 4, n_conditions = 12, patterns = ['pulse', 'linear', 'oscillate', 'power'], \n",
    "                      consider_homotypic = True, score_change = 'max')\n",
    "\n",
    "#generate a tensor with continuous LR scores and baseline noise; keep single-cells \n",
    "sim.generate_tensor(noise = 0.1, binary = False, bulk = True, noise_max = None)\n",
    "\n",
    "# format the tensor to be input to tensor-cell2cell\n",
    "sim.reshape()"
   ]
  },
  {
   "cell_type": "code",
   "execution_count": 20,
   "metadata": {},
   "outputs": [],
   "source": [
    "t1 = sim.sim_tensor.tensor_cci"
   ]
  },
  {
   "cell_type": "code",
   "execution_count": 21,
   "metadata": {},
   "outputs": [],
   "source": [
    "tensor.tensor = t1\n",
    "tensor.order_names = [['Context-{}'.format(c+1) for c in range(t1.shape[0])],\n",
    "                      ['LR-{}'.format(c+1) for c in range(t1.shape[1])],\n",
    "                      ['Sender-{}'.format(c+1) for c in range(t1.shape[2])],\n",
    "                      ['Receiver-{}'.format(c+1) for c in range(t1.shape[3])]\n",
    "                     ]"
   ]
  },
  {
   "cell_type": "code",
   "execution_count": 22,
   "metadata": {},
   "outputs": [
    {
     "name": "stderr",
     "output_type": "stream",
     "text": [
      "/home/hratch/anaconda3/envs/cci_dt/lib/python3.9/site-packages/numpy/lib/function_base.py:793: VisibleDeprecationWarning: Creating an ndarray from ragged nested sequences (which is a list-or-tuple of lists-or-tuples-or ndarrays with different lengths or shapes) is deprecated. If you meant to do this, you must specify 'dtype=object' when creating the ndarray.\n",
      "  return array(a, order=order, subok=subok, copy=True)\n"
     ]
    },
    {
     "data": {
      "application/vnd.jupyter.widget-view+json": {
       "model_id": "63206684ec6841f3a85d3b74d64c7eb2",
       "version_major": 2,
       "version_minor": 0
      },
      "text/plain": [
       "  0%|          | 0/5 [00:00<?, ?it/s]"
      ]
     },
     "metadata": {},
     "output_type": "display_data"
    },
    {
     "name": "stderr",
     "output_type": "stream",
     "text": [
      "/home/hratch/anaconda3/envs/cci_dt/lib/python3.9/site-packages/tensorly/backend/core.py:779: RuntimeWarning: invalid value encountered in sqrt\n",
      "  S = np.where(np.abs(S) <= np.finfo(S.dtype).eps, 0, np.sqrt(S))\n",
      "/home/hratch/anaconda3/envs/cci_dt/lib/python3.9/site-packages/tensorly/backend/core.py:785: RuntimeWarning: invalid value encountered in sqrt\n",
      "  S = np.where(np.abs(S) <= np.finfo(S.dtype).eps, 0, np.sqrt(S))\n"
     ]
    },
    {
     "data": {
      "text/plain": [
       "(<Figure size 288x162 with 1 Axes>,\n",
       " [(1, 0.5531082626367102),\n",
       "  (2, 0.5531082626367101),\n",
       "  (3, nan),\n",
       "  (4, nan),\n",
       "  (5, nan)])"
      ]
     },
     "execution_count": 22,
     "metadata": {},
     "output_type": "execute_result"
    },
    {
     "data": {
      "image/png": "[encoded data removed]",
      "text/plain": [
       "<Figure size 288x162 with 1 Axes>"
      ]
     },
     "metadata": {
      "needs_background": "light"
     },
     "output_type": "display_data"
    }
   ],
   "source": [
    "tensor.elbow_rank_selection(5)"
   ]
  },
  {
   "cell_type": "code",
   "execution_count": 23,
   "metadata": {},
   "outputs": [
    {
     "data": {
      "text/html": [
       "<div>\n",
       "<style scoped>\n",
       "    .dataframe tbody tr th:only-of-type {\n",
       "        vertical-align: middle;\n",
       "    }\n",
       "\n",
       "    .dataframe tbody tr th {\n",
       "        vertical-align: top;\n",
       "    }\n",
       "\n",
       "    .dataframe thead th {\n",
       "        text-align: right;\n",
       "    }\n",
       "</style>\n",
       "<table border=\"1\" class=\"dataframe\">\n",
       "  <thead>\n",
       "    <tr style=\"text-align: right;\">\n",
       "      <th></th>\n",
       "      <th>cell_subcat</th>\n",
       "      <th>LR_subcat</th>\n",
       "      <th>ts_coordinates</th>\n",
       "      <th>change</th>\n",
       "      <th>pattern</th>\n",
       "      <th>0</th>\n",
       "      <th>1</th>\n",
       "      <th>2</th>\n",
       "      <th>3</th>\n",
       "      <th>4</th>\n",
       "      <th>5</th>\n",
       "      <th>6</th>\n",
       "      <th>7</th>\n",
       "      <th>8</th>\n",
       "      <th>9</th>\n",
       "      <th>10</th>\n",
       "      <th>11</th>\n",
       "    </tr>\n",
       "  </thead>\n",
       "  <tbody>\n",
       "    <tr>\n",
       "      <th>0</th>\n",
       "      <td>(b8b0ad4ec0c8, e0eab35b7eeb)</td>\n",
       "      <td>f1a31f71de70</td>\n",
       "      <td>[(0, 4, 5, 6, 8, 12, 14, 18, 19, 20, 21, 24, 2...</td>\n",
       "      <td>0.75</td>\n",
       "      <td>linear</td>\n",
       "      <td>0.25</td>\n",
       "      <td>0.318182</td>\n",
       "      <td>0.386364</td>\n",
       "      <td>0.454545</td>\n",
       "      <td>0.522727</td>\n",
       "      <td>0.590909</td>\n",
       "      <td>0.659091</td>\n",
       "      <td>0.727273</td>\n",
       "      <td>7.954545e-01</td>\n",
       "      <td>8.636364e-01</td>\n",
       "      <td>9.318182e-01</td>\n",
       "      <td>1.000000e+00</td>\n",
       "    </tr>\n",
       "    <tr>\n",
       "      <th>1</th>\n",
       "      <td>(e0eab35b7eeb, e0eab35b7eeb)</td>\n",
       "      <td>f1a31f71de70</td>\n",
       "      <td>[(0, 4, 5, 6, 8, 12, 14, 18, 19, 20, 21, 24, 2...</td>\n",
       "      <td>0.50</td>\n",
       "      <td>pulse</td>\n",
       "      <td>0.50</td>\n",
       "      <td>0.500000</td>\n",
       "      <td>0.500000</td>\n",
       "      <td>0.500000</td>\n",
       "      <td>0.750000</td>\n",
       "      <td>1.000000</td>\n",
       "      <td>1.000000</td>\n",
       "      <td>0.750000</td>\n",
       "      <td>5.000000e-01</td>\n",
       "      <td>5.000000e-01</td>\n",
       "      <td>5.000000e-01</td>\n",
       "      <td>5.000000e-01</td>\n",
       "    </tr>\n",
       "    <tr>\n",
       "      <th>2</th>\n",
       "      <td>(e0eab35b7eeb, e0eab35b7eeb)</td>\n",
       "      <td>ebf6d1f0d399</td>\n",
       "      <td>[(1, 3, 9, 11, 15, 22, 23, 25, 26, 35, 36, 38,...</td>\n",
       "      <td>-0.75</td>\n",
       "      <td>power</td>\n",
       "      <td>0.75</td>\n",
       "      <td>0.117014</td>\n",
       "      <td>0.018256</td>\n",
       "      <td>0.002848</td>\n",
       "      <td>0.000444</td>\n",
       "      <td>0.000069</td>\n",
       "      <td>0.000011</td>\n",
       "      <td>0.000002</td>\n",
       "      <td>2.633124e-07</td>\n",
       "      <td>4.108161e-08</td>\n",
       "      <td>6.409494e-09</td>\n",
       "      <td>1.000000e-09</td>\n",
       "    </tr>\n",
       "    <tr>\n",
       "      <th>3</th>\n",
       "      <td>(6081958b04b5, e0eab35b7eeb)</td>\n",
       "      <td>ebf6d1f0d399</td>\n",
       "      <td>[(1, 3, 9, 11, 15, 22, 23, 25, 26, 35, 36, 38,...</td>\n",
       "      <td>-1.00</td>\n",
       "      <td>oscillate</td>\n",
       "      <td>1.00</td>\n",
       "      <td>0.500000</td>\n",
       "      <td>0.000000</td>\n",
       "      <td>0.500000</td>\n",
       "      <td>1.000000</td>\n",
       "      <td>0.500000</td>\n",
       "      <td>0.000000</td>\n",
       "      <td>0.500000</td>\n",
       "      <td>1.000000e+00</td>\n",
       "      <td>5.000000e-01</td>\n",
       "      <td>0.000000e+00</td>\n",
       "      <td>5.000000e-01</td>\n",
       "    </tr>\n",
       "  </tbody>\n",
       "</table>\n",
       "</div>"
      ],
      "text/plain": [
       "                    cell_subcat     LR_subcat  \\\n",
       "0  (b8b0ad4ec0c8, e0eab35b7eeb)  f1a31f71de70   \n",
       "1  (e0eab35b7eeb, e0eab35b7eeb)  f1a31f71de70   \n",
       "2  (e0eab35b7eeb, e0eab35b7eeb)  ebf6d1f0d399   \n",
       "3  (6081958b04b5, e0eab35b7eeb)  ebf6d1f0d399   \n",
       "\n",
       "                                      ts_coordinates  change    pattern     0  \\\n",
       "0  [(0, 4, 5, 6, 8, 12, 14, 18, 19, 20, 21, 24, 2...    0.75     linear  0.25   \n",
       "1  [(0, 4, 5, 6, 8, 12, 14, 18, 19, 20, 21, 24, 2...    0.50      pulse  0.50   \n",
       "2  [(1, 3, 9, 11, 15, 22, 23, 25, 26, 35, 36, 38,...   -0.75      power  0.75   \n",
       "3  [(1, 3, 9, 11, 15, 22, 23, 25, 26, 35, 36, 38,...   -1.00  oscillate  1.00   \n",
       "\n",
       "          1         2         3         4         5         6         7  \\\n",
       "0  0.318182  0.386364  0.454545  0.522727  0.590909  0.659091  0.727273   \n",
       "1  0.500000  0.500000  0.500000  0.750000  1.000000  1.000000  0.750000   \n",
       "2  0.117014  0.018256  0.002848  0.000444  0.000069  0.000011  0.000002   \n",
       "3  0.500000  0.000000  0.500000  1.000000  0.500000  0.000000  0.500000   \n",
       "\n",
       "              8             9            10            11  \n",
       "0  7.954545e-01  8.636364e-01  9.318182e-01  1.000000e+00  \n",
       "1  5.000000e-01  5.000000e-01  5.000000e-01  5.000000e-01  \n",
       "2  2.633124e-07  4.108161e-08  6.409494e-09  1.000000e-09  \n",
       "3  1.000000e+00  5.000000e-01  0.000000e+00  5.000000e-01  "
      ]
     },
     "execution_count": 23,
     "metadata": {},
     "output_type": "execute_result"
    }
   ],
   "source": [
    "sim.clrm"
   ]
  },
  {
   "cell_type": "code",
   "execution_count": 24,
   "metadata": {},
   "outputs": [],
   "source": [
    "r = 2"
   ]
  },
  {
   "cell_type": "code",
   "execution_count": 25,
   "metadata": {},
   "outputs": [
    {
     "name": "stderr",
     "output_type": "stream",
     "text": [
      "/home/hratch/anaconda3/envs/cci_dt/lib/python3.9/site-packages/tensorly/backend/core.py:779: RuntimeWarning: invalid value encountered in sqrt\n",
      "  S = np.where(np.abs(S) <= np.finfo(S.dtype).eps, 0, np.sqrt(S))\n"
     ]
    }
   ],
   "source": [
    "tensor.compute_tensor_factorization(rank=r)"
   ]
  },
  {
   "cell_type": "code",
   "execution_count": 26,
   "metadata": {},
   "outputs": [
    {
     "data": {
      "image/png": "[encoded data removed]",
      "text/plain": [
       "<Figure size 720x216 with 8 Axes>"
      ]
     },
     "metadata": {
      "needs_background": "light"
     },
     "output_type": "display_data"
    }
   ],
   "source": [
    "fig, axes = c2c.plotting.tensor_factors_plot(interaction_tensor=tensor,\n",
    "                                             order_labels=['Time', 'Ligand-Receptor Pair', 'Sender Cell', 'Receiver Cell'],\n",
    "                                             #metadata = tensor.order_names,\n",
    "                                             #sample_col='Order',\n",
    "                                             #group_col='Element',\n",
    "                                             #meta_cmaps=['viridis', 'tab20', 'Pastel1', 'Pastel1'],\n",
    "                                             fontsize=14,\n",
    "                                             #filename='./outputs/TF-LogMean.svg'\n",
    "                                            )"
   ]
  },
  {
   "cell_type": "code",
   "execution_count": null,
   "metadata": {},
   "outputs": [],
   "source": []
  }
 ],
 "metadata": {
  "kernelspec": {
   "display_name": "Python [conda env:cci_dt] *",
   "language": "python",
   "name": "conda-env-cci_dt-py"
  },
  "language_info": {
   "codemirror_mode": {
    "name": "ipython",
    "version": 3
   },
   "file_extension": ".py",
   "mimetype": "text/x-python",
   "name": "python",
   "nbconvert_exporter": "python",
   "pygments_lexer": "ipython3",
   "version": "3.9.1"
  }
 },
 "nbformat": 4,
 "nbformat_minor": 2
}
