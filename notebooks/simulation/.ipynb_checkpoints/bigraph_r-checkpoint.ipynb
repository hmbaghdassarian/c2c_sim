{
 "cells": [
  {
   "cell_type": "code",
   "execution_count": 88,
   "metadata": {},
   "outputs": [],
   "source": [
    "#! /usr/bin/env Rscript\n",
    "'Generate a scale-free, undirected, bipartite graph\n",
    "Usage:\n",
    "    bigraph_r.r --beta=<float> --nodes=<int> --degrees=<int> [--output=<./bipiartite_sf.csv>] [--edges=<int>]\n",
    "    \n",
    "Options:\n",
    "    -h --help  Show this screen.\n",
    "    --beta=<float>  fitness of node, gamma = 1 / beta + 1, gamma is scale-free exponent \n",
    "    --nodes=<int>  2*n is the number of nodes in graph. Restrictions: number of nodes in group 1 = number of nodes in group 2. \n",
    "    --degrees=<int>  average degree of nodes \n",
    "    --output=<str> output filename with path [default: ./bipartite_sf.csv]\n",
    "    --edges=<int>  number of (directed) edges\n",
    "' -> doc"
   ]
  },
  {
   "cell_type": "code",
   "execution_count": 89,
   "metadata": {},
   "outputs": [],
   "source": [
    "withCallingHandlers({\n",
    "    suppressMessages({\n",
    "        library(StabEco, quietly = T)\n",
    "        library(igraph, quietly = T)\n",
    "        library(docopt, quietly = T)\n",
    "})})\n"
   ]
  },
  {
   "cell_type": "code",
   "execution_count": null,
   "metadata": {},
   "outputs": [],
   "source": [
    "opts = docopt(doc)\n",
    "for (opt in c('nodes', 'edges', 'degrees', 'beta')){\n",
    "    val = opts[[opt]]\n",
    "    if (!is.null(val)){\n",
    "        opts[[opt]] = as.numeric(val)\n",
    "        }\n",
    "}"
   ]
  },
  {
   "cell_type": "code",
   "execution_count": 93,
   "metadata": {},
   "outputs": [],
   "source": [
    "bg_sf<-function(n1, beta, k, fn, m){\n",
    "    B = BiGraph$new(n1=n1, beta=beta, k=k, m=m, \n",
    "                    type = 'bipartite_sf', directed = F, is_adj = T)\n",
    "    G = B$get_graph()\n",
    "    write.csv(G, file = fn)\n",
    "}"
   ]
  },
  {
   "cell_type": "code",
   "execution_count": 99,
   "metadata": {},
   "outputs": [],
   "source": [
    "bg_sf(n1=opts[['nodes']], beta=opts[['beta']], k = opts[['degrees']], fn = opts[['output']], m = opts[['edges']])"
   ]
  }
 ],
 "metadata": {
  "kernelspec": {
   "display_name": "R [conda env:cci_dt] *",
   "language": "R",
   "name": "conda-env-cci_dt-r"
  },
  "language_info": {
   "codemirror_mode": "r",
   "file_extension": ".r",
   "mimetype": "text/x-r-source",
   "name": "R",
   "pygments_lexer": "r",
   "version": "3.6.1"
  }
 },
 "nbformat": 4,
 "nbformat_minor": 4
}
