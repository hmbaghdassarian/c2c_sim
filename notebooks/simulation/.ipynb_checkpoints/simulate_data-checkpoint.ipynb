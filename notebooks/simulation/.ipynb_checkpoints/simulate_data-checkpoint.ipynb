{
 "cells": [
  {
   "cell_type": "markdown",
   "metadata": {},
   "source": [
    "Go through vignette: https://github.com/YosefLab/SymSim/blob/master/vignettes/SymSimTutorial.Rmd"
   ]
  },
  {
   "cell_type": "code",
   "execution_count": 1,
   "metadata": {},
   "outputs": [],
   "source": [
    "suppressPackageStartupMessages({\n",
    "    library('SymSim')\n",
    "    library(StabEco)\n",
    "    library(igraph)\n",
    "})"
   ]
  },
  {
   "cell_type": "code",
   "execution_count": 7,
   "metadata": {},
   "outputs": [
    {
     "ename": "ERROR",
     "evalue": "Error in BiGraph(): could not find function \"BiGraph\"\n",
     "output_type": "error",
     "traceback": [
      "Error in BiGraph(): could not find function \"BiGraph\"\nTraceback:\n"
     ]
    }
   ],
   "source": [
    "BiGraph()"
   ]
  },
  {
   "cell_type": "code",
   "execution_count": 12,
   "metadata": {},
   "outputs": [
    {
     "ename": "ERROR",
     "evalue": "Error in initialize(...): !is.null(beta) is not TRUE\n",
     "output_type": "error",
     "traceback": [
      "Error in initialize(...): !is.null(beta) is not TRUE\nTraceback:\n",
      "1. BiGraph$new(type = \"bipartite_sf\", beta = NULL)",
      "2. initialize(...)",
      "3. stopifnot(!is.null(beta))"
     ]
    }
   ],
   "source": [
    "BiGraph$new(type = 'bipartite_sf', beta = NULL)"
   ]
  },
  {
   "cell_type": "code",
   "execution_count": null,
   "metadata": {},
   "outputs": [],
   "source": []
  },
  {
   "cell_type": "code",
   "execution_count": 18,
   "metadata": {},
   "outputs": [],
   "source": [
    "ngenes<-500\n",
    "ncells<-300"
   ]
  },
  {
   "cell_type": "code",
   "execution_count": 22,
   "metadata": {},
   "outputs": [],
   "source": [
    "# sample from a vector of gene lengths\n",
    "gene_len <- sample(SymSim::gene_len_pool, ngenes, replace = FALSE)\n",
    "\n",
    "# true transcript counts (intrinsic and extrinsic variation)\n",
    "phyla <- Phyla5() # create tree structure for 5 separate populations (can create your own, see vignett)\n",
    "tcr <- SimulateTrueCounts(ncells_total=ncells, min_popsize=50, i_minpop=2, ngenes=ngenes, nevf=10, \n",
    "                                      evf_type=\"discrete\", n_de_evf=9, vary=\"s\", Sigma=0.4, phyla=phyla, randseed=0)\n",
    "\n",
    "# add technical variation\n",
    "observed_counts <- True2ObservedCounts(true_counts=true_counts_res[[1]], meta_cell=true_counts_res[[3]], protocol=\"nonUMI\", alpha_mean=0.1, alpha_sd=0.05, gene_len=gene_len, depth_mean=1e5, depth_sd=3e3)"
   ]
  },
  {
   "cell_type": "code",
   "execution_count": null,
   "metadata": {},
   "outputs": [],
   "source": [
    "# add technical variation\n",
    "observed_counts <- True2ObservedCounts(true_counts=true_counts_res[[1]], meta_cell=true_counts_res[[3]], protocol=\"UMI\", alpha_mean=0.05, alpha_sd=0.02, gene_len=gene_len, depth_mean=5e4, depth_sd=3e3)\n",
    "\n"
   ]
  }
 ],
 "metadata": {
  "kernelspec": {
   "display_name": "R [conda env:cci_dt] *",
   "language": "R",
   "name": "conda-env-cci_dt-r"
  },
  "language_info": {
   "codemirror_mode": "r",
   "file_extension": ".r",
   "mimetype": "text/x-r-source",
   "name": "R",
   "pygments_lexer": "r",
   "version": "4.0.3"
  }
 },
 "nbformat": 4,
 "nbformat_minor": 4
}
