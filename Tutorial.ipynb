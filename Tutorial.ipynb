{
 "cells": [
  {
   "cell_type": "code",
   "execution_count": 1,
   "id": "catholic-central",
   "metadata": {},
   "outputs": [],
   "source": [
    "import sys\n",
    "sys.path.insert(1, './cell2cell/')\n",
    "from cell2cell.tensor.tensor import BaseTensor\n",
    "import cell2cell as c2c"
   ]
  },
  {
   "cell_type": "markdown",
   "id": "small-consensus",
   "metadata": {},
   "source": [
    "Guide to simulated cell-cell interactions, as defined by \"communication scores\" across multiple conditions. All arguments are set to work with tensor-cell2cell. When an option is required in order to work with tensor-cell2cell, it is explicitly stated"
   ]
  },
  {
   "cell_type": "code",
   "execution_count": 2,
   "id": "ahead-catalog",
   "metadata": {},
   "outputs": [
    {
     "name": "stderr",
     "output_type": "stream",
     "text": [
      "/home/hratch/anaconda3/envs/cci_dt/lib/python3.9/site-packages/scipy/optimize/minpack.py:828: OptimizeWarning: Covariance of the parameters could not be estimated\n",
      "  warnings.warn('Covariance of the parameters could not be estimated',\n"
     ]
    }
   ],
   "source": [
    "from c2c_sim.core.simulate import Simulate, CCI_MD"
   ]
  },
  {
   "cell_type": "markdown",
   "id": "binding-oakland",
   "metadata": {},
   "source": [
    "Initialize the object:"
   ]
  },
  {
   "cell_type": "code",
   "execution_count": 3,
   "id": "generic-alfred",
   "metadata": {},
   "outputs": [],
   "source": [
    "sim = Simulate()"
   ]
  },
  {
   "cell_type": "markdown",
   "id": "played-midnight",
   "metadata": {},
   "source": [
    "Generate the ligand-receptor PPI network. This will define all possible ligand-receptors (LR) that interact. If they do not interact for a given cell-cell (CC) pair, they LR \"communication score\" for that CC pair will be 0. "
   ]
  },
  {
   "cell_type": "code",
   "execution_count": 4,
   "id": "ethical-international",
   "metadata": {},
   "outputs": [
    {
     "name": "stdout",
     "output_type": "stream",
     "text": [
      "/home/hratch/Projects/cci_dt/tmpe1a3yd_w_bipartite_sf.csv\n",
      "Generate undirected, bipartite, scale-free graph\n",
      "Check network properties\n",
      "All properties are as expected\n"
     ]
    },
    {
     "name": "stderr",
     "output_type": "stream",
     "text": [
      "/home/hratch/Projects/cci_dt/c2c_sim/core/graphs.py:164: UserWarning: 65 nodes are disconnected, removing from network\n",
      "  warnings.warn(mssg)\n"
     ]
    }
   ],
   "source": [
    "# scale-free, randomly connected:\n",
    "sim.LR_network(network_type = 'scale-free', **{'nodes': 100, 'degrees': 3, 'alpha': 2})\n",
    "\n",
    "# # alternatively, randomly connected network with normal distribution:\n",
    "# sim.LR_network(network_type = 'normal', **{'n_ligands': 500, 'n_receptors': 500, 'p': 0.5})"
   ]
  },
  {
   "cell_type": "markdown",
   "id": "built-denial",
   "metadata": {},
   "source": [
    "Generate metadata associated with the LR IDs:"
   ]
  },
  {
   "cell_type": "code",
   "execution_count": 5,
   "id": "fatty-olive",
   "metadata": {},
   "outputs": [
    {
     "data": {
      "text/html": [
       "<div>\n",
       "<style scoped>\n",
       "    .dataframe tbody tr th:only-of-type {\n",
       "        vertical-align: middle;\n",
       "    }\n",
       "\n",
       "    .dataframe tbody tr th {\n",
       "        vertical-align: top;\n",
       "    }\n",
       "\n",
       "    .dataframe thead th {\n",
       "        text-align: right;\n",
       "    }\n",
       "</style>\n",
       "<table border=\"1\" class=\"dataframe\">\n",
       "  <thead>\n",
       "    <tr style=\"text-align: right;\">\n",
       "      <th></th>\n",
       "      <th>LR_id</th>\n",
       "      <th>category</th>\n",
       "      <th>subcategory</th>\n",
       "    </tr>\n",
       "  </thead>\n",
       "  <tbody>\n",
       "    <tr>\n",
       "      <th>0</th>\n",
       "      <td>(0, 101)</td>\n",
       "      <td>81133daf1890</td>\n",
       "      <td>67ace7a038b3</td>\n",
       "    </tr>\n",
       "    <tr>\n",
       "      <th>1</th>\n",
       "      <td>(0, 102)</td>\n",
       "      <td>81133daf1890</td>\n",
       "      <td>78112512d9f9</td>\n",
       "    </tr>\n",
       "    <tr>\n",
       "      <th>2</th>\n",
       "      <td>(0, 103)</td>\n",
       "      <td>81133daf1890</td>\n",
       "      <td>67ace7a038b3</td>\n",
       "    </tr>\n",
       "    <tr>\n",
       "      <th>3</th>\n",
       "      <td>(0, 104)</td>\n",
       "      <td>81133daf1890</td>\n",
       "      <td>ec59d640031d</td>\n",
       "    </tr>\n",
       "    <tr>\n",
       "      <th>4</th>\n",
       "      <td>(0, 105)</td>\n",
       "      <td>81133daf1890</td>\n",
       "      <td>67ace7a038b3</td>\n",
       "    </tr>\n",
       "  </tbody>\n",
       "</table>\n",
       "</div>"
      ],
      "text/plain": [
       "      LR_id      category   subcategory\n",
       "0  (0, 101)  81133daf1890  67ace7a038b3\n",
       "1  (0, 102)  81133daf1890  78112512d9f9\n",
       "2  (0, 103)  81133daf1890  67ace7a038b3\n",
       "3  (0, 104)  81133daf1890  ec59d640031d\n",
       "4  (0, 105)  81133daf1890  67ace7a038b3"
      ]
     },
     "execution_count": 5,
     "metadata": {},
     "output_type": "execute_result"
    }
   ],
   "source": [
    "# the dictionary generates 3 subcategories with a \"skew\" of 0\n",
    "# increasing skew will increasingly bias the binning of individual LR pairs into the subcategories\n",
    "sim.LR.generate_metadata(n_LR_cats = {3: 0}, cat_skew = 0)\n",
    "sim.LR.LR_metadata.head()"
   ]
  },
  {
   "cell_type": "markdown",
   "id": "biological-lighter",
   "metadata": {},
   "source": [
    "Generate the CC metadata. Note that to work with tensor-cell2cell, the options directional and autocrine must be set to True, and remove_homotypic must equal 0. "
   ]
  },
  {
   "cell_type": "code",
   "execution_count": 6,
   "id": "plastic-thermal",
   "metadata": {},
   "outputs": [
    {
     "data": {
      "text/html": [
       "<div>\n",
       "<style scoped>\n",
       "    .dataframe tbody tr th:only-of-type {\n",
       "        vertical-align: middle;\n",
       "    }\n",
       "\n",
       "    .dataframe tbody tr th {\n",
       "        vertical-align: top;\n",
       "    }\n",
       "\n",
       "    .dataframe thead th {\n",
       "        text-align: right;\n",
       "    }\n",
       "</style>\n",
       "<table border=\"1\" class=\"dataframe\">\n",
       "  <thead>\n",
       "    <tr style=\"text-align: right;\">\n",
       "      <th></th>\n",
       "      <th>cell_id</th>\n",
       "      <th>category</th>\n",
       "      <th>subcategory</th>\n",
       "    </tr>\n",
       "  </thead>\n",
       "  <tbody>\n",
       "    <tr>\n",
       "      <th>0</th>\n",
       "      <td>57952707f2bb</td>\n",
       "      <td>694a8fda8984</td>\n",
       "      <td>1a6ace61e7dc</td>\n",
       "    </tr>\n",
       "    <tr>\n",
       "      <th>1</th>\n",
       "      <td>0ca87f7af5b2</td>\n",
       "      <td>694a8fda8984</td>\n",
       "      <td>497a84b36d05</td>\n",
       "    </tr>\n",
       "    <tr>\n",
       "      <th>2</th>\n",
       "      <td>6b472f18d892</td>\n",
       "      <td>694a8fda8984</td>\n",
       "      <td>1a6ace61e7dc</td>\n",
       "    </tr>\n",
       "    <tr>\n",
       "      <th>3</th>\n",
       "      <td>0d9927f223e1</td>\n",
       "      <td>694a8fda8984</td>\n",
       "      <td>1a6ace61e7dc</td>\n",
       "    </tr>\n",
       "    <tr>\n",
       "      <th>4</th>\n",
       "      <td>f1a0322356a8</td>\n",
       "      <td>694a8fda8984</td>\n",
       "      <td>2518921f79f0</td>\n",
       "    </tr>\n",
       "  </tbody>\n",
       "</table>\n",
       "</div>"
      ],
      "text/plain": [
       "        cell_id      category   subcategory\n",
       "0  57952707f2bb  694a8fda8984  1a6ace61e7dc\n",
       "1  0ca87f7af5b2  694a8fda8984  497a84b36d05\n",
       "2  6b472f18d892  694a8fda8984  1a6ace61e7dc\n",
       "3  0d9927f223e1  694a8fda8984  1a6ace61e7dc\n",
       "4  f1a0322356a8  694a8fda8984  2518921f79f0"
      ]
     },
     "execution_count": 6,
     "metadata": {},
     "output_type": "execute_result"
    }
   ],
   "source": [
    "# generate cell metadata, accounting for directionality (sender vs receiver cells) and \n",
    "# allowing for autocrine interactions \n",
    "\n",
    "# note, to use with tensor-cell2cell, directional and autocrine must be True\n",
    "\n",
    "cci = CCI_MD()\n",
    "cci.cci_network(n_cells = 50, directional = True, autocrine = True)\n",
    "\n",
    "# similarly generate metadata that each cell ID is associated with, do not remove homotypic interactions\n",
    "cci.generate_metadata(n_cell_cats = {3: 0}, cat_skew = 0, remove_homotypic = 0)\n",
    "# add cell metadata to simulation object\n",
    "sim.cci = cci\n",
    "sim.cci.cell_metadata.head()"
   ]
  },
  {
   "cell_type": "markdown",
   "id": "hydraulic-success",
   "metadata": {},
   "source": [
    "Generate the tensor metadata. This groups LR and CC subcategories into pairs that will have certain patterns and communication scores across conditions."
   ]
  },
  {
   "cell_type": "code",
   "execution_count": 7,
   "id": "alive-produce",
   "metadata": {},
   "outputs": [
    {
     "name": "stderr",
     "output_type": "stream",
     "text": [
      "/home/hratch/anaconda3/envs/cci_dt/lib/python3.9/site-packages/pandas/core/internals/blocks.py:983: VisibleDeprecationWarning: Creating an ndarray from ragged nested sequences (which is a list-or-tuple of lists-or-tuples-or ndarrays with different lengths or shapes) is deprecated. If you meant to do this, you must specify 'dtype=object' when creating the ndarray.\n",
      "  arr_value = np.array(value)\n"
     ]
    },
    {
     "data": {
      "text/html": [
       "<div>\n",
       "<style scoped>\n",
       "    .dataframe tbody tr th:only-of-type {\n",
       "        vertical-align: middle;\n",
       "    }\n",
       "\n",
       "    .dataframe tbody tr th {\n",
       "        vertical-align: top;\n",
       "    }\n",
       "\n",
       "    .dataframe thead th {\n",
       "        text-align: right;\n",
       "    }\n",
       "</style>\n",
       "<table border=\"1\" class=\"dataframe\">\n",
       "  <thead>\n",
       "    <tr style=\"text-align: right;\">\n",
       "      <th></th>\n",
       "      <th>cell_subcat</th>\n",
       "      <th>LR_subcat</th>\n",
       "      <th>change</th>\n",
       "      <th>pattern</th>\n",
       "      <th>0</th>\n",
       "    </tr>\n",
       "  </thead>\n",
       "  <tbody>\n",
       "    <tr>\n",
       "      <th>0</th>\n",
       "      <td>(1a6ace61e7dc, 497a84b36d05)</td>\n",
       "      <td>67ace7a038b3</td>\n",
       "      <td>0.75</td>\n",
       "      <td>power</td>\n",
       "      <td>0.25</td>\n",
       "    </tr>\n",
       "    <tr>\n",
       "      <th>1</th>\n",
       "      <td>(1a6ace61e7dc, 2518921f79f0)</td>\n",
       "      <td>67ace7a038b3</td>\n",
       "      <td>0.50</td>\n",
       "      <td>oscillate</td>\n",
       "      <td>0.50</td>\n",
       "    </tr>\n",
       "    <tr>\n",
       "      <th>2</th>\n",
       "      <td>(497a84b36d05, 2518921f79f0)</td>\n",
       "      <td>67ace7a038b3</td>\n",
       "      <td>-0.75</td>\n",
       "      <td>pulse</td>\n",
       "      <td>0.75</td>\n",
       "    </tr>\n",
       "    <tr>\n",
       "      <th>3</th>\n",
       "      <td>(2518921f79f0, 2518921f79f0)</td>\n",
       "      <td>67ace7a038b3</td>\n",
       "      <td>-1.00</td>\n",
       "      <td>linear</td>\n",
       "      <td>1.00</td>\n",
       "    </tr>\n",
       "  </tbody>\n",
       "</table>\n",
       "</div>"
      ],
      "text/plain": [
       "                    cell_subcat     LR_subcat  change    pattern     0\n",
       "0  (1a6ace61e7dc, 497a84b36d05)  67ace7a038b3    0.75      power  0.25\n",
       "1  (1a6ace61e7dc, 2518921f79f0)  67ace7a038b3    0.50  oscillate  0.50\n",
       "2  (497a84b36d05, 2518921f79f0)  67ace7a038b3   -0.75      pulse  0.75\n",
       "3  (2518921f79f0, 2518921f79f0)  67ace7a038b3   -1.00     linear  1.00"
      ]
     },
     "execution_count": 7,
     "metadata": {},
     "output_type": "execute_result"
    }
   ],
   "source": [
    "# generate 4 CC-LR groups that change across 12 conditions. \n",
    "# these changes can either be linear, oscillating, a pulse, or exponential\n",
    "# allow homotypic interactions to form patterns - required for tensorcell2cell\n",
    "# maximize the possible change in communication score\n",
    "\n",
    "sim.generate_tensor_md(n_patterns = 4, n_conditions = 12, patterns = ['pulse', 'linear', 'oscillate', 'power'], \n",
    "                      consider_homotypic = True, score_change = 'max')\n",
    "sim.clrm[['cell_subcat', 'LR_subcat', 'change', 'pattern', '0']]"
   ]
  },
  {
   "cell_type": "markdown",
   "id": "spiritual-smile",
   "metadata": {},
   "source": [
    "sim.clrm delineates the expected patterns and values. Each row represent an LR-CC group that changes together across condition. 0 is the average expected communication score at condition 0. Pattern is the expected temporal pattern in the communication score. Change represents the maximum change of the communication score from condition 0. "
   ]
  },
  {
   "cell_type": "markdown",
   "id": "distinct-oregon",
   "metadata": {},
   "source": [
    "---\n",
    "Generate the actual values for each tensor slice. \n",
    "\n",
    "#### Part A: Complete the simulation for input to tensor-cell2cell. \n",
    "A baseline small value of noise is strongly recommended, otherwise the tensor sparsity effects the decomposition. Bulk must be set to true to work with tensor-cell2cell"
   ]
  },
  {
   "cell_type": "code",
   "execution_count": 8,
   "id": "suburban-album",
   "metadata": {},
   "outputs": [],
   "source": [
    "# story a copy of sim object for single-cell visualization later (bulk required for tensor-cell2cell)\n",
    "sim_sc = sim.copy()"
   ]
  },
  {
   "cell_type": "code",
   "execution_count": 9,
   "id": "stuffed-settle",
   "metadata": {},
   "outputs": [
    {
     "name": "stderr",
     "output_type": "stream",
     "text": [
      "/home/hratch/Projects/cci_dt/c2c_sim/core/simulate.py:716: FutureWarning: Using a non-tuple sequence for multidimensional indexing is deprecated; use `arr[tuple(seq)]` instead of `arr[seq]`. In the future this will be interpreted as an array index, `arr[np.array(seq)]`, which will result either in an error or a different result.\n",
      "  df.values[coords] = utils.get_truncated_normal(n = len(coords[0]),\n"
     ]
    }
   ],
   "source": [
    "sim.generate_tensor(noise = 0.01, bulk = True, noise_max = None)"
   ]
  },
  {
   "cell_type": "markdown",
   "id": "sought-priest",
   "metadata": {},
   "source": [
    "Generate tensor outputs a dictionary stored in the attribute \"ts\". Each key is one of n_conditions, each value is a matrix with rows as LR pairs, columns as CC pairs, and values as communication scores"
   ]
  },
  {
   "cell_type": "code",
   "execution_count": 10,
   "id": "black-arrival",
   "metadata": {},
   "outputs": [
    {
     "data": {
      "text/html": [
       "<div>\n",
       "<style scoped>\n",
       "    .dataframe tbody tr th:only-of-type {\n",
       "        vertical-align: middle;\n",
       "    }\n",
       "\n",
       "    .dataframe tbody tr th {\n",
       "        vertical-align: top;\n",
       "    }\n",
       "\n",
       "    .dataframe thead th {\n",
       "        text-align: right;\n",
       "    }\n",
       "</style>\n",
       "<table border=\"1\" class=\"dataframe\">\n",
       "  <thead>\n",
       "    <tr style=\"text-align: right;\">\n",
       "      <th></th>\n",
       "      <th>(1a6ace61e7dc, 1a6ace61e7dc)</th>\n",
       "      <th>(1a6ace61e7dc, 2518921f79f0)</th>\n",
       "      <th>(1a6ace61e7dc, 497a84b36d05)</th>\n",
       "      <th>(2518921f79f0, 1a6ace61e7dc)</th>\n",
       "      <th>(2518921f79f0, 2518921f79f0)</th>\n",
       "      <th>(2518921f79f0, 497a84b36d05)</th>\n",
       "      <th>(497a84b36d05, 1a6ace61e7dc)</th>\n",
       "      <th>(497a84b36d05, 2518921f79f0)</th>\n",
       "      <th>(497a84b36d05, 497a84b36d05)</th>\n",
       "    </tr>\n",
       "  </thead>\n",
       "  <tbody>\n",
       "    <tr>\n",
       "      <th>(0, 101)</th>\n",
       "      <td>0.002411</td>\n",
       "      <td>0.497475</td>\n",
       "      <td>0.246813</td>\n",
       "      <td>0.004833</td>\n",
       "      <td>0.999557</td>\n",
       "      <td>0.000792</td>\n",
       "      <td>0.002754</td>\n",
       "      <td>0.743658</td>\n",
       "      <td>0.000685</td>\n",
       "    </tr>\n",
       "    <tr>\n",
       "      <th>(0, 102)</th>\n",
       "      <td>0.001356</td>\n",
       "      <td>0.003554</td>\n",
       "      <td>0.000142</td>\n",
       "      <td>0.004114</td>\n",
       "      <td>0.001400</td>\n",
       "      <td>0.004593</td>\n",
       "      <td>0.000401</td>\n",
       "      <td>0.002103</td>\n",
       "      <td>0.003531</td>\n",
       "    </tr>\n",
       "    <tr>\n",
       "      <th>(0, 103)</th>\n",
       "      <td>0.003850</td>\n",
       "      <td>0.499215</td>\n",
       "      <td>0.252113</td>\n",
       "      <td>0.000073</td>\n",
       "      <td>0.999952</td>\n",
       "      <td>0.002978</td>\n",
       "      <td>0.002997</td>\n",
       "      <td>0.747385</td>\n",
       "      <td>0.003600</td>\n",
       "    </tr>\n",
       "    <tr>\n",
       "      <th>(0, 104)</th>\n",
       "      <td>0.000858</td>\n",
       "      <td>0.001961</td>\n",
       "      <td>0.000646</td>\n",
       "      <td>0.001918</td>\n",
       "      <td>0.003143</td>\n",
       "      <td>0.000134</td>\n",
       "      <td>0.001748</td>\n",
       "      <td>0.000848</td>\n",
       "      <td>0.003726</td>\n",
       "    </tr>\n",
       "    <tr>\n",
       "      <th>(0, 105)</th>\n",
       "      <td>0.000954</td>\n",
       "      <td>0.499797</td>\n",
       "      <td>0.247760</td>\n",
       "      <td>0.001079</td>\n",
       "      <td>0.991203</td>\n",
       "      <td>0.001853</td>\n",
       "      <td>0.002534</td>\n",
       "      <td>0.755738</td>\n",
       "      <td>0.001026</td>\n",
       "    </tr>\n",
       "  </tbody>\n",
       "</table>\n",
       "</div>"
      ],
      "text/plain": [
       "          (1a6ace61e7dc, 1a6ace61e7dc)  (1a6ace61e7dc, 2518921f79f0)  \\\n",
       "(0, 101)                      0.002411                      0.497475   \n",
       "(0, 102)                      0.001356                      0.003554   \n",
       "(0, 103)                      0.003850                      0.499215   \n",
       "(0, 104)                      0.000858                      0.001961   \n",
       "(0, 105)                      0.000954                      0.499797   \n",
       "\n",
       "          (1a6ace61e7dc, 497a84b36d05)  (2518921f79f0, 1a6ace61e7dc)  \\\n",
       "(0, 101)                      0.246813                      0.004833   \n",
       "(0, 102)                      0.000142                      0.004114   \n",
       "(0, 103)                      0.252113                      0.000073   \n",
       "(0, 104)                      0.000646                      0.001918   \n",
       "(0, 105)                      0.247760                      0.001079   \n",
       "\n",
       "          (2518921f79f0, 2518921f79f0)  (2518921f79f0, 497a84b36d05)  \\\n",
       "(0, 101)                      0.999557                      0.000792   \n",
       "(0, 102)                      0.001400                      0.004593   \n",
       "(0, 103)                      0.999952                      0.002978   \n",
       "(0, 104)                      0.003143                      0.000134   \n",
       "(0, 105)                      0.991203                      0.001853   \n",
       "\n",
       "          (497a84b36d05, 1a6ace61e7dc)  (497a84b36d05, 2518921f79f0)  \\\n",
       "(0, 101)                      0.002754                      0.743658   \n",
       "(0, 102)                      0.000401                      0.002103   \n",
       "(0, 103)                      0.002997                      0.747385   \n",
       "(0, 104)                      0.001748                      0.000848   \n",
       "(0, 105)                      0.002534                      0.755738   \n",
       "\n",
       "          (497a84b36d05, 497a84b36d05)  \n",
       "(0, 101)                      0.000685  \n",
       "(0, 102)                      0.003531  \n",
       "(0, 103)                      0.003600  \n",
       "(0, 104)                      0.003726  \n",
       "(0, 105)                      0.001026  "
      ]
     },
     "execution_count": 10,
     "metadata": {},
     "output_type": "execute_result"
    }
   ],
   "source": [
    "sim.ts['0'].head()"
   ]
  },
  {
   "cell_type": "markdown",
   "id": "previous-newport",
   "metadata": {},
   "source": [
    "decompose and visualize the tensor with tensor-cell2cell"
   ]
  },
  {
   "cell_type": "code",
   "execution_count": 11,
   "id": "billion-newspaper",
   "metadata": {},
   "outputs": [
    {
     "name": "stderr",
     "output_type": "stream",
     "text": [
      "  0%|          | 0/12 [00:00<?, ?it/s]/home/hratch/Projects/cci_dt/c2c_sim/core/simulate.py:752: FutureWarning: Using a non-tuple sequence for multidimensional indexing is deprecated; use `arr[tuple(seq)]` instead of `arr[seq]`. In the future this will be interpreted as an array index, `arr[np.array(seq)]`, which will result either in an error or a different result.\n",
      "  tcs[coords] = ts.iloc[idx,:].values\n",
      " 25%|██▌       | 3/12 [00:00<00:00, 20.00it/s]"
     ]
    },
    {
     "name": "stdout",
     "output_type": "stream",
     "text": [
      "Generate reshaped tensor\n"
     ]
    },
    {
     "name": "stderr",
     "output_type": "stream",
     "text": [
      "100%|██████████| 12/12 [00:00<00:00, 20.93it/s]\n"
     ]
    }
   ],
   "source": [
    "sim.reshape() # format tensor for input to tensor-cell2cell\n",
    "tensor = BaseTensor()\n",
    "t1 = sim.sim_tensor.tensor_cci\n",
    "tensor.tensor = t1\n",
    "tensor.order_names = [['Context-{}'.format(c+1) for c in range(t1.shape[0])],\n",
    "                      ['LR-{}'.format(c+1) for c in range(t1.shape[1])],\n",
    "                      ['Sender-{}'.format(c+1) for c in range(t1.shape[2])],\n",
    "                      ['Receiver-{}'.format(c+1) for c in range(t1.shape[3])]\n",
    "                     ]"
   ]
  },
  {
   "cell_type": "markdown",
   "id": "appointed-marina",
   "metadata": {},
   "source": [
    "we expect the rank of the decomposition to equal the number of patterns generated; if background is detected, add 1 to the rank"
   ]
  },
  {
   "cell_type": "code",
   "execution_count": 12,
   "id": "requested-relevance",
   "metadata": {},
   "outputs": [
    {
     "data": {
      "application/vnd.jupyter.widget-view+json": {
       "model_id": "cdd3fd8a632549dd9d228e9757faff94",
       "version_major": 2,
       "version_minor": 0
      },
      "text/plain": [
       "  0%|          | 0/5 [00:00<?, ?it/s]"
      ]
     },
     "metadata": {},
     "output_type": "display_data"
    },
    {
     "data": {
      "text/plain": [
       "(<Figure size 288x162 with 1 Axes>,\n",
       " [(1, 0.4788566070139581),\n",
       "  (2, 0.23240254028677895),\n",
       "  (3, 0.21286101392531973),\n",
       "  (4, 0.02034801566284029),\n",
       "  (5, 0.01909036273061989)])"
      ]
     },
     "execution_count": 12,
     "metadata": {},
     "output_type": "execute_result"
    },
    {
     "data": {
      "image/png": "[encoded data removed]",
      "text/plain": [
       "<Figure size 288x162 with 1 Axes>"
      ]
     },
     "metadata": {
      "needs_background": "light"
     },
     "output_type": "display_data"
    }
   ],
   "source": [
    "tensor.elbow_rank_selection(sim.sim_tensor.rank + 1)"
   ]
  },
  {
   "cell_type": "code",
   "execution_count": 13,
   "id": "painted-jungle",
   "metadata": {},
   "outputs": [
    {
     "data": {
      "image/png": "[encoded data removed]",
      "text/plain": [
       "<Figure size 720x504 with 20 Axes>"
      ]
     },
     "metadata": {
      "needs_background": "light"
     },
     "output_type": "display_data"
    }
   ],
   "source": [
    "tensor.compute_tensor_factorization(rank=sim.sim_tensor.rank+1)\n",
    "fig, axes = c2c.plotting.tensor_factors_plot(interaction_tensor=tensor,\n",
    "                                             order_labels=['Time', 'Ligand-Receptor Pair', 'Sender Cell', 'Receiver Cell'],\n",
    "                                             #metadata = tensor.order_names,\n",
    "                                             #sample_col='Order',\n",
    "                                             #group_col='Element',\n",
    "                                             #meta_cmaps=['viridis', 'tab20', 'Pastel1', 'Pastel1'],\n",
    "                                             fontsize=14# filename=fig_path + 'TF_SIM_v' + str(version) + '.svg'\n",
    "                                            )"
   ]
  },
  {
   "cell_type": "markdown",
   "id": "focal-disclosure",
   "metadata": {},
   "source": [
    "---\n",
    "#### Part B: Visualize the actual patterns across conditions. \n",
    "\n",
    "We will proceed with a single-cell tensor instead, because it gives a larger distribution (50 cells vs 3 cell \"types\"). "
   ]
  },
  {
   "cell_type": "code",
   "execution_count": 14,
   "id": "oriented-providence",
   "metadata": {},
   "outputs": [
    {
     "name": "stderr",
     "output_type": "stream",
     "text": [
      "/home/hratch/Projects/cci_dt/c2c_sim/core/simulate.py:698: FutureWarning: Using a non-tuple sequence for multidimensional indexing is deprecated; use `arr[tuple(seq)]` instead of `arr[seq]`. In the future this will be interpreted as an array index, `arr[np.array(seq)]`, which will result either in an error or a different result.\n",
      "  df.values[coords] = avg_val # non-backgroun\n"
     ]
    }
   ],
   "source": [
    "sim_sc.generate_tensor(noise = 0, bulk = False)"
   ]
  },
  {
   "cell_type": "code",
   "execution_count": 15,
   "id": "disabled-metro",
   "metadata": {},
   "outputs": [
    {
     "name": "stderr",
     "output_type": "stream",
     "text": [
      "/home/hratch/Projects/cci_dt/c2c_sim/core/simulate.py:809: FutureWarning: Using a non-tuple sequence for multidimensional indexing is deprecated; use `arr[tuple(seq)]` instead of `arr[seq]`. In the future this will be interpreted as an array index, `arr[np.array(seq)]`, which will result either in an error or a different result.\n",
      "  res_['score'] = self.ts[cond].values[self.clrm.loc[cat,'ts_coordinates']]\n"
     ]
    },
    {
     "name": "stdout",
     "output_type": "stream",
     "text": [
      "Generate graph\n"
     ]
    },
    {
     "data": {
      "image/png": "[encoded data removed]",
      "text/plain": [
       "<Figure size 720x360 with 1 Axes>"
      ]
     },
     "metadata": {
      "needs_background": "light"
     },
     "output_type": "display_data"
    }
   ],
   "source": [
    "# # background_coords = sim_sc.get_background()\n",
    "sim_sc.visualize(include_background = False, subset = None, background_coords = None, \n",
    "                file_name = None)"
   ]
  }
 ],
 "metadata": {
  "kernelspec": {
   "display_name": "Python [conda env:cci_dt] *",
   "language": "python",
   "name": "conda-env-cci_dt-py"
  },
  "language_info": {
   "codemirror_mode": {
    "name": "ipython",
    "version": 3
   },
   "file_extension": ".py",
   "mimetype": "text/x-python",
   "name": "python",
   "nbconvert_exporter": "python",
   "pygments_lexer": "ipython3",
   "version": "3.9.1"
  }
 },
 "nbformat": 4,
 "nbformat_minor": 5
}
