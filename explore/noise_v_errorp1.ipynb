{
 "cells": [
  {
   "cell_type": "code",
   "execution_count": 1,
   "metadata": {},
   "outputs": [
    {
     "name": "stderr",
     "output_type": "stream",
     "text": [
      "/home/hratch/anaconda3/envs/cci_dt/lib/python3.9/site-packages/scipy/optimize/minpack.py:828: OptimizeWarning: Covariance of the parameters could not be estimated\n",
      "  warnings.warn('Covariance of the parameters could not be estimated',\n"
     ]
    }
   ],
   "source": [
    "#---prevent tensorly non_negative_parafac from parallelizing\n",
    "import os\n",
    "os.environ['OPENBLAS_NUM_THREADS'] = '1'\n",
    "import tensorly as tl\n",
    "tl.set_backend(tl.get_backend(), local_threadsafe=True)\n",
    "\n",
    "#------\n",
    "import pickle\n",
    "import numpy as np\n",
    "import multiprocessing\n",
    "import matplotlib.pyplot as plt\n",
    "from tqdm import trange\n",
    "import copy\n",
    "\n",
    "import sys\n",
    "sys.path.insert(1, '../cell2cell/')\n",
    "import cell2cell as c2c\n",
    "from cell2cell.tensor.tensor import BaseTensor\n",
    "from cell2cell.tensor.factorization import _compute_norm_error, _compute_tensor_factorization\n",
    "\n",
    "sys.path.insert(1, '../c2c_sim/')\n",
    "from core.simulate import Simulate, CCI_MD\n",
    "\n",
    "\n",
    "# specify path to save figures\n",
    "fig_path = ''#'/data2/hratch/cci_dt/figures/'\n",
    "data_path = ''#'/data2/hratch/cci_dt/noise_v_error/'\n",
    "version = 1\n",
    "\n",
    "n_iter = 100#0 # of iterations per noise value\n",
    "n_cores = 15 # number of cores for parallelization\n",
    "par = True"
   ]
  },
  {
   "cell_type": "code",
   "execution_count": 2,
   "metadata": {},
   "outputs": [],
   "source": [
    "with open(data_path + 'sim_obj_v' + str(version) + '.pickle', 'rb') as f:\n",
    "    sim_0 = pickle.load(f) # from sim_tensor_decompose_vis script\n",
    "\n",
    "fn_1 = data_path + 'error_vs_noise_' + str(version) + '_noise0_05.tab' # save results here\n",
    "fn_2 = data_path + 'error_vs_noise_' + str(version) + '_noise0_25.tab' # save results here\n",
    "\n",
    "for fn in [fn_1, fn_2]:\n",
    "    if not os.path.isfile(fn):\n",
    "        with open(fn, 'w') as f:\n",
    "            f.write('Noise' + '\\t' + 'Error' + '\\t' + 'Rank' + '\\n')\n",
    "    else:\n",
    "        raise ValueError('Unexpected results file already exists')"
   ]
  },
  {
   "cell_type": "code",
   "execution_count": 4,
   "metadata": {},
   "outputs": [],
   "source": [
    "def get_error(noise, noise_max, fn):\n",
    "    try:\n",
    "        #-------new patterns using original LR and CC networks (otherwise sim = sim_0)\n",
    "        sim = Simulate()\n",
    "        sim.LR = copy.deepcopy(sim_0.LR)\n",
    "        sim.cci = copy.deepcopy(sim_0.cci)\n",
    "        sim.generate_tensor_md(n_patterns = 4, n_conditions = 12, patterns = ['pulse', 'linear', 'oscillate', 'power'], \n",
    "                              consider_homotypic = True, score_change = 'max')\n",
    "\n",
    "        #-------new communication scores\n",
    "        sim.generate_tensor(noise = noise, binary = False, bulk = True, noise_max = noise_max)\n",
    "        sim.reshape()\n",
    "        #-------decompose\n",
    "        tensor_ = BaseTensor()\n",
    "        tensor_.tensor = sim.sim_tensor.tensor_cci\n",
    "\n",
    "        error = list()\n",
    "        for r_add in range(3):\n",
    "            tensor_.compute_tensor_factorization(rank=sim.sim_tensor.rank + r_add,\n",
    "                                               tf_type='non_negative_cp',\n",
    "                                               init='svd',\n",
    "                                               random_state=None,\n",
    "                                               verbose=False)\n",
    "            err = _compute_norm_error(tensor_.tensor, tensor_.tl_object)\n",
    "            error.append(err)\n",
    "\n",
    "#         err = min(error)\n",
    "        for err, rank in zip(error, list(np.array(range(3)) + sim.sim_tensor.rank)):\n",
    "            with open(fn, 'a') as f:\n",
    "                f.write(str(noise) + '\\t' + str(err) + '\\t' + str(rank) + '\\n')\n",
    "    except:\n",
    "        with open(fn, 'a') as f:\n",
    "            f.write('fail' + '\\t' + 'fail' + '\\n')"
   ]
  },
  {
   "cell_type": "code",
   "execution_count": null,
   "metadata": {
    "scrolled": true
   },
   "outputs": [
    {
     "name": "stderr",
     "output_type": "stream",
     "text": [
      "\r",
      "  0%|          | 0/10 [00:00<?, ?it/s]"
     ]
    },
    {
     "name": "stdout",
     "output_type": "stream",
     "text": [
      "Cap background noise at 0.05\n",
      "------------------------------------------\n",
      "Noise: 0.01\n"
     ]
    },
    {
     "name": "stderr",
     "output_type": "stream",
     "text": [
      "/home/hratch/anaconda3/envs/cci_dt/lib/python3.9/site-packages/pandas/core/internals/blocks.py:983: VisibleDeprecationWarning: Creating an ndarray from ragged nested sequences (which is a list-or-tuple of lists-or-tuples-or ndarrays with different lengths or shapes) is deprecated. If you meant to do this, you must specify 'dtype=object' when creating the ndarray.\n",
      "  arr_value = np.array(value)\n",
      "../c2c_sim/core/simulate.py:724: FutureWarning: Using a non-tuple sequence for multidimensional indexing is deprecated; use `arr[tuple(seq)]` instead of `arr[seq]`. In the future this will be interpreted as an array index, `arr[np.array(seq)]`, which will result either in an error or a different result.\n",
      "  df.values[coords] = vals\n",
      "\n",
      "  0%|          | 0/12 [00:00<?, ?it/s]\u001b[A../c2c_sim/core/simulate.py:759: FutureWarning: Using a non-tuple sequence for multidimensional indexing is deprecated; use `arr[tuple(seq)]` instead of `arr[seq]`. In the future this will be interpreted as an array index, `arr[np.array(seq)]`, which will result either in an error or a different result.\n",
      "  tcs[coords] = ts.iloc[idx,:].values\n",
      "\n",
      " 17%|█▋        | 2/12 [00:00<00:00, 19.29it/s]\u001b[A"
     ]
    },
    {
     "name": "stdout",
     "output_type": "stream",
     "text": [
      "Generate reshaped tensor\n"
     ]
    },
    {
     "name": "stderr",
     "output_type": "stream",
     "text": [
      "\n",
      " 42%|████▏     | 5/12 [00:00<00:00, 19.96it/s]\u001b[A\n",
      " 58%|█████▊    | 7/12 [00:00<00:00, 19.77it/s]\u001b[A\n",
      " 83%|████████▎ | 10/12 [00:00<00:00, 20.01it/s]\u001b[A\n",
      "100%|██████████| 12/12 [00:00<00:00, 19.78it/s]\u001b[A\n",
      " 10%|█         | 1/10 [00:20<03:03, 20.38s/it]\n",
      "  0%|          | 0/12 [00:00<?, ?it/s]\u001b[A\n",
      " 25%|██▌       | 3/12 [00:00<00:00, 22.51it/s]\u001b[A"
     ]
    },
    {
     "name": "stdout",
     "output_type": "stream",
     "text": [
      "Generate reshaped tensor\n"
     ]
    },
    {
     "name": "stderr",
     "output_type": "stream",
     "text": [
      "\n",
      " 50%|█████     | 6/12 [00:00<00:00, 22.20it/s]\u001b[A\n",
      " 75%|███████▌  | 9/12 [00:00<00:00, 22.34it/s]\u001b[A\n",
      "100%|██████████| 12/12 [00:00<00:00, 22.24it/s]\u001b[A\n",
      " 20%|██        | 2/10 [00:33<02:09, 16.18s/it]\n",
      "  0%|          | 0/12 [00:00<?, ?it/s]\u001b[A\n",
      " 25%|██▌       | 3/12 [00:00<00:00, 21.86it/s]\u001b[A"
     ]
    },
    {
     "name": "stdout",
     "output_type": "stream",
     "text": [
      "Generate reshaped tensor\n"
     ]
    },
    {
     "name": "stderr",
     "output_type": "stream",
     "text": [
      "\n",
      " 50%|█████     | 6/12 [00:00<00:00, 21.25it/s]\u001b[A\n",
      " 75%|███████▌  | 9/12 [00:00<00:00, 21.08it/s]\u001b[A\n",
      "100%|██████████| 12/12 [00:00<00:00, 20.99it/s]\u001b[A\n",
      " 30%|███       | 3/10 [00:51<01:57, 16.83s/it]\n",
      "  0%|          | 0/12 [00:00<?, ?it/s]\u001b[A\n",
      " 25%|██▌       | 3/12 [00:00<00:00, 21.66it/s]\u001b[A"
     ]
    },
    {
     "name": "stdout",
     "output_type": "stream",
     "text": [
      "Generate reshaped tensor\n"
     ]
    },
    {
     "name": "stderr",
     "output_type": "stream",
     "text": [
      "\n",
      " 50%|█████     | 6/12 [00:00<00:00, 20.77it/s]\u001b[A\n",
      " 75%|███████▌  | 9/12 [00:00<00:00, 20.57it/s]\u001b[A\n",
      "100%|██████████| 12/12 [00:00<00:00, 20.43it/s]\u001b[A\n",
      " 40%|████      | 4/10 [01:05<01:34, 15.82s/it]\n",
      "  0%|          | 0/12 [00:00<?, ?it/s]\u001b[A\n",
      " 25%|██▌       | 3/12 [00:00<00:00, 21.21it/s]\u001b[A"
     ]
    },
    {
     "name": "stdout",
     "output_type": "stream",
     "text": [
      "Generate reshaped tensor\n"
     ]
    },
    {
     "name": "stderr",
     "output_type": "stream",
     "text": [
      "\n",
      " 50%|█████     | 6/12 [00:00<00:00, 21.39it/s]\u001b[A\n",
      " 75%|███████▌  | 9/12 [00:00<00:00, 21.26it/s]\u001b[A\n",
      "100%|██████████| 12/12 [00:00<00:00, 21.05it/s]\u001b[A\n",
      " 50%|█████     | 5/10 [01:17<01:11, 14.33s/it]\n",
      "  0%|          | 0/12 [00:00<?, ?it/s]\u001b[A\n",
      " 25%|██▌       | 3/12 [00:00<00:00, 21.30it/s]\u001b[A"
     ]
    },
    {
     "name": "stdout",
     "output_type": "stream",
     "text": [
      "Generate reshaped tensor\n"
     ]
    },
    {
     "name": "stderr",
     "output_type": "stream",
     "text": [
      "\n",
      " 50%|█████     | 6/12 [00:00<00:00, 20.55it/s]\u001b[A\n",
      " 75%|███████▌  | 9/12 [00:00<00:00, 20.55it/s]\u001b[A\n",
      "100%|██████████| 12/12 [00:00<00:00, 20.47it/s]\u001b[A\n",
      " 60%|██████    | 6/10 [01:28<00:52, 13.24s/it]\n",
      "  0%|          | 0/12 [00:00<?, ?it/s]\u001b[A\n",
      " 25%|██▌       | 3/12 [00:00<00:00, 20.58it/s]\u001b[A"
     ]
    },
    {
     "name": "stdout",
     "output_type": "stream",
     "text": [
      "Generate reshaped tensor\n"
     ]
    },
    {
     "name": "stderr",
     "output_type": "stream",
     "text": [
      "\n",
      " 50%|█████     | 6/12 [00:00<00:00, 20.07it/s]\u001b[A\n",
      " 75%|███████▌  | 9/12 [00:00<00:00, 18.63it/s]\u001b[A\n",
      "100%|██████████| 12/12 [00:00<00:00, 19.18it/s]\u001b[A\n",
      " 70%|███████   | 7/10 [01:45<00:43, 14.64s/it]\n",
      "  0%|          | 0/12 [00:00<?, ?it/s]\u001b[A\n",
      " 25%|██▌       | 3/12 [00:00<00:00, 21.47it/s]\u001b[A"
     ]
    },
    {
     "name": "stdout",
     "output_type": "stream",
     "text": [
      "Generate reshaped tensor\n"
     ]
    },
    {
     "name": "stderr",
     "output_type": "stream",
     "text": [
      "\n",
      " 50%|█████     | 6/12 [00:00<00:00, 21.12it/s]\u001b[A\n",
      " 75%|███████▌  | 9/12 [00:00<00:00, 20.92it/s]\u001b[A\n",
      "100%|██████████| 12/12 [00:00<00:00, 20.69it/s]\u001b[A\n",
      " 80%|████████  | 8/10 [01:59<00:28, 14.45s/it]\n",
      "  0%|          | 0/12 [00:00<?, ?it/s]\u001b[A\n",
      " 25%|██▌       | 3/12 [00:00<00:00, 21.24it/s]\u001b[A"
     ]
    },
    {
     "name": "stdout",
     "output_type": "stream",
     "text": [
      "Generate reshaped tensor\n"
     ]
    },
    {
     "name": "stderr",
     "output_type": "stream",
     "text": [
      "\n",
      " 50%|█████     | 6/12 [00:00<00:00, 20.91it/s]\u001b[A\n",
      " 75%|███████▌  | 9/12 [00:00<00:00, 20.49it/s]\u001b[A\n",
      "100%|██████████| 12/12 [00:00<00:00, 20.41it/s]\u001b[A\n",
      " 90%|█████████ | 9/10 [02:20<00:16, 16.40s/it]\n",
      "  0%|          | 0/12 [00:00<?, ?it/s]\u001b[A\n",
      " 25%|██▌       | 3/12 [00:00<00:00, 21.75it/s]\u001b[A"
     ]
    },
    {
     "name": "stdout",
     "output_type": "stream",
     "text": [
      "Generate reshaped tensor\n"
     ]
    },
    {
     "name": "stderr",
     "output_type": "stream",
     "text": [
      "\n",
      " 50%|█████     | 6/12 [00:00<00:00, 21.49it/s]\u001b[A\n",
      " 75%|███████▌  | 9/12 [00:00<00:00, 20.94it/s]\u001b[A\n",
      "100%|██████████| 12/12 [00:00<00:00, 20.97it/s]\u001b[A\n",
      "100%|██████████| 10/10 [02:37<00:00, 15.75s/it]\n",
      "  0%|          | 0/10 [00:00<?, ?it/s]"
     ]
    },
    {
     "name": "stdout",
     "output_type": "stream",
     "text": [
      "------------------------------------------\n",
      "Noise: 0.02\n"
     ]
    },
    {
     "name": "stderr",
     "output_type": "stream",
     "text": [
      "\n",
      "  0%|          | 0/12 [00:00<?, ?it/s]\u001b[A\n",
      " 25%|██▌       | 3/12 [00:00<00:00, 22.90it/s]\u001b[A"
     ]
    },
    {
     "name": "stdout",
     "output_type": "stream",
     "text": [
      "Generate reshaped tensor\n"
     ]
    },
    {
     "name": "stderr",
     "output_type": "stream",
     "text": [
      "\n",
      " 50%|█████     | 6/12 [00:00<00:00, 22.14it/s]\u001b[A\n",
      " 75%|███████▌  | 9/12 [00:00<00:00, 22.05it/s]\u001b[A\n",
      "100%|██████████| 12/12 [00:00<00:00, 21.94it/s]\u001b[A\n",
      " 10%|█         | 1/10 [00:22<03:22, 22.49s/it]\n",
      "  0%|          | 0/12 [00:00<?, ?it/s]\u001b[A\n",
      " 25%|██▌       | 3/12 [00:00<00:00, 21.14it/s]\u001b[A"
     ]
    },
    {
     "name": "stdout",
     "output_type": "stream",
     "text": [
      "Generate reshaped tensor\n"
     ]
    },
    {
     "name": "stderr",
     "output_type": "stream",
     "text": [
      "\n",
      " 50%|█████     | 6/12 [00:00<00:00, 20.99it/s]\u001b[A\n",
      " 75%|███████▌  | 9/12 [00:00<00:00, 20.64it/s]\u001b[A\n",
      "100%|██████████| 12/12 [00:00<00:00, 20.34it/s]\u001b[A\n",
      " 20%|██        | 2/10 [00:35<02:15, 16.97s/it]\n",
      "  0%|          | 0/12 [00:00<?, ?it/s]\u001b[A\n",
      " 25%|██▌       | 3/12 [00:00<00:00, 21.18it/s]\u001b[A"
     ]
    },
    {
     "name": "stdout",
     "output_type": "stream",
     "text": [
      "Generate reshaped tensor\n"
     ]
    },
    {
     "name": "stderr",
     "output_type": "stream",
     "text": [
      "\n",
      " 50%|█████     | 6/12 [00:00<00:00, 19.40it/s]\u001b[A\n",
      " 67%|██████▋   | 8/12 [00:00<00:00, 18.32it/s]\u001b[A\n",
      "100%|██████████| 12/12 [00:00<00:00, 19.22it/s]\u001b[A\n",
      " 30%|███       | 3/10 [00:51<01:55, 16.54s/it]\n",
      "  0%|          | 0/12 [00:00<?, ?it/s]\u001b[A\n",
      " 25%|██▌       | 3/12 [00:00<00:00, 22.55it/s]\u001b[A"
     ]
    },
    {
     "name": "stdout",
     "output_type": "stream",
     "text": [
      "Generate reshaped tensor\n"
     ]
    },
    {
     "name": "stderr",
     "output_type": "stream",
     "text": [
      "\n",
      " 50%|█████     | 6/12 [00:00<00:00, 21.97it/s]\u001b[A\n",
      " 75%|███████▌  | 9/12 [00:00<00:00, 21.65it/s]\u001b[A\n",
      "100%|██████████| 12/12 [00:00<00:00, 21.57it/s]\u001b[A\n",
      " 40%|████      | 4/10 [01:07<01:37, 16.29s/it]\n",
      "  0%|          | 0/12 [00:00<?, ?it/s]\u001b[A\n",
      " 25%|██▌       | 3/12 [00:00<00:00, 22.79it/s]\u001b[A"
     ]
    },
    {
     "name": "stdout",
     "output_type": "stream",
     "text": [
      "Generate reshaped tensor\n"
     ]
    },
    {
     "name": "stderr",
     "output_type": "stream",
     "text": [
      "\n",
      " 50%|█████     | 6/12 [00:00<00:00, 22.41it/s]\u001b[A\n",
      " 75%|███████▌  | 9/12 [00:00<00:00, 22.33it/s]\u001b[A\n",
      "100%|██████████| 12/12 [00:00<00:00, 22.37it/s]\u001b[A\n",
      " 50%|█████     | 5/10 [01:20<01:15, 15.12s/it]\n",
      "  0%|          | 0/12 [00:00<?, ?it/s]\u001b[A\n",
      " 25%|██▌       | 3/12 [00:00<00:00, 22.45it/s]\u001b[A"
     ]
    },
    {
     "name": "stdout",
     "output_type": "stream",
     "text": [
      "Generate reshaped tensor\n"
     ]
    },
    {
     "name": "stderr",
     "output_type": "stream",
     "text": [
      "\n",
      " 50%|█████     | 6/12 [00:00<00:00, 22.05it/s]\u001b[A\n",
      " 75%|███████▌  | 9/12 [00:00<00:00, 21.69it/s]\u001b[A\n",
      "100%|██████████| 12/12 [00:00<00:00, 21.61it/s]\u001b[A\n",
      " 60%|██████    | 6/10 [01:38<01:04, 16.06s/it]\n",
      "  0%|          | 0/12 [00:00<?, ?it/s]\u001b[A\n",
      " 25%|██▌       | 3/12 [00:00<00:00, 22.05it/s]\u001b[A"
     ]
    },
    {
     "name": "stdout",
     "output_type": "stream",
     "text": [
      "Generate reshaped tensor\n"
     ]
    },
    {
     "name": "stderr",
     "output_type": "stream",
     "text": [
      "\n",
      " 50%|█████     | 6/12 [00:00<00:00, 21.22it/s]\u001b[A\n",
      " 75%|███████▌  | 9/12 [00:00<00:00, 21.04it/s]\u001b[A\n",
      "100%|██████████| 12/12 [00:00<00:00, 20.95it/s]\u001b[A\n",
      " 70%|███████   | 7/10 [01:52<00:45, 15.32s/it]\n",
      "  0%|          | 0/12 [00:00<?, ?it/s]\u001b[A\n",
      " 25%|██▌       | 3/12 [00:00<00:00, 21.81it/s]\u001b[A"
     ]
    },
    {
     "name": "stdout",
     "output_type": "stream",
     "text": [
      "Generate reshaped tensor\n"
     ]
    },
    {
     "name": "stderr",
     "output_type": "stream",
     "text": [
      "\n",
      " 50%|█████     | 6/12 [00:00<00:00, 21.68it/s]\u001b[A\n",
      " 75%|███████▌  | 9/12 [00:00<00:00, 21.68it/s]\u001b[A\n",
      "100%|██████████| 12/12 [00:00<00:00, 21.41it/s]\u001b[A\n",
      " 80%|████████  | 8/10 [02:02<00:27, 13.59s/it]\n",
      "  0%|          | 0/12 [00:00<?, ?it/s]\u001b[A\n",
      " 25%|██▌       | 3/12 [00:00<00:00, 22.88it/s]\u001b[A"
     ]
    },
    {
     "name": "stdout",
     "output_type": "stream",
     "text": [
      "Generate reshaped tensor\n"
     ]
    },
    {
     "name": "stderr",
     "output_type": "stream",
     "text": [
      "\n",
      " 50%|█████     | 6/12 [00:00<00:00, 22.52it/s]\u001b[A\n",
      " 75%|███████▌  | 9/12 [00:00<00:00, 22.16it/s]\u001b[A\n",
      "100%|██████████| 12/12 [00:00<00:00, 21.97it/s]\u001b[A\n",
      " 90%|█████████ | 9/10 [02:27<00:17, 17.39s/it]\n",
      "  0%|          | 0/12 [00:00<?, ?it/s]\u001b[A\n",
      " 25%|██▌       | 3/12 [00:00<00:00, 21.95it/s]\u001b[A"
     ]
    },
    {
     "name": "stdout",
     "output_type": "stream",
     "text": [
      "Generate reshaped tensor\n"
     ]
    },
    {
     "name": "stderr",
     "output_type": "stream",
     "text": [
      "\n",
      " 50%|█████     | 6/12 [00:00<00:00, 21.27it/s]\u001b[A\n",
      " 75%|███████▌  | 9/12 [00:00<00:00, 21.14it/s]\u001b[A\n",
      "100%|██████████| 12/12 [00:00<00:00, 21.00it/s]\u001b[A\n",
      "100%|██████████| 10/10 [02:40<00:00, 16.06s/it]\n",
      "  0%|          | 0/10 [00:00<?, ?it/s]"
     ]
    },
    {
     "name": "stdout",
     "output_type": "stream",
     "text": [
      "------------------------------------------\n",
      "Noise: 0.03\n"
     ]
    },
    {
     "name": "stderr",
     "output_type": "stream",
     "text": [
      "\n",
      "  0%|          | 0/12 [00:00<?, ?it/s]\u001b[A\n",
      " 25%|██▌       | 3/12 [00:00<00:00, 22.29it/s]\u001b[A"
     ]
    },
    {
     "name": "stdout",
     "output_type": "stream",
     "text": [
      "Generate reshaped tensor\n"
     ]
    },
    {
     "name": "stderr",
     "output_type": "stream",
     "text": [
      "\n",
      " 50%|█████     | 6/12 [00:00<00:00, 22.13it/s]\u001b[A\n",
      " 75%|███████▌  | 9/12 [00:00<00:00, 22.04it/s]\u001b[A\n",
      "100%|██████████| 12/12 [00:00<00:00, 22.08it/s]\u001b[A\n",
      " 10%|█         | 1/10 [00:24<03:37, 24.21s/it]\n",
      "  0%|          | 0/12 [00:00<?, ?it/s]\u001b[A\n",
      " 25%|██▌       | 3/12 [00:00<00:00, 22.12it/s]\u001b[A"
     ]
    },
    {
     "name": "stdout",
     "output_type": "stream",
     "text": [
      "Generate reshaped tensor\n"
     ]
    },
    {
     "name": "stderr",
     "output_type": "stream",
     "text": [
      "\n",
      " 50%|█████     | 6/12 [00:00<00:00, 22.14it/s]\u001b[A\n",
      " 75%|███████▌  | 9/12 [00:00<00:00, 21.90it/s]\u001b[A\n",
      "100%|██████████| 12/12 [00:00<00:00, 21.91it/s]\u001b[A\n",
      " 20%|██        | 2/10 [00:38<02:27, 18.39s/it]\n",
      "  0%|          | 0/12 [00:00<?, ?it/s]\u001b[A\n",
      " 25%|██▌       | 3/12 [00:00<00:00, 20.97it/s]\u001b[A"
     ]
    },
    {
     "name": "stdout",
     "output_type": "stream",
     "text": [
      "Generate reshaped tensor\n"
     ]
    },
    {
     "name": "stderr",
     "output_type": "stream",
     "text": [
      "\n",
      " 50%|█████     | 6/12 [00:00<00:00, 21.05it/s]\u001b[A\n",
      " 75%|███████▌  | 9/12 [00:00<00:00, 21.47it/s]\u001b[A\n",
      "100%|██████████| 12/12 [00:00<00:00, 21.40it/s]\u001b[A\n",
      " 30%|███       | 3/10 [00:58<02:13, 19.01s/it]\n",
      "  0%|          | 0/12 [00:00<?, ?it/s]\u001b[A\n",
      " 25%|██▌       | 3/12 [00:00<00:00, 22.29it/s]\u001b[A"
     ]
    },
    {
     "name": "stdout",
     "output_type": "stream",
     "text": [
      "Generate reshaped tensor\n"
     ]
    },
    {
     "name": "stderr",
     "output_type": "stream",
     "text": [
      "\n",
      " 50%|█████     | 6/12 [00:00<00:00, 21.59it/s]\u001b[A\n",
      " 75%|███████▌  | 9/12 [00:00<00:00, 20.89it/s]\u001b[A\n",
      "100%|██████████| 12/12 [00:00<00:00, 20.81it/s]\u001b[A\n",
      " 40%|████      | 4/10 [01:14<01:47, 17.91s/it]\n",
      "  0%|          | 0/12 [00:00<?, ?it/s]\u001b[A\n",
      " 25%|██▌       | 3/12 [00:00<00:00, 21.43it/s]\u001b[A"
     ]
    },
    {
     "name": "stdout",
     "output_type": "stream",
     "text": [
      "Generate reshaped tensor\n"
     ]
    },
    {
     "name": "stderr",
     "output_type": "stream",
     "text": [
      "\n",
      " 50%|█████     | 6/12 [00:00<00:00, 20.65it/s]\u001b[A\n",
      " 75%|███████▌  | 9/12 [00:00<00:00, 20.55it/s]\u001b[A\n",
      "100%|██████████| 12/12 [00:00<00:00, 20.53it/s]\u001b[A\n",
      " 50%|█████     | 5/10 [01:29<01:25, 17.01s/it]\n",
      "  0%|          | 0/12 [00:00<?, ?it/s]\u001b[A\n",
      " 17%|█▋        | 2/12 [00:00<00:00, 19.83it/s]\u001b[A"
     ]
    },
    {
     "name": "stdout",
     "output_type": "stream",
     "text": [
      "Generate reshaped tensor\n"
     ]
    },
    {
     "name": "stderr",
     "output_type": "stream",
     "text": [
      "\n",
      " 42%|████▏     | 5/12 [00:00<00:00, 19.99it/s]\u001b[A\n",
      " 58%|█████▊    | 7/12 [00:00<00:00, 18.01it/s]\u001b[A\n",
      " 75%|███████▌  | 9/12 [00:00<00:00, 18.61it/s]\u001b[A\n",
      "100%|██████████| 12/12 [00:00<00:00, 19.02it/s]\u001b[A\n",
      " 60%|██████    | 6/10 [01:41<01:00, 15.06s/it]\n",
      "  0%|          | 0/12 [00:00<?, ?it/s]\u001b[A\n",
      " 25%|██▌       | 3/12 [00:00<00:00, 21.93it/s]\u001b[A"
     ]
    },
    {
     "name": "stdout",
     "output_type": "stream",
     "text": [
      "Generate reshaped tensor\n"
     ]
    },
    {
     "name": "stderr",
     "output_type": "stream",
     "text": [
      "\n",
      " 50%|█████     | 6/12 [00:00<00:00, 21.68it/s]\u001b[A\n",
      " 75%|███████▌  | 9/12 [00:00<00:00, 21.60it/s]\u001b[A\n",
      "100%|██████████| 12/12 [00:00<00:00, 21.43it/s]\u001b[A\n",
      " 70%|███████   | 7/10 [01:52<00:41, 13.96s/it]\n",
      "  0%|          | 0/12 [00:00<?, ?it/s]\u001b[A\n",
      " 25%|██▌       | 3/12 [00:00<00:00, 22.30it/s]\u001b[A"
     ]
    },
    {
     "name": "stdout",
     "output_type": "stream",
     "text": [
      "Generate reshaped tensor\n"
     ]
    },
    {
     "name": "stderr",
     "output_type": "stream",
     "text": [
      "\n",
      " 50%|█████     | 6/12 [00:00<00:00, 21.57it/s]\u001b[A\n",
      " 75%|███████▌  | 9/12 [00:00<00:00, 21.22it/s]\u001b[A\n",
      "100%|██████████| 12/12 [00:00<00:00, 21.08it/s]\u001b[A\n",
      " 80%|████████  | 8/10 [02:02<00:25, 12.71s/it]\n",
      "  0%|          | 0/12 [00:00<?, ?it/s]\u001b[A\n",
      " 25%|██▌       | 3/12 [00:00<00:00, 20.58it/s]\u001b[A"
     ]
    },
    {
     "name": "stdout",
     "output_type": "stream",
     "text": [
      "Generate reshaped tensor\n"
     ]
    },
    {
     "name": "stderr",
     "output_type": "stream",
     "text": [
      "\n",
      " 50%|█████     | 6/12 [00:00<00:00, 19.96it/s]\u001b[A\n",
      " 75%|███████▌  | 9/12 [00:00<00:00, 20.12it/s]\u001b[A\n",
      "100%|██████████| 12/12 [00:00<00:00, 20.01it/s]\u001b[A\n",
      " 90%|█████████ | 9/10 [02:18<00:13, 13.72s/it]\n",
      "  0%|          | 0/12 [00:00<?, ?it/s]\u001b[A\n",
      " 25%|██▌       | 3/12 [00:00<00:00, 21.51it/s]\u001b[A"
     ]
    },
    {
     "name": "stdout",
     "output_type": "stream",
     "text": [
      "Generate reshaped tensor\n"
     ]
    },
    {
     "name": "stderr",
     "output_type": "stream",
     "text": [
      "\n",
      " 50%|█████     | 6/12 [00:00<00:00, 21.20it/s]\u001b[A\n",
      " 75%|███████▌  | 9/12 [00:00<00:00, 21.24it/s]\u001b[A\n",
      "100%|██████████| 12/12 [00:00<00:00, 20.86it/s]\u001b[A\n",
      "100%|██████████| 10/10 [02:37<00:00, 15.74s/it]\n",
      "  0%|          | 0/10 [00:00<?, ?it/s]"
     ]
    },
    {
     "name": "stdout",
     "output_type": "stream",
     "text": [
      "------------------------------------------\n",
      "Noise: 0.04\n"
     ]
    },
    {
     "name": "stderr",
     "output_type": "stream",
     "text": [
      "\n",
      "  0%|          | 0/12 [00:00<?, ?it/s]\u001b[A\n",
      " 25%|██▌       | 3/12 [00:00<00:00, 22.50it/s]\u001b[A"
     ]
    },
    {
     "name": "stdout",
     "output_type": "stream",
     "text": [
      "Generate reshaped tensor\n"
     ]
    },
    {
     "name": "stderr",
     "output_type": "stream",
     "text": [
      "\n",
      " 50%|█████     | 6/12 [00:00<00:00, 22.00it/s]\u001b[A\n",
      " 75%|███████▌  | 9/12 [00:00<00:00, 22.48it/s]\u001b[A\n",
      "100%|██████████| 12/12 [00:00<00:00, 22.41it/s]\u001b[A\n",
      " 10%|█         | 1/10 [00:20<03:00, 20.01s/it]\n",
      "  0%|          | 0/12 [00:00<?, ?it/s]\u001b[A\n",
      " 25%|██▌       | 3/12 [00:00<00:00, 22.36it/s]\u001b[A"
     ]
    },
    {
     "name": "stdout",
     "output_type": "stream",
     "text": [
      "Generate reshaped tensor\n"
     ]
    },
    {
     "name": "stderr",
     "output_type": "stream",
     "text": [
      "\n",
      " 50%|█████     | 6/12 [00:00<00:00, 21.77it/s]\u001b[A\n",
      " 75%|███████▌  | 9/12 [00:00<00:00, 21.53it/s]\u001b[A\n",
      "100%|██████████| 12/12 [00:00<00:00, 21.68it/s]\u001b[A\n",
      " 20%|██        | 2/10 [00:38<02:33, 19.19s/it]\n",
      "  0%|          | 0/12 [00:00<?, ?it/s]\u001b[A\n",
      " 25%|██▌       | 3/12 [00:00<00:00, 21.84it/s]\u001b[A"
     ]
    },
    {
     "name": "stdout",
     "output_type": "stream",
     "text": [
      "Generate reshaped tensor\n"
     ]
    },
    {
     "name": "stderr",
     "output_type": "stream",
     "text": [
      "\n",
      " 50%|█████     | 6/12 [00:00<00:00, 21.98it/s]\u001b[A\n",
      " 75%|███████▌  | 9/12 [00:00<00:00, 21.95it/s]\u001b[A\n",
      "100%|██████████| 12/12 [00:00<00:00, 21.61it/s]\u001b[A\n",
      " 30%|███       | 3/10 [01:00<02:22, 20.41s/it]\n",
      "  0%|          | 0/12 [00:00<?, ?it/s]\u001b[A\n",
      " 25%|██▌       | 3/12 [00:00<00:00, 21.37it/s]\u001b[A"
     ]
    },
    {
     "name": "stdout",
     "output_type": "stream",
     "text": [
      "Generate reshaped tensor\n"
     ]
    },
    {
     "name": "stderr",
     "output_type": "stream",
     "text": [
      "\n",
      " 50%|█████     | 6/12 [00:00<00:00, 21.24it/s]\u001b[A\n",
      " 75%|███████▌  | 9/12 [00:00<00:00, 21.13it/s]\u001b[A\n",
      "100%|██████████| 12/12 [00:00<00:00, 21.12it/s]\u001b[A\n",
      " 40%|████      | 4/10 [01:13<01:46, 17.69s/it]\n",
      "  0%|          | 0/12 [00:00<?, ?it/s]\u001b[A\n",
      " 25%|██▌       | 3/12 [00:00<00:00, 20.25it/s]\u001b[A"
     ]
    },
    {
     "name": "stdout",
     "output_type": "stream",
     "text": [
      "Generate reshaped tensor\n"
     ]
    },
    {
     "name": "stderr",
     "output_type": "stream",
     "text": [
      "\n",
      " 50%|█████     | 6/12 [00:00<00:00, 20.25it/s]\u001b[A\n",
      " 75%|███████▌  | 9/12 [00:00<00:00, 20.31it/s]\u001b[A\n",
      "100%|██████████| 12/12 [00:00<00:00, 20.32it/s]\u001b[A\n",
      " 50%|█████     | 5/10 [01:36<01:36, 19.25s/it]\n",
      "  0%|          | 0/12 [00:00<?, ?it/s]\u001b[A\n",
      " 25%|██▌       | 3/12 [00:00<00:00, 22.90it/s]\u001b[A"
     ]
    },
    {
     "name": "stdout",
     "output_type": "stream",
     "text": [
      "Generate reshaped tensor\n"
     ]
    },
    {
     "name": "stderr",
     "output_type": "stream",
     "text": [
      "\n",
      " 50%|█████     | 6/12 [00:00<00:00, 22.37it/s]\u001b[A\n",
      " 75%|███████▌  | 9/12 [00:00<00:00, 22.26it/s]\u001b[A\n",
      "100%|██████████| 12/12 [00:00<00:00, 22.22it/s]\u001b[A\n",
      " 60%|██████    | 6/10 [01:52<01:13, 18.46s/it]\n",
      "  0%|          | 0/12 [00:00<?, ?it/s]\u001b[A\n",
      " 25%|██▌       | 3/12 [00:00<00:00, 22.62it/s]\u001b[A"
     ]
    },
    {
     "name": "stdout",
     "output_type": "stream",
     "text": [
      "Generate reshaped tensor\n"
     ]
    },
    {
     "name": "stderr",
     "output_type": "stream",
     "text": [
      "\n",
      " 50%|█████     | 6/12 [00:00<00:00, 22.42it/s]\u001b[A\n",
      " 75%|███████▌  | 9/12 [00:00<00:00, 22.34it/s]\u001b[A\n",
      "100%|██████████| 12/12 [00:00<00:00, 22.24it/s]\u001b[A\n",
      " 70%|███████   | 7/10 [02:09<00:53, 17.88s/it]\n",
      "  0%|          | 0/12 [00:00<?, ?it/s]\u001b[A\n",
      " 25%|██▌       | 3/12 [00:00<00:00, 21.21it/s]\u001b[A"
     ]
    },
    {
     "name": "stdout",
     "output_type": "stream",
     "text": [
      "Generate reshaped tensor\n"
     ]
    },
    {
     "name": "stderr",
     "output_type": "stream",
     "text": [
      "\n",
      " 50%|█████     | 6/12 [00:00<00:00, 20.75it/s]\u001b[A\n",
      " 75%|███████▌  | 9/12 [00:00<00:00, 20.95it/s]\u001b[A\n",
      "100%|██████████| 12/12 [00:00<00:00, 21.04it/s]\u001b[A\n",
      " 80%|████████  | 8/10 [02:25<00:34, 17.38s/it]\n",
      "  0%|          | 0/12 [00:00<?, ?it/s]\u001b[A\n",
      " 25%|██▌       | 3/12 [00:00<00:00, 22.03it/s]\u001b[A"
     ]
    },
    {
     "name": "stdout",
     "output_type": "stream",
     "text": [
      "Generate reshaped tensor\n"
     ]
    },
    {
     "name": "stderr",
     "output_type": "stream",
     "text": [
      "\n",
      " 50%|█████     | 6/12 [00:00<00:00, 21.30it/s]\u001b[A\n",
      " 75%|███████▌  | 9/12 [00:00<00:00, 21.06it/s]\u001b[A\n",
      "100%|██████████| 12/12 [00:00<00:00, 21.18it/s]\u001b[A\n",
      " 90%|█████████ | 9/10 [02:38<00:15, 15.90s/it]\n",
      "  0%|          | 0/12 [00:00<?, ?it/s]\u001b[A\n",
      " 25%|██▌       | 3/12 [00:00<00:00, 22.72it/s]\u001b[A"
     ]
    },
    {
     "name": "stdout",
     "output_type": "stream",
     "text": [
      "Generate reshaped tensor\n"
     ]
    },
    {
     "name": "stderr",
     "output_type": "stream",
     "text": [
      "\n",
      " 50%|█████     | 6/12 [00:00<00:00, 22.49it/s]\u001b[A\n",
      " 75%|███████▌  | 9/12 [00:00<00:00, 22.73it/s]\u001b[A\n",
      "100%|██████████| 12/12 [00:00<00:00, 22.52it/s]\u001b[A\n",
      "100%|██████████| 10/10 [02:59<00:00, 17.97s/it]\n",
      "  0%|          | 0/10 [00:00<?, ?it/s]"
     ]
    },
    {
     "name": "stdout",
     "output_type": "stream",
     "text": [
      "------------------------------------------\n",
      "Noise: 0.05\n"
     ]
    },
    {
     "name": "stderr",
     "output_type": "stream",
     "text": [
      "\n",
      "  0%|          | 0/12 [00:00<?, ?it/s]\u001b[A\n",
      " 25%|██▌       | 3/12 [00:00<00:00, 21.89it/s]\u001b[A"
     ]
    },
    {
     "name": "stdout",
     "output_type": "stream",
     "text": [
      "Generate reshaped tensor\n"
     ]
    },
    {
     "name": "stderr",
     "output_type": "stream",
     "text": [
      "\n",
      " 50%|█████     | 6/12 [00:00<00:00, 21.91it/s]\u001b[A\n",
      " 75%|███████▌  | 9/12 [00:00<00:00, 22.13it/s]\u001b[A\n",
      "100%|██████████| 12/12 [00:00<00:00, 22.01it/s]\u001b[A\n",
      " 10%|█         | 1/10 [00:19<02:55, 19.48s/it]\n",
      "  0%|          | 0/12 [00:00<?, ?it/s]\u001b[A\n",
      " 25%|██▌       | 3/12 [00:00<00:00, 22.42it/s]\u001b[A"
     ]
    },
    {
     "name": "stdout",
     "output_type": "stream",
     "text": [
      "Generate reshaped tensor\n"
     ]
    },
    {
     "name": "stderr",
     "output_type": "stream",
     "text": [
      "\n",
      " 50%|█████     | 6/12 [00:00<00:00, 22.33it/s]\u001b[A\n",
      " 75%|███████▌  | 9/12 [00:00<00:00, 22.22it/s]\u001b[A\n",
      "100%|██████████| 12/12 [00:00<00:00, 22.14it/s]\u001b[A\n",
      " 20%|██        | 2/10 [00:37<02:31, 18.91s/it]\n",
      "  0%|          | 0/12 [00:00<?, ?it/s]\u001b[A\n",
      " 25%|██▌       | 3/12 [00:00<00:00, 22.11it/s]\u001b[A"
     ]
    },
    {
     "name": "stdout",
     "output_type": "stream",
     "text": [
      "Generate reshaped tensor\n"
     ]
    },
    {
     "name": "stderr",
     "output_type": "stream",
     "text": [
      "\n",
      " 50%|█████     | 6/12 [00:00<00:00, 21.56it/s]\u001b[A\n",
      " 75%|███████▌  | 9/12 [00:00<00:00, 21.50it/s]\u001b[A\n",
      "100%|██████████| 12/12 [00:00<00:00, 21.27it/s]\u001b[A\n",
      " 30%|███       | 3/10 [00:51<01:54, 16.40s/it]\n",
      "  0%|          | 0/12 [00:00<?, ?it/s]\u001b[A\n",
      " 25%|██▌       | 3/12 [00:00<00:00, 21.23it/s]\u001b[A"
     ]
    },
    {
     "name": "stdout",
     "output_type": "stream",
     "text": [
      "Generate reshaped tensor\n"
     ]
    },
    {
     "name": "stderr",
     "output_type": "stream",
     "text": [
      "\n",
      " 50%|█████     | 6/12 [00:00<00:00, 20.69it/s]\u001b[A\n",
      " 75%|███████▌  | 9/12 [00:00<00:00, 20.64it/s]\u001b[A\n",
      "100%|██████████| 12/12 [00:00<00:00, 20.46it/s]\u001b[A\n",
      " 40%|████      | 4/10 [01:02<01:26, 14.40s/it]\n",
      "  0%|          | 0/12 [00:00<?, ?it/s]\u001b[A\n",
      " 25%|██▌       | 3/12 [00:00<00:00, 21.29it/s]\u001b[A"
     ]
    },
    {
     "name": "stdout",
     "output_type": "stream",
     "text": [
      "Generate reshaped tensor\n"
     ]
    },
    {
     "name": "stderr",
     "output_type": "stream",
     "text": [
      "\n",
      " 50%|█████     | 6/12 [00:00<00:00, 20.91it/s]\u001b[A\n",
      " 75%|███████▌  | 9/12 [00:00<00:00, 20.69it/s]\u001b[A\n",
      "100%|██████████| 12/12 [00:00<00:00, 20.47it/s]\u001b[A\n",
      " 50%|█████     | 5/10 [01:15<01:09, 13.95s/it]\n",
      "  0%|          | 0/12 [00:00<?, ?it/s]\u001b[A\n",
      " 25%|██▌       | 3/12 [00:00<00:00, 21.38it/s]\u001b[A"
     ]
    },
    {
     "name": "stdout",
     "output_type": "stream",
     "text": [
      "Generate reshaped tensor\n"
     ]
    },
    {
     "name": "stderr",
     "output_type": "stream",
     "text": [
      "\n",
      " 50%|█████     | 6/12 [00:00<00:00, 21.14it/s]\u001b[A\n",
      " 75%|███████▌  | 9/12 [00:00<00:00, 21.04it/s]\u001b[A\n",
      "100%|██████████| 12/12 [00:00<00:00, 20.81it/s]\u001b[A\n",
      " 60%|██████    | 6/10 [01:31<00:57, 14.36s/it]\n",
      "  0%|          | 0/12 [00:00<?, ?it/s]\u001b[A\n",
      " 25%|██▌       | 3/12 [00:00<00:00, 22.37it/s]\u001b[A"
     ]
    },
    {
     "name": "stdout",
     "output_type": "stream",
     "text": [
      "Generate reshaped tensor\n"
     ]
    },
    {
     "name": "stderr",
     "output_type": "stream",
     "text": [
      "\n",
      " 50%|█████     | 6/12 [00:00<00:00, 21.61it/s]\u001b[A\n",
      " 75%|███████▌  | 9/12 [00:00<00:00, 20.72it/s]\u001b[A\n",
      "100%|██████████| 12/12 [00:00<00:00, 20.77it/s]\u001b[A\n",
      " 70%|███████   | 7/10 [01:48<00:46, 15.43s/it]\n",
      "  0%|          | 0/12 [00:00<?, ?it/s]\u001b[A\n",
      " 25%|██▌       | 3/12 [00:00<00:00, 22.06it/s]\u001b[A"
     ]
    },
    {
     "name": "stdout",
     "output_type": "stream",
     "text": [
      "Generate reshaped tensor\n"
     ]
    },
    {
     "name": "stderr",
     "output_type": "stream",
     "text": [
      "\n",
      " 50%|█████     | 6/12 [00:00<00:00, 21.32it/s]\u001b[A\n",
      " 75%|███████▌  | 9/12 [00:00<00:00, 21.08it/s]\u001b[A\n",
      "100%|██████████| 12/12 [00:00<00:00, 20.99it/s]\u001b[A\n",
      " 80%|████████  | 8/10 [02:07<00:32, 16.36s/it]\n",
      "  0%|          | 0/12 [00:00<?, ?it/s]\u001b[A\n",
      " 25%|██▌       | 3/12 [00:00<00:00, 23.15it/s]\u001b[A"
     ]
    },
    {
     "name": "stdout",
     "output_type": "stream",
     "text": [
      "Generate reshaped tensor\n"
     ]
    },
    {
     "name": "stderr",
     "output_type": "stream",
     "text": [
      "\n",
      " 50%|█████     | 6/12 [00:00<00:00, 22.60it/s]\u001b[A\n",
      " 75%|███████▌  | 9/12 [00:00<00:00, 23.02it/s]\u001b[A\n",
      "100%|██████████| 12/12 [00:00<00:00, 22.85it/s]\u001b[A\n",
      " 90%|█████████ | 9/10 [02:26<00:17, 17.35s/it]\n",
      "  0%|          | 0/12 [00:00<?, ?it/s]\u001b[A\n",
      " 25%|██▌       | 3/12 [00:00<00:00, 23.35it/s]\u001b[A"
     ]
    },
    {
     "name": "stdout",
     "output_type": "stream",
     "text": [
      "Generate reshaped tensor\n"
     ]
    },
    {
     "name": "stderr",
     "output_type": "stream",
     "text": [
      "\n",
      " 50%|█████     | 6/12 [00:00<00:00, 22.80it/s]\u001b[A\n",
      " 75%|███████▌  | 9/12 [00:00<00:00, 22.56it/s]\u001b[A\n",
      "100%|██████████| 12/12 [00:00<00:00, 22.19it/s]\u001b[A\n",
      "100%|██████████| 10/10 [02:40<00:00, 16.03s/it]\n",
      "  0%|          | 0/10 [00:00<?, ?it/s]"
     ]
    },
    {
     "name": "stdout",
     "output_type": "stream",
     "text": [
      "------------------------------------------\n",
      "Noise: 0.06\n"
     ]
    },
    {
     "name": "stderr",
     "output_type": "stream",
     "text": [
      "\n",
      "  0%|          | 0/12 [00:00<?, ?it/s]\u001b[A\n",
      " 25%|██▌       | 3/12 [00:00<00:00, 22.81it/s]\u001b[A"
     ]
    },
    {
     "name": "stdout",
     "output_type": "stream",
     "text": [
      "Generate reshaped tensor\n"
     ]
    },
    {
     "name": "stderr",
     "output_type": "stream",
     "text": [
      "\n",
      " 50%|█████     | 6/12 [00:00<00:00, 22.23it/s]\u001b[A\n",
      " 75%|███████▌  | 9/12 [00:00<00:00, 22.00it/s]\u001b[A\n",
      "100%|██████████| 12/12 [00:00<00:00, 21.85it/s]\u001b[A\n",
      " 10%|█         | 1/10 [00:12<01:48, 12.10s/it]\n",
      "  0%|          | 0/12 [00:00<?, ?it/s]\u001b[A\n",
      " 25%|██▌       | 3/12 [00:00<00:00, 22.16it/s]\u001b[A"
     ]
    },
    {
     "name": "stdout",
     "output_type": "stream",
     "text": [
      "Generate reshaped tensor\n"
     ]
    },
    {
     "name": "stderr",
     "output_type": "stream",
     "text": [
      "\n",
      " 50%|█████     | 6/12 [00:00<00:00, 21.56it/s]\u001b[A\n",
      " 75%|███████▌  | 9/12 [00:00<00:00, 21.67it/s]\u001b[A\n",
      "100%|██████████| 12/12 [00:00<00:00, 21.78it/s]\u001b[A\n",
      " 20%|██        | 2/10 [00:35<02:27, 18.50s/it]\n",
      "  0%|          | 0/12 [00:00<?, ?it/s]\u001b[A\n",
      " 25%|██▌       | 3/12 [00:00<00:00, 22.04it/s]\u001b[A"
     ]
    },
    {
     "name": "stdout",
     "output_type": "stream",
     "text": [
      "Generate reshaped tensor\n"
     ]
    },
    {
     "name": "stderr",
     "output_type": "stream",
     "text": [
      "\n",
      " 50%|█████     | 6/12 [00:00<00:00, 21.71it/s]\u001b[A\n",
      " 75%|███████▌  | 9/12 [00:00<00:00, 21.61it/s]\u001b[A\n",
      "100%|██████████| 12/12 [00:00<00:00, 21.47it/s]\u001b[A\n",
      " 30%|███       | 3/10 [00:54<02:13, 19.08s/it]\n",
      "  0%|          | 0/12 [00:00<?, ?it/s]\u001b[A\n",
      " 25%|██▌       | 3/12 [00:00<00:00, 21.80it/s]\u001b[A"
     ]
    },
    {
     "name": "stdout",
     "output_type": "stream",
     "text": [
      "Generate reshaped tensor\n"
     ]
    },
    {
     "name": "stderr",
     "output_type": "stream",
     "text": [
      "\n",
      " 50%|█████     | 6/12 [00:00<00:00, 21.86it/s]\u001b[A\n",
      " 75%|███████▌  | 9/12 [00:00<00:00, 21.67it/s]\u001b[A\n",
      "100%|██████████| 12/12 [00:00<00:00, 21.58it/s]\u001b[A\n",
      " 40%|████      | 4/10 [01:11<01:47, 17.95s/it]\n",
      "  0%|          | 0/12 [00:00<?, ?it/s]\u001b[A\n",
      " 25%|██▌       | 3/12 [00:00<00:00, 22.02it/s]\u001b[A"
     ]
    },
    {
     "name": "stdout",
     "output_type": "stream",
     "text": [
      "Generate reshaped tensor\n"
     ]
    },
    {
     "name": "stderr",
     "output_type": "stream",
     "text": [
      "\n",
      " 50%|█████     | 6/12 [00:00<00:00, 21.41it/s]\u001b[A\n",
      " 75%|███████▌  | 9/12 [00:00<00:00, 21.37it/s]\u001b[A\n",
      "100%|██████████| 12/12 [00:00<00:00, 21.16it/s]\u001b[A\n",
      " 50%|█████     | 5/10 [01:25<01:22, 16.55s/it]\n",
      "  0%|          | 0/12 [00:00<?, ?it/s]\u001b[A\n",
      " 25%|██▌       | 3/12 [00:00<00:00, 22.13it/s]\u001b[A"
     ]
    },
    {
     "name": "stdout",
     "output_type": "stream",
     "text": [
      "Generate reshaped tensor\n"
     ]
    },
    {
     "name": "stderr",
     "output_type": "stream",
     "text": [
      "\n",
      " 50%|█████     | 6/12 [00:00<00:00, 21.33it/s]\u001b[A\n",
      " 75%|███████▌  | 9/12 [00:00<00:00, 21.24it/s]\u001b[A\n",
      "100%|██████████| 12/12 [00:00<00:00, 21.12it/s]\u001b[A\n",
      " 60%|██████    | 6/10 [01:41<01:05, 16.38s/it]\n",
      "  0%|          | 0/12 [00:00<?, ?it/s]\u001b[A\n",
      " 25%|██▌       | 3/12 [00:00<00:00, 22.03it/s]\u001b[A"
     ]
    },
    {
     "name": "stdout",
     "output_type": "stream",
     "text": [
      "Generate reshaped tensor\n"
     ]
    },
    {
     "name": "stderr",
     "output_type": "stream",
     "text": [
      "\n",
      " 50%|█████     | 6/12 [00:00<00:00, 21.24it/s]\u001b[A\n",
      " 75%|███████▌  | 9/12 [00:00<00:00, 21.03it/s]\u001b[A\n",
      "100%|██████████| 12/12 [00:00<00:00, 20.94it/s]\u001b[A\n",
      " 70%|███████   | 7/10 [02:01<00:53, 17.69s/it]\n",
      "  0%|          | 0/12 [00:00<?, ?it/s]\u001b[A\n",
      " 25%|██▌       | 3/12 [00:00<00:00, 22.25it/s]\u001b[A"
     ]
    },
    {
     "name": "stdout",
     "output_type": "stream",
     "text": [
      "Generate reshaped tensor\n"
     ]
    },
    {
     "name": "stderr",
     "output_type": "stream",
     "text": [
      "\n",
      " 50%|█████     | 6/12 [00:00<00:00, 21.99it/s]\u001b[A\n",
      " 75%|███████▌  | 9/12 [00:00<00:00, 21.70it/s]\u001b[A\n",
      "100%|██████████| 12/12 [00:00<00:00, 21.55it/s]\u001b[A\n",
      " 80%|████████  | 8/10 [02:21<00:36, 18.29s/it]\n",
      "  0%|          | 0/12 [00:00<?, ?it/s]\u001b[A\n",
      " 25%|██▌       | 3/12 [00:00<00:00, 22.15it/s]\u001b[A"
     ]
    },
    {
     "name": "stdout",
     "output_type": "stream",
     "text": [
      "Generate reshaped tensor\n"
     ]
    },
    {
     "name": "stderr",
     "output_type": "stream",
     "text": [
      "\n",
      " 50%|█████     | 6/12 [00:00<00:00, 21.73it/s]\u001b[A\n",
      " 75%|███████▌  | 9/12 [00:00<00:00, 21.45it/s]\u001b[A\n",
      "100%|██████████| 12/12 [00:00<00:00, 21.44it/s]\u001b[A\n",
      " 90%|█████████ | 9/10 [02:34<00:16, 16.77s/it]\n",
      "  0%|          | 0/12 [00:00<?, ?it/s]\u001b[A\n",
      " 25%|██▌       | 3/12 [00:00<00:00, 20.94it/s]\u001b[A"
     ]
    },
    {
     "name": "stdout",
     "output_type": "stream",
     "text": [
      "Generate reshaped tensor\n"
     ]
    },
    {
     "name": "stderr",
     "output_type": "stream",
     "text": [
      "\n",
      " 50%|█████     | 6/12 [00:00<00:00, 20.59it/s]\u001b[A\n",
      " 75%|███████▌  | 9/12 [00:00<00:00, 20.63it/s]\u001b[A\n",
      "100%|██████████| 12/12 [00:00<00:00, 20.59it/s]\u001b[A\n",
      "100%|██████████| 10/10 [02:50<00:00, 17.06s/it]\n",
      "  0%|          | 0/10 [00:00<?, ?it/s]"
     ]
    },
    {
     "name": "stdout",
     "output_type": "stream",
     "text": [
      "------------------------------------------\n",
      "Noise: 0.07\n"
     ]
    },
    {
     "name": "stderr",
     "output_type": "stream",
     "text": [
      "\n",
      "  0%|          | 0/12 [00:00<?, ?it/s]\u001b[A\n",
      " 25%|██▌       | 3/12 [00:00<00:00, 22.16it/s]\u001b[A"
     ]
    },
    {
     "name": "stdout",
     "output_type": "stream",
     "text": [
      "Generate reshaped tensor\n"
     ]
    },
    {
     "name": "stderr",
     "output_type": "stream",
     "text": [
      "\n",
      " 50%|█████     | 6/12 [00:00<00:00, 21.80it/s]\u001b[A\n",
      " 75%|███████▌  | 9/12 [00:00<00:00, 21.23it/s]\u001b[A\n",
      "100%|██████████| 12/12 [00:00<00:00, 21.24it/s]\u001b[A\n",
      " 10%|█         | 1/10 [00:15<02:16, 15.22s/it]\n",
      "  0%|          | 0/12 [00:00<?, ?it/s]\u001b[A\n",
      " 25%|██▌       | 3/12 [00:00<00:00, 20.42it/s]\u001b[A"
     ]
    },
    {
     "name": "stdout",
     "output_type": "stream",
     "text": [
      "Generate reshaped tensor\n"
     ]
    },
    {
     "name": "stderr",
     "output_type": "stream",
     "text": [
      "\n",
      " 50%|█████     | 6/12 [00:00<00:00, 20.18it/s]\u001b[A\n",
      " 75%|███████▌  | 9/12 [00:00<00:00, 20.14it/s]\u001b[A\n",
      "100%|██████████| 12/12 [00:00<00:00, 20.00it/s]\u001b[A\n",
      " 20%|██        | 2/10 [00:29<01:57, 14.64s/it]\n",
      "  0%|          | 0/12 [00:00<?, ?it/s]\u001b[A\n",
      " 25%|██▌       | 3/12 [00:00<00:00, 22.57it/s]\u001b[A"
     ]
    },
    {
     "name": "stdout",
     "output_type": "stream",
     "text": [
      "Generate reshaped tensor\n"
     ]
    },
    {
     "name": "stderr",
     "output_type": "stream",
     "text": [
      "\n",
      " 50%|█████     | 6/12 [00:00<00:00, 22.26it/s]\u001b[A\n",
      " 75%|███████▌  | 9/12 [00:00<00:00, 21.70it/s]\u001b[A\n",
      "100%|██████████| 12/12 [00:00<00:00, 21.86it/s]\u001b[A\n",
      " 30%|███       | 3/10 [00:45<01:47, 15.41s/it]\n",
      "  0%|          | 0/12 [00:00<?, ?it/s]\u001b[A\n",
      " 25%|██▌       | 3/12 [00:00<00:00, 20.56it/s]\u001b[A"
     ]
    },
    {
     "name": "stdout",
     "output_type": "stream",
     "text": [
      "Generate reshaped tensor\n"
     ]
    },
    {
     "name": "stderr",
     "output_type": "stream",
     "text": [
      "\n",
      " 50%|█████     | 6/12 [00:00<00:00, 21.10it/s]\u001b[A\n",
      " 75%|███████▌  | 9/12 [00:00<00:00, 21.19it/s]\u001b[A\n",
      "100%|██████████| 12/12 [00:00<00:00, 21.10it/s]\u001b[A\n",
      " 40%|████      | 4/10 [01:05<01:43, 17.24s/it]\n",
      "  0%|          | 0/12 [00:00<?, ?it/s]\u001b[A\n",
      " 25%|██▌       | 3/12 [00:00<00:00, 21.55it/s]\u001b[A"
     ]
    },
    {
     "name": "stdout",
     "output_type": "stream",
     "text": [
      "Generate reshaped tensor\n"
     ]
    },
    {
     "name": "stderr",
     "output_type": "stream",
     "text": [
      "\n",
      " 50%|█████     | 6/12 [00:00<00:00, 21.20it/s]\u001b[A\n",
      " 75%|███████▌  | 9/12 [00:00<00:00, 20.89it/s]\u001b[A\n",
      "100%|██████████| 12/12 [00:00<00:00, 20.72it/s]\u001b[A\n",
      " 50%|█████     | 5/10 [01:17<01:16, 15.23s/it]\n",
      "  0%|          | 0/12 [00:00<?, ?it/s]\u001b[A\n",
      " 17%|█▋        | 2/12 [00:00<00:00, 19.33it/s]\u001b[A"
     ]
    },
    {
     "name": "stdout",
     "output_type": "stream",
     "text": [
      "Generate reshaped tensor\n"
     ]
    },
    {
     "name": "stderr",
     "output_type": "stream",
     "text": [
      "\n",
      " 33%|███▎      | 4/12 [00:00<00:00, 19.42it/s]\u001b[A\n",
      " 50%|█████     | 6/12 [00:00<00:00, 19.51it/s]\u001b[A\n",
      " 67%|██████▋   | 8/12 [00:00<00:00, 19.53it/s]\u001b[A\n",
      " 83%|████████▎ | 10/12 [00:00<00:00, 19.50it/s]\u001b[A\n",
      "100%|██████████| 12/12 [00:00<00:00, 19.44it/s]\u001b[A\n",
      " 60%|██████    | 6/10 [01:35<01:04, 16.17s/it]\n",
      "  0%|          | 0/12 [00:00<?, ?it/s]\u001b[A\n",
      " 25%|██▌       | 3/12 [00:00<00:00, 21.66it/s]\u001b[A"
     ]
    },
    {
     "name": "stdout",
     "output_type": "stream",
     "text": [
      "Generate reshaped tensor\n"
     ]
    },
    {
     "name": "stderr",
     "output_type": "stream",
     "text": [
      "\n",
      " 50%|█████     | 6/12 [00:00<00:00, 20.54it/s]\u001b[A\n",
      " 75%|███████▌  | 9/12 [00:00<00:00, 20.37it/s]\u001b[A\n",
      "100%|██████████| 12/12 [00:00<00:00, 20.42it/s]\u001b[A\n",
      " 70%|███████   | 7/10 [01:50<00:47, 15.86s/it]\n",
      "  0%|          | 0/12 [00:00<?, ?it/s]\u001b[A\n",
      " 25%|██▌       | 3/12 [00:00<00:00, 22.16it/s]\u001b[A"
     ]
    },
    {
     "name": "stdout",
     "output_type": "stream",
     "text": [
      "Generate reshaped tensor\n"
     ]
    },
    {
     "name": "stderr",
     "output_type": "stream",
     "text": [
      "\n",
      " 50%|█████     | 6/12 [00:00<00:00, 21.39it/s]\u001b[A\n",
      " 75%|███████▌  | 9/12 [00:00<00:00, 21.09it/s]\u001b[A\n",
      "100%|██████████| 12/12 [00:00<00:00, 20.81it/s]\u001b[A\n",
      " 80%|████████  | 8/10 [02:12<00:35, 17.76s/it]\n",
      "  0%|          | 0/12 [00:00<?, ?it/s]\u001b[A\n",
      " 25%|██▌       | 3/12 [00:00<00:00, 21.72it/s]\u001b[A"
     ]
    },
    {
     "name": "stdout",
     "output_type": "stream",
     "text": [
      "Generate reshaped tensor\n"
     ]
    },
    {
     "name": "stderr",
     "output_type": "stream",
     "text": [
      "\n",
      " 50%|█████     | 6/12 [00:00<00:00, 21.38it/s]\u001b[A\n",
      " 75%|███████▌  | 9/12 [00:00<00:00, 21.48it/s]\u001b[A\n",
      "100%|██████████| 12/12 [00:00<00:00, 21.48it/s]\u001b[A\n",
      " 90%|█████████ | 9/10 [02:32<00:18, 18.46s/it]\n",
      "  0%|          | 0/12 [00:00<?, ?it/s]\u001b[A\n",
      " 25%|██▌       | 3/12 [00:00<00:00, 22.53it/s]\u001b[A"
     ]
    },
    {
     "name": "stdout",
     "output_type": "stream",
     "text": [
      "Generate reshaped tensor\n"
     ]
    },
    {
     "name": "stderr",
     "output_type": "stream",
     "text": [
      "\n",
      " 50%|█████     | 6/12 [00:00<00:00, 22.16it/s]\u001b[A\n",
      " 75%|███████▌  | 9/12 [00:00<00:00, 22.26it/s]\u001b[A\n",
      "100%|██████████| 12/12 [00:00<00:00, 21.75it/s]\u001b[A\n",
      "100%|██████████| 10/10 [02:48<00:00, 16.90s/it]\n",
      "  0%|          | 0/10 [00:00<?, ?it/s]"
     ]
    },
    {
     "name": "stdout",
     "output_type": "stream",
     "text": [
      "------------------------------------------\n",
      "Noise: 0.08\n"
     ]
    },
    {
     "name": "stderr",
     "output_type": "stream",
     "text": [
      "\n",
      "  0%|          | 0/12 [00:00<?, ?it/s]\u001b[A\n",
      " 25%|██▌       | 3/12 [00:00<00:00, 21.32it/s]\u001b[A"
     ]
    },
    {
     "name": "stdout",
     "output_type": "stream",
     "text": [
      "Generate reshaped tensor\n"
     ]
    },
    {
     "name": "stderr",
     "output_type": "stream",
     "text": [
      "\n",
      " 50%|█████     | 6/12 [00:00<00:00, 21.32it/s]\u001b[A\n",
      " 75%|███████▌  | 9/12 [00:00<00:00, 21.12it/s]\u001b[A\n",
      "100%|██████████| 12/12 [00:00<00:00, 20.90it/s]\u001b[A\n",
      " 10%|█         | 1/10 [00:10<01:33, 10.44s/it]\n",
      "  0%|          | 0/12 [00:00<?, ?it/s]\u001b[A\n",
      " 25%|██▌       | 3/12 [00:00<00:00, 22.08it/s]\u001b[A"
     ]
    },
    {
     "name": "stdout",
     "output_type": "stream",
     "text": [
      "Generate reshaped tensor\n"
     ]
    },
    {
     "name": "stderr",
     "output_type": "stream",
     "text": [
      "\n",
      " 50%|█████     | 6/12 [00:00<00:00, 21.69it/s]\u001b[A\n",
      " 75%|███████▌  | 9/12 [00:00<00:00, 21.34it/s]\u001b[A\n",
      "100%|██████████| 12/12 [00:00<00:00, 21.29it/s]\u001b[A\n"
     ]
    }
   ],
   "source": [
    "print('Cap background noise at 0.05')\n",
    "for noise in list(np.arange(0.01,0.1, 0.01)) + list(np.arange(0.1,1.01,0.1)):\n",
    "    print('------------------------------------------')\n",
    "    print('Noise: {:.2f}'.format(noise))\n",
    "    \n",
    "    if par:\n",
    "        pool = multiprocessing.Pool(processes = n_cores)\n",
    "        try:\n",
    "            pool.starmap(get_error, zip([noise]*n_iter, [0.05]*n_iter, [fn_1]*n_iter))\n",
    "            pool.close()\n",
    "            pool.join()\n",
    "        except:\n",
    "            pool.close()\n",
    "            pool.join()\n",
    "            raise ValueError('Parallelization failed at noise: {:.2f}'.format(noise))\n",
    "    else:\n",
    "        for i in trange(n_iter):\n",
    "            get_error(noise, 0.05, fn_1)"
   ]
  },
  {
   "cell_type": "code",
   "execution_count": null,
   "metadata": {},
   "outputs": [],
   "source": [
    "print('Cap background noise at 0.25')\n",
    "for noise in list(np.arange(0.01,0.1, 0.01)) + list(np.arange(0.1,1.01,0.1)):\n",
    "    print('------------------------------------------')\n",
    "    print('Noise: {:.2f}'.format(noise))\n",
    "    \n",
    "    if par:\n",
    "        pool = multiprocessing.Pool(processes = n_cores)\n",
    "        try:\n",
    "            pool.starmap(get_error, zip([noise]*n_iter, [None]*n_iter, [fn_2]*n_iter))\n",
    "            pool.close()\n",
    "            pool.join()\n",
    "        except:\n",
    "            pool.close()\n",
    "            pool.join()\n",
    "            raise ValueError('Parallelization failed at noise: {:.2f}'.format(noise))\n",
    "    for i in trange(n_iter):\n",
    "        get_error(noise, None, fn_1)\n",
    "print('Complete')"
   ]
  },
  {
   "cell_type": "code",
   "execution_count": null,
   "metadata": {},
   "outputs": [],
   "source": []
  },
  {
   "cell_type": "code",
   "execution_count": null,
   "metadata": {},
   "outputs": [],
   "source": []
  }
 ],
 "metadata": {
  "kernelspec": {
   "display_name": "Python [conda env:cci_dt] *",
   "language": "python",
   "name": "conda-env-cci_dt-py"
  },
  "language_info": {
   "codemirror_mode": {
    "name": "ipython",
    "version": 3
   },
   "file_extension": ".py",
   "mimetype": "text/x-python",
   "name": "python",
   "nbconvert_exporter": "python",
   "pygments_lexer": "ipython3",
   "version": "3.9.1"
  }
 },
 "nbformat": 4,
 "nbformat_minor": 2
}
