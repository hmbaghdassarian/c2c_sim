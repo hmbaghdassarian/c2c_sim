{
 "cells": [
  {
   "cell_type": "code",
   "execution_count": null,
   "metadata": {},
   "outputs": [],
   "source": [
    "import os\n",
    "import pickle\n",
    "import numpy as np\n",
    "import multiprocessing\n",
    "\n",
    "import sys\n",
    "sys.path.insert(1, '../../../cell2cell/')\n",
    "import cell2cell as c2c\n",
    "from cell2cell.tensor.tensor import BaseTensor\n",
    "from cell2cell.tensor.factorization import _compute_norm_error\n",
    "\n",
    "sys.path.insert(1, '../../../scripts/')\n",
    "from simulation.simulate import Simulate, CCI_MD\n",
    "\n",
    "\n",
    "# specify path to save figures\n",
    "fig_path = ''#'/data2/hratch/cci_dt/figures/'\n",
    "data_path = ''#'/data2/hratch/cci_dt/noise_v_error/'\n",
    "version = 1"
   ]
  },
  {
   "cell_type": "markdown",
   "metadata": {},
   "source": [
    "# Generate Simulated Tensor"
   ]
  },
  {
   "cell_type": "code",
   "execution_count": 41,
   "metadata": {},
   "outputs": [
    {
     "name": "stdout",
     "output_type": "stream",
     "text": [
      "/home/hratch/Projects/cci_dt/notebooks/simulation/other_analyses/tmpl7smqwyy_bipartite_sf.csv\n",
      "Generate undirected, bipartite, scale-free graph\n",
      "Check network properties\n",
      "All properties are as expected\n"
     ]
    },
    {
     "name": "stderr",
     "output_type": "stream",
     "text": [
      "../../../scripts/simulation/graphs.py:164: UserWarning: 65 nodes are disconnected, removing from network\n",
      "  warnings.warn(mssg)\n",
      " 17%|█▋        | 2/12 [00:00<00:00, 19.83it/s]"
     ]
    },
    {
     "name": "stdout",
     "output_type": "stream",
     "text": [
      "Generate reshaped tensor\n"
     ]
    },
    {
     "name": "stderr",
     "output_type": "stream",
     "text": [
      "100%|██████████| 12/12 [00:00<00:00, 20.20it/s]\n"
     ]
    }
   ],
   "source": [
    "# init\n",
    "sim = Simulate() \n",
    "\n",
    "# simulate a scale_free randomly connected ligand-receptor network (potential interactions)\n",
    "sim.LR_network(network_type = 'scale-free', **{'nodes': 100, 'degrees': 3, 'alpha': 2}) #scale-free\n",
    "\n",
    "# LR metadata\n",
    "sim.LR.generate_metadata(n_LR_cats = {3: 0}, cat_skew = 0)\n",
    "\n",
    "# generate cell metadata, accounting for directionality (senders vs receivers) and \n",
    "# allowing for autocrine interactions \n",
    "cci = CCI_MD()\n",
    "cci.cci_network(n_cells = 50, directional = True, autocrine = True)\n",
    "\n",
    "# generate 1 metadata categories, with 3 subcategories and 0 skew, the overall skew of categories is 0\n",
    "# do not remove homotypic interactions (will be included)\n",
    "cci.generate_metadata(n_cell_cats = {3: 0}, cat_skew = 0, remove_homotypic = 0)\n",
    "# add cell metadata to simulation object\n",
    "sim.cci = cci\n",
    "\n",
    "# generate n_patter metadata groups of CC-LR pairs that change across n_conditions\n",
    "# these changes can either be linear, oscillating, or a pulse; allow homotypic interactions to form patterns\n",
    "# maximize the possible change in communication score\n",
    "sim.generate_tensor_md(n_patterns = 4, n_conditions = 12, patterns = ['pulse', 'linear', 'oscillate', 'power'], \n",
    "                      consider_homotypic = True, score_change = 'max')\n",
    "\n",
    "#generate a tensor with continuous LR scores and baseline noise; keep single-cells \n",
    "sim.generate_tensor(noise = 0.01, binary = False, bulk = True, noise_max = None)\n",
    "\n",
    "# format the tensor to be input to tensor-cell2cell\n",
    "sim.reshape()"
   ]
  },
  {
   "cell_type": "code",
   "execution_count": 42,
   "metadata": {},
   "outputs": [],
   "source": [
    "tensor = BaseTensor()\n",
    "t1 = sim.sim_tensor.tensor_cci\n",
    "tensor.tensor = t1\n",
    "tensor.order_names = [['Context-{}'.format(c+1) for c in range(t1.shape[0])],\n",
    "                      ['LR-{}'.format(c+1) for c in range(t1.shape[1])],\n",
    "                      ['Sender-{}'.format(c+1) for c in range(t1.shape[2])],\n",
    "                      ['Receiver-{}'.format(c+1) for c in range(t1.shape[3])]\n",
    "                     ]"
   ]
  },
  {
   "cell_type": "code",
   "execution_count": 43,
   "metadata": {},
   "outputs": [
    {
     "data": {
      "application/vnd.jupyter.widget-view+json": {
       "model_id": "9cb98df9862a44acb3daa9fb11adda16",
       "version_major": 2,
       "version_minor": 0
      },
      "text/plain": [
       "  0%|          | 0/5 [00:00<?, ?it/s]"
      ]
     },
     "metadata": {},
     "output_type": "display_data"
    },
    {
     "data": {
      "text/plain": [
       "(<Figure size 288x162 with 1 Axes>,\n",
       " [(1, 0.5447823051969775),\n",
       "  (2, 0.31998107486445726),\n",
       "  (3, 0.31991611380083645),\n",
       "  (4, 0.020250255154272007),\n",
       "  (5, 0.02022686010205743)])"
      ]
     },
     "execution_count": 43,
     "metadata": {},
     "output_type": "execute_result"
    },
    {
     "data": {
      "image/png": "[encoded data removed]",
      "text/plain": [
       "<Figure size 288x162 with 1 Axes>"
      ]
     },
     "metadata": {
      "needs_background": "light"
     },
     "output_type": "display_data"
    }
   ],
   "source": [
    "tensor.elbow_rank_selection(5)"
   ]
  },
  {
   "cell_type": "code",
   "execution_count": 45,
   "metadata": {},
   "outputs": [
    {
     "data": {
      "image/png": "[encoded data removed]",
      "text/plain": [
       "<Figure size 720x360 with 16 Axes>"
      ]
     },
     "metadata": {
      "needs_background": "light"
     },
     "output_type": "display_data"
    }
   ],
   "source": [
    "tensor.compute_tensor_factorization(rank=4)\n",
    "fig, axes = c2c.plotting.tensor_factors_plot(interaction_tensor=tensor,\n",
    "                                             order_labels=['Time', 'Ligand-Receptor Pair', 'Sender Cell', 'Receiver Cell'],\n",
    "                                             #metadata = tensor.order_names,\n",
    "                                             #sample_col='Order',\n",
    "                                             #group_col='Element',\n",
    "                                             #meta_cmaps=['viridis', 'tab20', 'Pastel1', 'Pastel1'],\n",
    "                                             fontsize=14# filename=fig_path + 'TF_SIM_v' + str(version) + '.svg'\n",
    "                                            )\n",
    "sim.pickle(data_path + 'sim_obj_v' + str(version) + '.pickle')"
   ]
  },
  {
   "cell_type": "markdown",
   "metadata": {},
   "source": [
    "# Error vs Noise"
   ]
  },
  {
   "cell_type": "code",
   "execution_count": 32,
   "metadata": {},
   "outputs": [],
   "source": [
    "n_iter = 100 # of iterations per noise value\n",
    "n_cores = 20 # number of cores for parallelization\n",
    "\n",
    "with open(data_path + 'sim_obj_v' + str(version) + '.pickle', 'rb') as f:\n",
    "    sim = pickle.load(f)\n",
    "\n",
    "fn = data_path + 'error_vs_noise_' + str(version) + '.tab' # save results here\n",
    "if not os.path.isfile(fn):\n",
    "    with open(fn, 'w') as f:\n",
    "        f.write('Noise' + '\\t' + 'Error' + '\\n')\n",
    "else:\n",
    "    raise ValueError('Unexpected results file already exists')"
   ]
  },
  {
   "cell_type": "code",
   "execution_count": 33,
   "metadata": {},
   "outputs": [
    {
     "name": "stderr",
     "output_type": "stream",
     "text": [
      "../../../scripts/simulation/simulate.py:650: UserWarning: Only continuous scoring is currently implemented\n",
      "  warnings.warn('Only continuous scoring is currently implemented')\n",
      "../../../scripts/simulation/simulate.py:704: FutureWarning: Using a non-tuple sequence for multidimensional indexing is deprecated; use `arr[tuple(seq)]` instead of `arr[seq]`. In the future this will be interpreted as an array index, `arr[np.array(seq)]`, which will result either in an error or a different result.\n",
      "  df.values[coords] = utils.get_truncated_normal(n = len(coords[0]),\n"
     ]
    }
   ],
   "source": [
    "def get_error(noise):\n",
    "    try:\n",
    "        sim.generate_tensor(noise = noise, binary = False, bulk = True, noise_max = None)\n",
    "        tensor_ = BaseTensor()\n",
    "        tensor_.tensor = sim.sim_tensor.tensor_cci\n",
    "\n",
    "        r, err = _compute_norm_error(rank = sim.sim_tensor.rank, interaction_tensor = tensor_)\n",
    "        with open(fn, 'a') as f:\n",
    "            f.write(str(noise) + '\\t' + str(err) + '\\n')\n",
    "    except:\n",
    "        with open(fn, 'a') as f:\n",
    "            f.write('fail' + '\\t' + 'fail' + '\\n')"
   ]
  },
  {
   "cell_type": "code",
   "execution_count": null,
   "metadata": {},
   "outputs": [],
   "source": [
    "for noise in list(np.arange(0.01,0.1, 0.01)) + list(np.arange(0.1,1.01,0.1)):\n",
    "    print('------------------------------------------')\n",
    "    print('Noise: {:.2f}'.format(noise))\n",
    "    \n",
    "    pool = multiprocessing.Pool(processes = n_cores)\n",
    "    try:\n",
    "        pool.map(get_error, [noise]*n_iter)\n",
    "        pool.close()\n",
    "        pool.join()\n",
    "    except:\n",
    "        pool.close()\n",
    "        pool.join()\n",
    "        raise ValueError('Parallelization failed at noise: {:.2f}'.format(noise))"
   ]
  }
 ],
 "metadata": {
  "kernelspec": {
   "display_name": "Python [conda env:cci_dt] *",
   "language": "python",
   "name": "conda-env-cci_dt-py"
  },
  "language_info": {
   "codemirror_mode": {
    "name": "ipython",
    "version": 3
   },
   "file_extension": ".py",
   "mimetype": "text/x-python",
   "name": "python",
   "nbconvert_exporter": "python",
   "pygments_lexer": "ipython3",
   "version": "3.9.1"
  }
 },
 "nbformat": 4,
 "nbformat_minor": 2
}
