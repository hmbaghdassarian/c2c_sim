{
 "cells": [
  {
   "cell_type": "markdown",
   "id": "banner-plane",
   "metadata": {},
   "source": [
    "Use cellchat to classify samples"
   ]
  },
  {
   "cell_type": "code",
   "execution_count": null,
   "id": "allied-disposal",
   "metadata": {},
   "outputs": [],
   "source": [
    "suppressPackageStartupMessages({\n",
    "    library(CellChat, quietly = T)\n",
    "    library(patchwork, quietly = T)\n",
    "    library(RhpcBLASctl, quietly = T)\n",
    "    library(Matrix, quietly = T)\n",
    "    library(rhdf5, quietly = T)\n",
    "    library(stringr, quietly = T)\n",
    "})\n",
    "options(stringsAsFactors = FALSE)\n",
    "# expression_data_path = '/data2/hratch/immune_CCI/covid/covid_atlas/interim/umi_for_timing/'\n",
    "input_path = '/data2/hratch/immune_CCI/covid/covid_atlas/interim/classification_inputs/'\n",
    "\n",
    "RhpcBLASctl::blas_set_num_threads(20) "
   ]
  },
  {
   "cell_type": "code",
   "execution_count": null,
   "id": "defined-andrews",
   "metadata": {},
   "outputs": [],
   "source": [
    "# parameters\n",
    "cell_grouper<-'majorType'\n",
    "seed = 888\n",
    "# inputs\n",
    "group = FALSE\n",
    "sample.names<-c('S-S083', 'S-M001', 'S-HC018-1')"
   ]
  },
  {
   "cell_type": "markdown",
   "id": "cathedral-moses",
   "metadata": {},
   "source": [
    "Load data:"
   ]
  },
  {
   "cell_type": "code",
   "execution_count": null,
   "id": "loaded-malpractice",
   "metadata": {},
   "outputs": [],
   "source": [
    "# load metadata\n",
    "md.cell <- read.csv(paste0(input_path,'metadata.csv'), row.names = 1)\n",
    "\n",
    "sample_names<-unique(md.cell$sampleID)\n",
    "sample_context_map<-list()\n",
    "for (sn in sample_names){\n",
    "    context<-unique(md.cell[md.cell$sampleID == sn,'CoVID.19.severity'])\n",
    "    if (length(context) != 1){stop('Incorred sample to context mapping')}\n",
    "    sample_context_map[[sn]]<-context\n",
    "}\n",
    "contexts<-unique(sample_context_map)\n",
    "# load LR pairs\n",
    "# filter for the LR pairs used by Tensor cell2cell\n",
    "# lr_pairs<-read.csv(paste0(input_data_path,'Tensor-cell2cell-LRpairs.csv'))\n",
    "# lr_pairs<-lr_pairs$interaction_name\n",
    "humandb<-CellChatDB.human\n",
    "# humandb$interaction<-CellChatDB.human$interaction[CellChatDB.human$interaction$interaction_name %in% lr_pairs, ] \n",
    "# saveRDS(humandb, paste0(output_results_path, 'humandb.rds'))"
   ]
  },
  {
   "cell_type": "code",
   "execution_count": null,
   "id": "adjusted-rainbow",
   "metadata": {},
   "outputs": [],
   "source": [
    "# load the UMI counts\n",
    "read_sample_h5<-function(sn){\n",
    "    counts<-h5read(paste0(input_path, 'umi_per_sample.h5'), sn)\n",
    "    count<-counts[[4]]\n",
    "    colnames(count)<-counts[[2]]\n",
    "    rownames(count)<-sapply(counts[[1]], function(x) str_replace_all(x, '-', '.')) \n",
    "    return(count)\n",
    "}\n",
    "\n",
    "\n",
    "if (!group){\n",
    "    counts<-lapply(setNames(sample.names, sample.names), function(sn) read_sample_h5(sn))\n",
    "}else{ # group by context\n",
    "    by.context<-lapply(setNames(contexts, contexts), function(context) names(sample_context_map[sample.names][sample_context_map[sample.names] == context]))\n",
    "    \n",
    "    group_by_context<-function(context){\n",
    "        sns<-by.context[[context]]       \n",
    "        counts<-lapply(sns, function(sn) read_sample_h5(sn))    \n",
    "        counts<-do.call(cbind, counts)\n",
    "        return (counts)\n",
    "    }\n",
    "    counts<-lapply(setNames(contexts, contexts), function(context) group_by_context(context))                   \n",
    "                    \n",
    "}"
   ]
  },
  {
   "cell_type": "markdown",
   "id": "centered-atmosphere",
   "metadata": {},
   "source": [
    "Run cellchat:"
   ]
  },
  {
   "cell_type": "code",
   "execution_count": null,
   "id": "based-location",
   "metadata": {},
   "outputs": [],
   "source": [
    "# create cellchat object for each sample or sample.name\n",
    "covid.list<-list()\n",
    "for (sample.name in names(counts)){\n",
    "    # loop through each sample.name and create a cell type future\n",
    "    expr<-CellChat::normalizeData(counts[[sample.name]])\n",
    "    cellchat<-createCellChat(object = as(expr, \"dgCMatrix\"), meta = md.cell[colnames(expr),], \n",
    "                                   group.by = cell_grouper)\n",
    "    cellchat@DB <- humandb # human organism\n",
    "\n",
    "    cellchat <- subsetData(cellchat) # subset the expression data of signaling genes, assign to @data.signalling \n",
    "    cellchat <- identifyOverExpressedGenes(cellchat)\n",
    "    cellchat <- identifyOverExpressedInteractions(cellchat) # generate @ LR slot used by computeCommunProb\n",
    "    cellchat <- projectData(cellchat, PPI.human) # shallow sequencing depth\n",
    "    \n",
    "    cellchat <- computeCommunProb(cellchat, raw.use = F, type = 'triMean', trim = NULL, seed.use = seed, \n",
    "                                 population.size = F) \n",
    "    \n",
    "    # The functional similarity analysis requires the same cell population composition between two datasets.\n",
    "    cellchat <- filterCommunication(cellchat, min.cells = 10)\n",
    "    cellchat <- computeCommunProbPathway(cellchat)\n",
    "    covid.list[[sample.name]]<-cellchat\n",
    "}\n",
    "\n",
    "# merge and analyze\n",
    "cellchat <- mergeCellChat(covid.list, add.names = names(covid.list))\n",
    "cellchat <- computeNetSimilarityPairwise(cellchat, type = 'structural')\n",
    "cellchat <- netEmbedding(cellchat, type = 'structural')   "
   ]
  }
 ],
 "metadata": {
  "kernelspec": {
   "display_name": "R [conda env:cellchat] *",
   "language": "R",
   "name": "conda-env-cellchat-r"
  },
  "language_info": {
   "codemirror_mode": "r",
   "file_extension": ".r",
   "mimetype": "text/x-r-source",
   "name": "R",
   "pygments_lexer": "r",
   "version": "4.0.3"
  }
 },
 "nbformat": 4,
 "nbformat_minor": 5
}
