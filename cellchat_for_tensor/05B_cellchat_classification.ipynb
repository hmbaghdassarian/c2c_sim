{
 "cells": [
  {
   "cell_type": "code",
   "execution_count": 1,
   "id": "strong-flesh",
   "metadata": {},
   "outputs": [],
   "source": [
    "import pandas as pd\n",
    "\n",
    "output_path = '/data2/hratch/immune_CCI/covid/covid_atlas/interim/'"
   ]
  },
  {
   "cell_type": "code",
   "execution_count": 2,
   "id": "dangerous-scenario",
   "metadata": {},
   "outputs": [],
   "source": [
    "embeddings = pd.read_csv(output_path + 'cellchat_embeddings.csv')"
   ]
  },
  {
   "cell_type": "code",
   "execution_count": 3,
   "id": "portable-findings",
   "metadata": {},
   "outputs": [
    {
     "data": {
      "text/html": [
       "<div>\n",
       "<style scoped>\n",
       "    .dataframe tbody tr th:only-of-type {\n",
       "        vertical-align: middle;\n",
       "    }\n",
       "\n",
       "    .dataframe tbody tr th {\n",
       "        vertical-align: top;\n",
       "    }\n",
       "\n",
       "    .dataframe thead th {\n",
       "        text-align: right;\n",
       "    }\n",
       "</style>\n",
       "<table border=\"1\" class=\"dataframe\">\n",
       "  <thead>\n",
       "    <tr style=\"text-align: right;\">\n",
       "      <th></th>\n",
       "      <th>Unnamed: 0</th>\n",
       "      <th>UMAP1</th>\n",
       "      <th>UMAP2</th>\n",
       "    </tr>\n",
       "  </thead>\n",
       "  <tbody>\n",
       "    <tr>\n",
       "      <th>0</th>\n",
       "      <td>TGFb--S-S083</td>\n",
       "      <td>5.585470</td>\n",
       "      <td>7.309188</td>\n",
       "    </tr>\n",
       "    <tr>\n",
       "      <th>1</th>\n",
       "      <td>GDNF--S-S083</td>\n",
       "      <td>26.390963</td>\n",
       "      <td>15.370811</td>\n",
       "    </tr>\n",
       "    <tr>\n",
       "      <th>2</th>\n",
       "      <td>ACTIVIN--S-S083</td>\n",
       "      <td>25.557961</td>\n",
       "      <td>14.098666</td>\n",
       "    </tr>\n",
       "    <tr>\n",
       "      <th>3</th>\n",
       "      <td>EGF--S-S083</td>\n",
       "      <td>5.915041</td>\n",
       "      <td>5.364349</td>\n",
       "    </tr>\n",
       "    <tr>\n",
       "      <th>4</th>\n",
       "      <td>NRG--S-S083</td>\n",
       "      <td>2.190008</td>\n",
       "      <td>-8.589875</td>\n",
       "    </tr>\n",
       "    <tr>\n",
       "      <th>...</th>\n",
       "      <td>...</td>\n",
       "      <td>...</td>\n",
       "      <td>...</td>\n",
       "    </tr>\n",
       "    <tr>\n",
       "      <th>200</th>\n",
       "      <td>PVR--S-HC018-1</td>\n",
       "      <td>7.181560</td>\n",
       "      <td>-16.114208</td>\n",
       "    </tr>\n",
       "    <tr>\n",
       "      <th>201</th>\n",
       "      <td>SELPLG--S-HC018-1</td>\n",
       "      <td>9.145022</td>\n",
       "      <td>5.348233</td>\n",
       "    </tr>\n",
       "    <tr>\n",
       "      <th>202</th>\n",
       "      <td>SEMA4--S-HC018-1</td>\n",
       "      <td>18.079636</td>\n",
       "      <td>0.465053</td>\n",
       "    </tr>\n",
       "    <tr>\n",
       "      <th>203</th>\n",
       "      <td>SEMA7--S-HC018-1</td>\n",
       "      <td>-0.366413</td>\n",
       "      <td>19.150620</td>\n",
       "    </tr>\n",
       "    <tr>\n",
       "      <th>204</th>\n",
       "      <td>TIGIT--S-HC018-1</td>\n",
       "      <td>7.279656</td>\n",
       "      <td>-15.639369</td>\n",
       "    </tr>\n",
       "  </tbody>\n",
       "</table>\n",
       "<p>205 rows × 3 columns</p>\n",
       "</div>"
      ],
      "text/plain": [
       "            Unnamed: 0      UMAP1      UMAP2\n",
       "0         TGFb--S-S083   5.585470   7.309188\n",
       "1         GDNF--S-S083  26.390963  15.370811\n",
       "2      ACTIVIN--S-S083  25.557961  14.098666\n",
       "3          EGF--S-S083   5.915041   5.364349\n",
       "4          NRG--S-S083   2.190008  -8.589875\n",
       "..                 ...        ...        ...\n",
       "200     PVR--S-HC018-1   7.181560 -16.114208\n",
       "201  SELPLG--S-HC018-1   9.145022   5.348233\n",
       "202   SEMA4--S-HC018-1  18.079636   0.465053\n",
       "203   SEMA7--S-HC018-1  -0.366413  19.150620\n",
       "204   TIGIT--S-HC018-1   7.279656 -15.639369\n",
       "\n",
       "[205 rows x 3 columns]"
      ]
     },
     "execution_count": 3,
     "metadata": {},
     "output_type": "execute_result"
    }
   ],
   "source": [
    "embeddings"
   ]
  },
  {
   "cell_type": "code",
   "execution_count": null,
   "id": "driving-terminology",
   "metadata": {},
   "outputs": [],
   "source": []
  }
 ],
 "metadata": {
  "kernelspec": {
   "display_name": "Python [conda env:cellchat] *",
   "language": "python",
   "name": "conda-env-cellchat-py"
  },
  "language_info": {
   "codemirror_mode": {
    "name": "ipython",
    "version": 3
   },
   "file_extension": ".py",
   "mimetype": "text/x-python",
   "name": "python",
   "nbconvert_exporter": "python",
   "pygments_lexer": "ipython3",
   "version": "3.9.2"
  }
 },
 "nbformat": 4,
 "nbformat_minor": 5
}
