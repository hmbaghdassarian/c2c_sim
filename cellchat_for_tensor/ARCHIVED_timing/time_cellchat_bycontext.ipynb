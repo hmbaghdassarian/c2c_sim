{
 "cells": [
  {
   "cell_type": "code",
   "execution_count": 1,
   "id": "relevant-marketing",
   "metadata": {},
   "outputs": [],
   "source": [
    "suppressPackageStartupMessages({\n",
    "    library(CellChat)\n",
    "    library(patchwork)\n",
    "    library(RhpcBLASctl)\n",
    "    library(Matrix)\n",
    "})\n",
    "options(stringsAsFactors = FALSE)\n",
    "output_results_path = '/data2/hratch/immune_CCI/covid/results/timing/'\n",
    "\n",
    "RhpcBLASctl::blas_set_num_threads(1) # no multithreading"
   ]
  },
  {
   "cell_type": "code",
   "execution_count": 2,
   "id": "separate-highlight",
   "metadata": {},
   "outputs": [],
   "source": [
    "# load inputs\n",
    "data_input_map<-readRDS(paste0(output_results_path, 'data_input_map_by_context.rds'))\n",
    "meta_map<-readRDS(paste0(output_results_path, 'meta_map_by_context.rds'))\n",
    "humandb<-readRDS(paste0(output_results_path, 'humandb.rds'))"
   ]
  },
  {
   "cell_type": "code",
   "execution_count": 3,
   "id": "unable-motivation",
   "metadata": {},
   "outputs": [],
   "source": [
    "#' Rank the similarity of the shared signaling pathways based on their joint manifold learning\n",
    "#'\n",
    "#' @param object CellChat object\n",
    "#' @param slot.name the slot name of object that is used to compute centrality measures of signaling networks\n",
    "#' @param type \"functional\",\"structural\"\n",
    "#' @param comparison1 a numerical vector giving the datasets for comparison. This should be the same as `comparison` in `computeNetSimilarityPairwise`\n",
    "#' @param comparison2 a numerical vector with two elements giving the datasets for comparison.\n",
    "#'\n",
    "#' If there are more than 2 datasets defined in `comparison1`, `comparison2` can be defined to indicate which two datasets used for computing the distance.\n",
    "#' e.g., comparison2 = c(1,3) indicates the first and third datasets defined in `comparison1` will be used for comparison.\n",
    "#' @import ggplot2\n",
    "#' @importFrom methods slot\n",
    "#' @return\n",
    "#' @export\n",
    "#'\n",
    "#' @examples\n",
    "rankSimilarity_ <- function(object, slot.name = \"netP\", type = c(\"functional\",\"structural\"), comparison1 = NULL,  \n",
    "                           comparison2 = c(1,2)) {\n",
    "  type <- match.arg(type)\n",
    "\n",
    "  if (is.null(comparison1)) {\n",
    "    comparison1 <- 1:length(unique(object@meta$datasets))\n",
    "  }\n",
    "  comparison.name <- paste(comparison1, collapse = \"-\")\n",
    "  cat(\"Compute the distance of signaling networks between datasets\", as.character(comparison1[comparison2]), '\\n')\n",
    "  comparison2.name <- names(methods::slot(object, slot.name))[comparison1[comparison2]]\n",
    "\n",
    "  Y <- methods::slot(object, slot.name)$similarity[[type]]$dr[[comparison.name]]\n",
    "  group <- sub(\".*--\", \"\", rownames(Y))\n",
    "  data1 <- Y[group %in% comparison2.name[1], ]\n",
    "  data2 <- Y[group %in% comparison2.name[2], ]\n",
    "  rownames(data1) <- sub(\"--.*\", \"\", rownames(data1))\n",
    "  rownames(data2) <- sub(\"--.*\", \"\", rownames(data2))\n",
    "\n",
    "  pathway.show = as.character(intersect(rownames(data1), rownames(data2)))\n",
    "  data1 <- data1[pathway.show, ]\n",
    "  data2 <- data2[pathway.show, ]\n",
    "  euc.dist <- function(x1, x2) sqrt(sum((x1 - x2) ^ 2))\n",
    "  dist <- NULL\n",
    "  for(i in 1:nrow(data1)) dist[i] <- euc.dist(data1[i,],data2[i,])\n",
    "  df <- data.frame(name = pathway.show, dist = dist, row.names = pathway.show)\n",
    "  df <- df[order(df$dist), , drop = F]\n",
    "  df$name <- factor(df$name, levels = as.character(df$name))\n",
    "\n",
    "  return(df)\n",
    "}"
   ]
  },
  {
   "cell_type": "markdown",
   "id": "controlling-multiple",
   "metadata": {},
   "source": [
    "# Run Pipeline"
   ]
  },
  {
   "cell_type": "code",
   "execution_count": 81,
   "id": "christian-harmony",
   "metadata": {},
   "outputs": [
    {
     "name": "stdout",
     "output_type": "stream",
     "text": [
      "[1] 2\n"
     ]
    }
   ],
   "source": [
    "# create cellchat object for each sample or context\n",
    "covid.list<-list()\n",
    "for (context in names(meta_map)){\n",
    "    # loop through each context and create a cell type future\n",
    "    cellchat <- createCellChat(object = data_input_map[[context]], meta = meta_map[[context]], \n",
    "                               group.by = 'cell_type')\n",
    "    cellchat@DB <- humandb # human organism\n",
    "\n",
    "    cellchat <- subsetData(cellchat) # subset the expression data of signaling genes, assign to @data.signalling \n",
    "    cellchat <- identifyOverExpressedGenes(cellchat)\n",
    "    cellchat <- identifyOverExpressedInteractions(cellchat) # generate @ LR slot used by computeCommunProb\n",
    "    cellchat <- projectData(cellchat, PPI.human) # shallow sequencing depth\n",
    "    \n",
    "    cellchat <- computeCommunProb(cellchat, raw.use = F, type = 'triMean', trim = NULL, seed.use = NULL, \n",
    "                                 population.size = F) \n",
    "    \n",
    "    # The functional similarity analysis requires the same cell population composition between two datasets.\n",
    "    cellchat <- filterCommunication(cellchat, min.cells = 10)\n",
    "    cellchat <- computeCommunProbPathway(cellchat)\n",
    "    covid.list[[context]]<-cellchat\n",
    "}\n",
    "\n",
    "# merge and analyze\n",
    "cellchat <- mergeCellChat(covid.list, add.names = names(covid.list))\n",
    "cellchat <- computeNetSimilarityPairwise(cellchat, type = 'structural')\n",
    "cellchat <- netEmbedding(cellchat, type = 'structural')\n",
    "cellchat <- netClustering(cellchat, type = 'structural',  do.parallel = F, do.plot = F)\n",
    "# Manifold learning of the signaling networks for datasets \n",
    "pairwise_comparisons<-sapply(as.data.frame(combn(seq(1:length(covid.list)),2)), \n",
    "                         function(x) as.numeric(x), simplify = F) # pairwise combination of elements\n",
    "\n",
    "for (pc in names(pairwise_comparisons)){\n",
    "    print(pc)\n",
    "    path.dist<-rankSimilarity_(cellchat, type = 'structural', comparison1 = 1:length(covid.list),\n",
    "                               comparison2 = pairwise_comparisons[[pc]]) \n",
    "}                      "
   ]
  }
 ],
 "metadata": {
  "kernelspec": {
   "display_name": "R [conda env:cellchat] *",
   "language": "R",
   "name": "conda-env-cellchat-r"
  },
  "language_info": {
   "codemirror_mode": "r",
   "file_extension": ".r",
   "mimetype": "text/x-r-source",
   "name": "R",
   "pygments_lexer": "r",
   "version": "4.0.3"
  }
 },
 "nbformat": 4,
 "nbformat_minor": 5
}
