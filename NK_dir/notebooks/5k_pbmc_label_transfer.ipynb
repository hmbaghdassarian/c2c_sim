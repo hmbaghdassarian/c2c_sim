{
 "cells": [
  {
   "cell_type": "code",
   "execution_count": 1,
   "metadata": {},
   "outputs": [],
   "source": [
    "library(Seurat)\n",
    "library(sctransform)\n",
    "\n",
    "library(future)\n",
    "library(future.apply)\n",
    "options(future.globals.maxSize = 20000 * 1024^2)\n",
    "\n",
    "\n",
    "#fix to have dot env like behavior\n",
    "stat4_data_path = '/data2/hratch/STAT4/'\n",
    "local_data_path = '/data2/hratch/immune_CCI_pseudotime/'\n",
    "# general_analyses_path = \"/home/hratch/Projects/general_analyses/\"\n",
    "stat4_project_path = '/home/hratch/Projects/STAT4/'"
   ]
  },
  {
   "cell_type": "markdown",
   "metadata": {},
   "source": [
    "cell ranger count on 5k pbmcs and Zheng pbmcs_5k processing run in \n",
    "/home/hratch/Projects/STAT4/notebooks/format_data.ipynb"
   ]
  },
  {
   "cell_type": "code",
   "execution_count": 2,
   "metadata": {},
   "outputs": [],
   "source": [
    "# # get the Zheng dataset - saves as an image file in STAT4, resave as RDS\n",
    "# load(paste0(stat4_data_path, 'processed/markers.rda'))\n",
    "# local_data_path = '/data2/hratch/immune_CCI/'\n",
    "# saveRDS(Zheng.integrated, file = paste0(local_data_path, 'interim/integrated_Zheng.RDS'))\n",
    "Zheng.integrated = readRDS(paste0(local_data_path, 'interim/integrated_Zheng.RDS'))"
   ]
  },
  {
   "cell_type": "code",
   "execution_count": 3,
   "metadata": {},
   "outputs": [],
   "source": [
    "# # load output of cell ranger count for 5k pbmcs\n",
    "# counts_5k_path = paste0(stat4_data_path, 'interim/5k_pbmc_v3_count/outs/filtered_feature_bc_matrix/')\n",
    "# raw_counts = Read10X(data.dir = counts_5k_path)\n",
    "# project_name = '5k_pbmc'"
   ]
  },
  {
   "cell_type": "markdown",
   "metadata": {},
   "source": [
    "# normalize 5k"
   ]
  },
  {
   "cell_type": "code",
   "execution_count": null,
   "metadata": {},
   "outputs": [],
   "source": [
    "# # normalize\n",
    "# pbmcs_5k = CreateSeuratObject(counts = raw_counts, project = project_name)\n",
    "# pbmcs_5k$experiment = project_name\n",
    "# pbmcs_5k = PercentageFeatureSet(pbmcs_5k, pattern = \"^MT-\", col.name = \"percent.mt\")\n",
    "# pbmcs_5k = SCTransform(pbmcs_5k, vars.to.regress = \"percent.mt\")\n",
    "# saveRDS(pbmcs_5k, file = paste0(local_data_path, 'interim/5k_pbmcs_normalized.RDS'))\n",
    "pbmcs_5k = readRDS(paste0(local_data_path, 'interim/5k_pbmcs_normalized.RDS'))"
   ]
  },
  {
   "cell_type": "markdown",
   "metadata": {},
   "source": [
    "# label transfer"
   ]
  },
  {
   "cell_type": "code",
   "execution_count": 10,
   "metadata": {},
   "outputs": [],
   "source": [
    "# n_dims_Zheng<-100 # from stat4 format_data\n",
    "# anchors <- FindTransferAnchors(reference = Zheng.integrated, query = pbmcs_5k, \n",
    "#                                normalization.method = c(\"LogNormalize\", \"SCT\"),\n",
    "#                                reference.assay = 'integrated', query.assay = 'SCT', npcs = NULL, \n",
    "#                                dims = 1:n_dims_Zheng, verbose = TRUE)\n",
    "# plan(\"multiprocess\", workers = 10)\n",
    "# predictions <- TransferData(anchorset = anchors, refdata = Zheng.integrated$celltype, \n",
    "#     dims = 1:n_dims_Zheng)\n",
    "# write.csv(predictions, paste0(local_data_path, 'processed/5k_pbmc_celltypes.csv'))\n",
    "predictions = read.csv(paste0(local_data_path, 'processed/5k_pbmc_celltypes.csv'))"
   ]
  }
 ],
 "metadata": {
  "kernelspec": {
   "display_name": "R [conda env:STAT4]",
   "language": "R",
   "name": "conda-env-STAT4-r"
  },
  "language_info": {
   "codemirror_mode": "r",
   "file_extension": ".r",
   "mimetype": "text/x-r-source",
   "name": "R",
   "pygments_lexer": "r",
   "version": "3.6.2"
  }
 },
 "nbformat": 4,
 "nbformat_minor": 4
}
