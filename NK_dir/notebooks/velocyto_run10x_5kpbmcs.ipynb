{
 "cells": [
  {
   "cell_type": "code",
   "execution_count": 3,
   "metadata": {},
   "outputs": [],
   "source": [
    "import subprocess\n",
    "import os\n",
    "import loompy\n",
    "import pandas as pd\n",
    "\n",
    "import sys\n",
    "sys.path.insert(1, '../scripts/') # comment out in python script\n",
    "from load_environmental_variables import *"
   ]
  },
  {
   "cell_type": "code",
   "execution_count": 73,
   "metadata": {},
   "outputs": [],
   "source": [
    "def velocyto_run10x(sample_folder, gtf_file, output_file, *args, **kwargs):\n",
    "    '''\n",
    "\n",
    "    Python wrapper function for velocytro run10x\n",
    "\n",
    "    1) sample_folder is a string of the full path to the 10x sample folder.\n",
    "    2) gtf_file is a string of the full path to the genome annotation file\n",
    "    3) output_file is a string of the full path to the terminal output to be written as a text file\n",
    "\n",
    "    '''\n",
    "    # https://velocyto.org/velocyto.py/tutorial/cli.html#run10x-run-on-10x-chromium-samples\n",
    "\n",
    "\n",
    "    try:\n",
    "        cmd = 'velocyto run10x ' #command line command as a string and function of file path\n",
    "        # add args\n",
    "        for arg in args:\n",
    "            if len(set(arg)) >1:\n",
    "                cmd += '--' + arg + ' '\n",
    "            else:\n",
    "                cmd += '-' + arg + ' '\n",
    "\n",
    "        # add kwargs\n",
    "        for flag, option in kwargs.items():\n",
    "            if len(flag) >1:\n",
    "                cmd += '--' + flag + ' ' + option + ' '\n",
    "            else:\n",
    "                cmd += '-' + flag + ' ' + option + ' '\n",
    "        cmd += sample_folder + ' ' + gtf_file + ' > ' + output_file\n",
    "        print(cmd)\n",
    "#         output = subprocess.check_output(cmd, stderr=subprocess.STDOUT, universal_newlines=True, shell=True) # this line will execute the command\n",
    "    except subprocess.CalledProcessError as exc:\n",
    "        print(\"Status : FAIL\", exc.returncode, exc.output)"
   ]
  },
  {
   "cell_type": "code",
   "execution_count": 40,
   "metadata": {},
   "outputs": [],
   "source": [
    "# format metadata file\n",
    "md = pd.read_csv(local_data_path + 'processed/5k_pbmc_celltypes.csv').iloc[:,[0,1]]\n",
    "md.columns = ['SampleID', 'Cell_Type']\n",
    "md.to_csv(local_data_path + 'processed/5k_pbmc_celltypes_velocytoformatted.csv')"
   ]
  },
  {
   "cell_type": "code",
   "execution_count": 70,
   "metadata": {},
   "outputs": [],
   "source": [
    "# set up params\n",
    "sample_folder_ = '/data2/hratch/STAT4/interim/5k_pbmc_v3_count'\n",
    "gtf_file_ = '/data/hratch/Software/refdata-cellranger-GRCh38-3.1.0/GRCh38/genes/genes.gtf'\n",
    "output_file_ = local_data_path + 'interim/velocyto_run10x_output.txt'\n",
    "n_threads = 20\n",
    "key_words = {'metadatatable': local_data_path + 'processed/5k_pbmc_celltypes_velocytoformatted.csv', \n",
    "                    'samtools-threads': str(n_threads), 'samtools-memory': str(round((183777*0.1)/n_threads)), \n",
    "                'dtype': 'uint32'}\n",
    "arguments = ['vvv']\n",
    "# run\n",
    "velocyto_run10x(sample_folder_, gtf_file_, output_file_, *arguments, **key_words)\n",
    "# move output loom file\n",
    "cmd = 'mv ' + sample_folder_ + '/velocyto ' + local_data_path + 'interim/.'\n",
    "os.system(cmd)"
   ]
  },
  {
   "cell_type": "code",
   "execution_count": null,
   "metadata": {},
   "outputs": [],
   "source": [
    "# mapp cell types onto loom file\n",
    "\n",
    "cmd = 'scp ' + local_data_path + 'interim/velocyto/5k_pbmc_v3_count.loom '\n",
    "cmd += local_data_path + 'interim/velocyto/5k_pbmc_v3_count_celltypes.loom'\n",
    "os.system(cmd)\n",
    "\n",
    "ds = loompy.connect(local_data_path + 'interim/velocyto/5k_pbmc_v3_count_celltypes.loom')\n",
    "cell_type_df = pd.read_csv(local_data_path + 'processed/5k_pbmc_celltypes_velocytoformatted.csv', index_col = 0)\n",
    "cell_type_df['SampleID'] = cell_type_df['SampleID'].apply(lambda x: '5k_pbmc_v3_count:' + x + 'x')\n",
    "cell_type_map = dict(zip(cell_type_df.SampleID.tolist(), cell_type_df.Cell_Type.tolist()))\n",
    "cell_type_attribute = [cell_type_map[i] for i in list(ds.ca['CellID'])]\n",
    "ds.ca['Cell_Type'] = cell_type_attribute\n",
    "ds.close() # saves file with changes"
   ]
  }
 ],
 "metadata": {
  "kernelspec": {
   "display_name": "Python [conda env:immune_CCI] *",
   "language": "python",
   "name": "conda-env-immune_CCI-py"
  },
  "language_info": {
   "codemirror_mode": {
    "name": "ipython",
    "version": 3
   },
   "file_extension": ".py",
   "mimetype": "text/x-python",
   "name": "python",
   "nbconvert_exporter": "python",
   "pygments_lexer": "ipython3",
   "version": "3.6.7"
  }
 },
 "nbformat": 4,
 "nbformat_minor": 4
}
