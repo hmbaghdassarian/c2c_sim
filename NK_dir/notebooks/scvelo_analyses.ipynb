{
 "cells": [
  {
   "cell_type": "markdown",
   "metadata": {},
   "source": [
    "May want to consider scvelo for improved assumptions in the future: https://scvelo.readthedocs.io/getting_started.html\n",
    "scv also has a function to compute the pseudotime"
   ]
  },
  {
   "cell_type": "markdown",
   "metadata": {
    "colab_type": "text",
    "id": "lSaIs_9xJ0VM"
   },
   "source": [
    "# **Analysis**"
   ]
  },
  {
   "cell_type": "code",
   "execution_count": 1,
   "metadata": {
    "colab": {},
    "colab_type": "code",
    "id": "h4_0MkCF3Rrf"
   },
   "outputs": [],
   "source": [
    "import velocyto as vcy\n",
    "import scvelo as scv\n",
    "import numpy as np\n",
    "import pandas as pd\n",
    "import scipy as sc\n",
    "import h5py\n",
    "import os\n",
    "import matplotlib.pyplot as plt\n",
    "import matplotlib.patches as mpatches\n",
    "import seaborn as sns\n",
    "from tqdm import tqdm\n",
    "\n",
    "import sys\n",
    "sys.path.insert(1, '../scripts/') # comment out in python script\n",
    "from load_environmental_variables import *"
   ]
  },
  {
   "cell_type": "code",
   "execution_count": 2,
   "metadata": {},
   "outputs": [
    {
     "name": "stderr",
     "output_type": "stream",
     "text": [
      "Variable names are not unique. To make them unique, call `.var_names_make_unique`.\n"
     ]
    },
    {
     "name": "stdout",
     "output_type": "stream",
     "text": [
      "Filtered out 22652 genes that are detected 34 counts (spliced).\n",
      "Normalized count data: X, spliced, unspliced.\n",
      "Logarithmized X.\n"
     ]
    }
   ],
   "source": [
    "# emulating original velocyto code \n",
    "adata = scv.read(local_data_path + 'interim/velocyto/5k_pbmc_v3_count_celltypes.loom', cache=True)\n",
    "\n",
    "\n",
    "# filtering out cells with low unspliced counts<--couldn't figure out how to do as in velocyto\n",
    "\n",
    "# we want to be very lenient with gene filtering so that there are many membrane/EC proteins remaining for \n",
    "# CCI scoring, go with atleast 0.1 and 0.01% of respective dimension for now\n",
    "# this cuts it down from 33k genes to 11k genes\n",
    "scv.pp.filter_and_normalize(adata, \n",
    "                            min_counts = round(0.001*adata.layers['spliced'].shape[1]), min_counts_u = None, \n",
    "                            min_cells = round(0.01*adata.layers['spliced'].shape[0]),\n",
    "                            min_cells_u = None,#round(np.percentile(adata.layers['unspliced'].sum(axis = 1), 0.5)),\n",
    "                            n_top_genes = None\n",
    "                           )\n"
   ]
  },
  {
   "cell_type": "markdown",
   "metadata": {},
   "source": [
    "moments uses PCA, in future will want to figure out the numer of pcs to use"
   ]
  },
  {
   "cell_type": "code",
   "execution_count": 3,
   "metadata": {},
   "outputs": [
    {
     "name": "stdout",
     "output_type": "stream",
     "text": [
      "computing neighbors\n",
      "    finished (0:00:04) --> added \n",
      "    'distances' and 'connectivities', weighted adjacency matrices (adata.obsp)\n",
      "computing moments based on connectivities\n",
      "    finished (0:00:06) --> added \n",
      "    'Ms' and 'Mu', moments of un/spliced abundances (adata.layers)\n"
     ]
    }
   ],
   "source": [
    "# when drawing information from neighbors, use 1% of all cells\n",
    "n_neighbors_ = round(adata.layers['spliced'].shape[0]*0.01)\n",
    "scv.pp.moments(adata, n_neighbors = n_neighbors_)"
   ]
  },
  {
   "cell_type": "code",
   "execution_count": 4,
   "metadata": {},
   "outputs": [
    {
     "name": "stdout",
     "output_type": "stream",
     "text": [
      "computing velocities\n",
      "    finished (0:00:07) --> added \n",
      "    'velocity', velocity vectors for each individual cell (adata.layers)\n"
     ]
    }
   ],
   "source": [
    "scv.tl.velocity(adata, mode = 'stochastic', filter_genes = False)"
   ]
  },
  {
   "cell_type": "markdown",
   "metadata": {},
   "source": [
    "# Get Convergence Rule for Projection"
   ]
  },
  {
   "cell_type": "code",
   "execution_count": 5,
   "metadata": {},
   "outputs": [],
   "source": [
    "progress = pd.DataFrame(columns = ['distance_ratio', 'delta_t_ratio', 'distance', 'delta_t'])\n",
    "\n",
    "max_dt = 0.0001\n",
    "change_0 = scv.utils.get_extrapolated_state(adata, dt = max_dt)\n",
    "distance_0 = 0\n",
    "progress.loc[0,:] = [float('nan'), float('nan'), float('nan'), max_dt]\n",
    "\n",
    "t_0 = max_dt\n",
    "max_dt *= 10\n",
    "projected_matrix = scv.utils.get_extrapolated_state(adata, dt = max_dt)\n",
    "distance_1 = np.linalg.norm(change_0-projected_matrix)\n",
    "change0 = projected_matrix\n",
    "progress.loc[1,:] = [float('nan'), max_dt/t_0, distance_1, max_dt]\n",
    "\n",
    "counter = 2\n",
    "while abs(distance_1/distance_0 - max_dt/t_0) >= 0.00001:\n",
    "    t_0 = max_dt\n",
    "    max_dt += 1\n",
    "        \n",
    "    projected_matrix = scv.utils.get_extrapolated_state(adata, dt = max_dt)\n",
    "    distance_0 = distance_1\n",
    "    distance_1 = np.linalg.norm(change_0-projected_matrix)\n",
    "    progress.loc[counter,:] = [distance_1/distance_0, max_dt/t_0, distance_1, max_dt]\n",
    "    change0 = projected_matrix\n",
    "    counter += 1\n",
    "\n",
    "max_dt = round(max_dt)\n",
    "# generate 100 time points between 0 and max_dt\n",
    "time_points = np.arange(0, max_dt + max_dt/100, max_dt/99)"
   ]
  },
  {
   "cell_type": "code",
   "execution_count": 6,
   "metadata": {},
   "outputs": [
    {
     "data": {
      "image/png": "[encoded data removed]",
      "text/plain": [
       "<Figure size 1224x360 with 3 Axes>"
      ]
     },
     "metadata": {
      "needs_background": "light"
     },
     "output_type": "display_data"
    }
   ],
   "source": [
    "fig, ax = plt.subplots(ncols=3, figsize = (17,5))\n",
    "g0 = sns.scatterplot(x = 'delta_t', y ='distance', data = progress, ax = ax[0])\n",
    "\n",
    "g1 = sns.scatterplot(x = 'delta_t', y ='distance_ratio', data = progress, ax = ax[1])\n",
    "ax[1].set_yscale('log')\n",
    "\n",
    "g2 = sns.scatterplot(x = 'delta_t', y ='delta_t_ratio', data = progress, ax = ax[2])\n",
    "ax[2].set_yscale('log')\n",
    "\n",
    "plt.savefig(local_data_path + 'figures/dt_convergence.pdf', bbox_inches='tight')\n",
    "plt.savefig(local_data_path + 'figures/dt_convergence.png', bbox_inches='tight')"
   ]
  },
  {
   "cell_type": "markdown",
   "metadata": {},
   "source": [
    "# Project Expression Matrix and Save results"
   ]
  },
  {
   "cell_type": "code",
   "execution_count": 7,
   "metadata": {},
   "outputs": [],
   "source": [
    "if not os.path.isdir(local_data_path + 'interim/velocyto_analyses/'):\n",
    "    os.mkdir(local_data_path + 'interim/velocyto_analyses/')"
   ]
  },
  {
   "cell_type": "code",
   "execution_count": 8,
   "metadata": {
    "colab": {},
    "colab_type": "code",
    "id": "tMPpRaf8q3mH"
   },
   "outputs": [
    {
     "name": "stderr",
     "output_type": "stream",
     "text": [
      "100%|██████████| 99/99 [04:30<00:00,  2.73s/it]\n"
     ]
    }
   ],
   "source": [
    "# assume vlm.Sx_sz is at t = 0, create h5 object\n",
    "# h5py will create a compressed object containing all the matrices, which can be used to transfer data to others\n",
    "expression_dt = h5py.File(local_data_path + 'interim/velocyto_analyses/expression_dt.h5', 'w')\n",
    "expression_dt.create_dataset(str(0), data = adata.layers['Ms']) # expression_over_time = {0: vlm.Sx_sz}\n",
    "\n",
    "for dt_ in tqdm(time_points[1:]):\n",
    "    expression_dt.create_dataset(str(dt_), \n",
    "                                 data=scv.utils.get_extrapolated_state(adata, dt = dt_)) # do the projection\n",
    "\n",
    "expression_dt.close()\n",
    "\n",
    "# write file with cell names\n",
    "with open(local_data_path + 'interim/velocyto_analyses/column_names.txt', 'w') as f:\n",
    "    for name in adata.obs.index.tolist():\n",
    "        f.write(name + '\\n')\n",
    "\n",
    "\n",
    "# repeat for rownames\n",
    "with open(local_data_path + 'interim/velocyto_analyses/row_names.txt', 'w') as f:\n",
    "    for name in adata.var.index.tolist():\n",
    "        f.write(name + '\\n')"
   ]
  },
  {
   "cell_type": "code",
   "execution_count": 37,
   "metadata": {
    "scrolled": true
   },
   "outputs": [],
   "source": [
    "cell_ids = open(local_data_path + 'interim/velocyto_analyses/column_names.txt').read().splitlines()\n",
    "gene_names = open(local_data_path + 'interim/velocyto_analyses/row_names.txt').read().splitlines()\n",
    "\n",
    "expression_dt = h5py.File(local_data_path + 'interim/velocyto_analyses/expression_dt.h5', \"r\")\n",
    "if not os.path.isdir(local_data_path + 'interim/velocyto_analyses/projected_gene_expression_csvs/'):\n",
    "    os.mkdir(local_data_path + 'interim/velocyto_analyses/projected_gene_expression_csvs/')\n",
    "    \n",
    "for dt in tqdm(expression_dt.keys()):\n",
    "    expression_df = pd.DataFrame(np.array(expression_dt[dt]).T, columns = cell_ids, index = gene_names)\n",
    "    fn = local_data_path + 'interim/velocyto_analyses/projected_gene_expression_csvs/'\n",
    "    fn += 'T-' + '{:04f}'.format(float(dt))  + '-Expression.csv'\n",
    "    expression_df.to_csv(fn)"
   ]
  },
  {
   "cell_type": "markdown",
   "metadata": {},
   "source": [
    "# Get Cell Ordering"
   ]
  },
  {
   "cell_type": "code",
   "execution_count": 38,
   "metadata": {},
   "outputs": [
    {
     "name": "stdout",
     "output_type": "stream",
     "text": [
      "computing velocity graph\n",
      "    finished (0:01:19) --> added \n",
      "    'velocity_graph', sparse matrix with cosine correlations (adata.uns)\n",
      "computing terminal states\n",
      "    identified 1 region of root cells and 3 regions of end points .\n",
      "    finished (0:00:01) --> added\n",
      "    'root_cells', root cells of Markov diffusion process (adata.obs)\n",
      "    'end_points', end points of Markov diffusion process (adata.obs)\n"
     ]
    }
   ],
   "source": [
    "# get transition matrix\n",
    "scv.tl.velocity_graph(adata)\n",
    "# get ordering of cells\n",
    "scv.tl.velocity_pseudotime(adata)\n",
    "adata.obs.to_csv(local_data_path + 'interim/velocyto_analyses/velocyto_attributes.csv')"
   ]
  },
  {
   "cell_type": "code",
   "execution_count": 39,
   "metadata": {},
   "outputs": [
    {
     "data": {
      "image/png": "[encoded data removed]",
      "text/plain": [
       "<Figure size 432x288 with 1 Axes>"
      ]
     },
     "metadata": {
      "needs_background": "light"
     },
     "output_type": "display_data"
    }
   ],
   "source": [
    "fig, ax = plt.subplots()\n",
    "sns.distplot(adata.obs.velocity_pseudotime, ax = ax)\n",
    "ax.set_title('Cell Psuedotime Distribution')\n",
    "plt.savefig(local_data_path + 'figures/cell_psuedotime_distribution.pdf', bbox_to_inches = 'tight')\n",
    "plt.savefig(local_data_path + 'figures/cell_psuedotime_distribution.png', bbox_to_inches = 'tight');"
   ]
  },
  {
   "cell_type": "code",
   "execution_count": 89,
   "metadata": {},
   "outputs": [
    {
     "data": {
      "image/png": "[encoded data removed]",
      "text/plain": [
       "<Figure size 432x288 with 1 Axes>"
      ]
     },
     "metadata": {
      "needs_background": "light"
     },
     "output_type": "display_data"
    }
   ],
   "source": [
    "fig, ax = plt.subplots()\n",
    "\n",
    "counter = 0\n",
    "uct = sorted(adata.obs.Cell_Type.unique())\n",
    "colors = sns.color_palette(\"hls\", len(uct))\n",
    "for ct in uct:\n",
    "    viz_df = adata.obs[adata.obs.Cell_Type == ct]\n",
    "    sns.distplot(viz_df.velocity_pseudotime, color = colors[counter], kde = 1,norm_hist = 1, \n",
    "                 ax = ax)\n",
    "    counter += 1\n",
    "ax.legend(handles = [mpatches.Patch(color=colors[i], label=uct[i]) for i in range(len(uct))], \n",
    "         bbox_to_anchor = (1.45,1))\n",
    "plt.savefig(local_data_path + 'figures/cell_psuedotime_distribution_bycelltype.pdf', bbox_to_inches = 'tight')\n",
    "plt.savefig(local_data_path + 'figures/cell_psuedotime_distribution_bycelltype.png', bbox_to_inches = 'tight');"
   ]
  }
 ],
 "metadata": {
  "colab": {
   "collapsed_sections": [],
   "name": "5kpbmc_velocyto_analyses.ipynb",
   "provenance": []
  },
  "kernelspec": {
   "display_name": "Python 3",
   "language": "python",
   "name": "python3"
  },
  "language_info": {
   "codemirror_mode": {
    "name": "ipython",
    "version": 3
   },
   "file_extension": ".py",
   "mimetype": "text/x-python",
   "name": "python",
   "nbconvert_exporter": "python",
   "pygments_lexer": "ipython3",
   "version": "3.6.7"
  }
 },
 "nbformat": 4,
 "nbformat_minor": 1
}
