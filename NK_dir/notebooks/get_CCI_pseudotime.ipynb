{
 "cells": [
  {
   "cell_type": "code",
   "execution_count": 1,
   "metadata": {},
   "outputs": [],
   "source": [
    "import sys\n",
    "sys.path.insert(1, '../scripts/') # comment out in python script\n",
    "from load_environmental_variables import *"
   ]
  },
  {
   "cell_type": "code",
   "execution_count": 2,
   "metadata": {},
   "outputs": [
    {
     "name": "stderr",
     "output_type": "stream",
     "text": [
      "/home/hratch/anaconda3/envs/CD8T_RA/lib/python3.6/site-packages/statsmodels/tools/_testing.py:19: FutureWarning: pandas.util.testing is deprecated. Use the functions in the public API at pandas.testing instead.\n",
      "  import pandas.util.testing as tm\n"
     ]
    }
   ],
   "source": [
    "import cell2cell as c2c\n",
    "import numpy as np\n",
    "import pandas as pd\n",
    "import h5py\n",
    "\n",
    "from tqdm.auto import tqdm\n",
    "\n",
    "import glob\n",
    "import os\n",
    "from multiprocessing import Pool"
   ]
  },
  {
   "cell_type": "code",
   "execution_count": 3,
   "metadata": {},
   "outputs": [
    {
     "name": "stdout",
     "output_type": "stream",
     "text": [
      "Load params\n"
     ]
    }
   ],
   "source": [
    "print('Load params')\n",
    "files = {'ppi': local_data_path + 'raw/Human-2020-Cabello-Aguilar-LR-pairs.csv', \n",
    "        'output_folder': local_data_path + 'interim/get_CCI_psuedotime/'}\n",
    "\n",
    "if not os.path.isdir(files['output_folder']):\n",
    "    os.mkdir(files['output_folder'])\n",
    "\n",
    "rnaseq_setup, ppi_setup, cutoff_setup, analysis_setup = dict(), dict(), dict(), dict()\n",
    "\n",
    "rnaseq_setup['gene_col'] = None\n",
    "rnaseq_setup['drop_nangenes'] = True\n",
    "rnaseq_setup['log_transform'] = False\n",
    "\n",
    "ppi_setup['protein_cols'] = ['ligand', 'receptor']\n",
    "\n",
    "cutoff_setup['type'] = 'constant_value'\n",
    "cutoff_setup['parameter'] = 0.1\n",
    "\n",
    "analysis_setup['communication_score'] = 'expression_thresholding'\n",
    "analysis_setup['cci_score'] = 'bray_curtis'\n",
    "analysis_setup['cci_type'] = 'undirected'\n"
   ]
  },
  {
   "cell_type": "code",
   "execution_count": 4,
   "metadata": {},
   "outputs": [
    {
     "name": "stdout",
     "output_type": "stream",
     "text": [
      "/data2/hratch/immune_CCI_pseudotime/processed/5k_pbmc_celltypes_velocytoformatted.csv was correctly loaded\n"
     ]
    }
   ],
   "source": [
    "cell_types = c2c.io.load_table(local_data_path + 'processed/5k_pbmc_celltypes_velocytoformatted.csv')\n",
    "celltype_mapper = cell_types[['SampleID', 'Cell_Type']].set_index('SampleID').to_dict()['Cell_Type']"
   ]
  },
  {
   "cell_type": "code",
   "execution_count": 6,
   "metadata": {},
   "outputs": [],
   "source": [
    "filenames = glob.glob(local_data_path + 'interim/velocyto_analyses/projected_gene_expression_csvs/T-*.csv')\n",
    "\n",
    "\n",
    "def get_CCI(file, counter):\n",
    "    basename = os.path.basename(file).split('.csv')[0]\n",
    "    print('Filename:' + basename)\n",
    "    print('File number {} of {}'.format(counter, len(filenames)))\n",
    "    try:\n",
    "        print('Format rnaseq data')\n",
    "        rnaseq_data = c2c.io.load_rnaseq(rnaseq_file=file,\n",
    "                                                 gene_column=rnaseq_setup['gene_col'],\n",
    "                                                 drop_nangenes=rnaseq_setup['drop_nangenes'],\n",
    "                                                 log_transformation=rnaseq_setup['log_transform'],\n",
    "                                                 format='auto',\n",
    "                                                 **{'index_col' : 0})\n",
    "        print('Format ppi data')\n",
    "        ppi_data = c2c.io.load_ppi(ppi_file=files['ppi'],\n",
    "                                   interaction_columns=ppi_setup['protein_cols'],\n",
    "                                   rnaseq_genes=list(rnaseq_data.index),\n",
    "                                   format='auto')\n",
    "        \n",
    "        print('Set up parameters')\n",
    "        if analysis_setup['cci_type'] == 'undirected':\n",
    "            bi_ppi_data = c2c.preprocessing.bidirectional_ppi_for_cci(ppi_data=ppi_data, verbose=False)\n",
    "            ref_ppi = ppi_data\n",
    "        else:\n",
    "            bi_ppi_data = ppi_data.copy()\n",
    "            ref_ppi = None\n",
    "            \n",
    "        print('Setup interaction space')\n",
    "        interaction_space = c2c.core.InteractionSpace(rnaseq_data=rnaseq_data,\n",
    "                                                              ppi_data=bi_ppi_data,\n",
    "                                                              gene_cutoffs=cutoff_setup,\n",
    "                                                              communication_score=analysis_setup['communication_score'],\n",
    "                                                              cci_score=analysis_setup['cci_score'],\n",
    "                                                              cci_type=analysis_setup['cci_type'],\n",
    "                                                              verbose=False)\n",
    "        # compute interactions\n",
    "        print('Compute interactions')\n",
    "        interaction_space.compute_pairwise_cci_scores(use_ppi_score=False, verbose=False)\n",
    "\n",
    "        # # untested - don't need communication for now\n",
    "        # # compute communication\n",
    "        # interaction_space.compute_pairwise_communication_scores(ref_ppi_data=ref_ppi, cci_type='directed', verbose=False)\n",
    "\n",
    "        print('Save CCI dataframe')\n",
    "        interaction_space.interaction_elements['cci_matrix'].to_csv(files['output_folder'] + basename + '_CCI.csv')\n",
    "        # interaction_space.interaction_elements['communication_matrix'].to_csv(files['output_folder'] + basename + '_CCC.csv')\n",
    "    except:\n",
    "        print('CCI failed on ' + basename)\n",
    "    print('-----------------------------------------------------------------------------')"
   ]
  },
  {
   "cell_type": "code",
   "execution_count": null,
   "metadata": {},
   "outputs": [],
   "source": [
    "print('Begin parallelization')\n",
    "pool = Pool(processes = 20)\n",
    "pool.starmap(get_CCI, zip(filenames, list(range(1, len(filenames) + 1))))\n",
    "pool.close()"
   ]
  },
  {
   "cell_type": "code",
   "execution_count": 5,
   "metadata": {},
   "outputs": [
    {
     "name": "stdout",
     "output_type": "stream",
     "text": [
      "python /home/hratch/Projects/immune_CCI_psuedotime/scripts/get_CCI_pseudotime.py > /data2/hratch/immune_CCI_pseudotime/interim/get_CCI_pseudotime_terminal_output.txt\n"
     ]
    }
   ],
   "source": [
    "# #run the following command in terminal\n",
    "# cmd = 'python ' + root_path + 'scripts/get_CCI_pseudotime.py > ' + local_data_path \n",
    "# cmd += 'interim/get_CCI_pseudotime_terminal_output.txt'\n",
    "# print(cmd)\n"
   ]
  },
  {
   "cell_type": "code",
   "execution_count": 37,
   "metadata": {
    "scrolled": true
   },
   "outputs": [
    {
     "name": "stderr",
     "output_type": "stream",
     "text": [
      "\n",
      "  0%|          | 0/100 [00:00<?, ?it/s]\u001b[A\n",
      "  1%|          | 1/100 [00:14<23:56, 14.51s/it]\u001b[A\n",
      "  2%|▏         | 2/100 [00:29<23:46, 14.56s/it]\u001b[A\n",
      "  3%|▎         | 3/100 [00:42<23:10, 14.34s/it]\u001b[A\n",
      "  4%|▍         | 4/100 [00:56<22:37, 14.14s/it]\u001b[A\n",
      "  5%|▌         | 5/100 [01:10<22:12, 14.02s/it]\u001b[A\n",
      "  6%|▌         | 6/100 [01:24<21:47, 13.91s/it]\u001b[A\n",
      "  7%|▋         | 7/100 [01:37<21:25, 13.83s/it]\u001b[A\n",
      "  8%|▊         | 8/100 [01:51<21:11, 13.82s/it]\u001b[A\n",
      "  9%|▉         | 9/100 [02:05<20:51, 13.75s/it]\u001b[A\n",
      " 10%|█         | 10/100 [02:18<20:36, 13.74s/it]\u001b[A\n",
      " 11%|█         | 11/100 [02:32<20:18, 13.69s/it]\u001b[A\n",
      " 12%|█▏        | 12/100 [02:46<20:11, 13.77s/it]\u001b[A\n",
      " 13%|█▎        | 13/100 [02:59<19:51, 13.70s/it]\u001b[A\n",
      " 14%|█▍        | 14/100 [03:13<19:39, 13.71s/it]\u001b[A\n",
      " 15%|█▌        | 15/100 [03:27<19:24, 13.70s/it]\u001b[A\n",
      " 16%|█▌        | 16/100 [03:41<19:13, 13.73s/it]\u001b[A\n",
      " 17%|█▋        | 17/100 [03:54<18:53, 13.66s/it]\u001b[A\n",
      " 18%|█▊        | 18/100 [04:08<18:44, 13.71s/it]\u001b[A\n",
      " 19%|█▉        | 19/100 [04:22<18:31, 13.72s/it]\u001b[A\n",
      " 20%|██        | 20/100 [04:35<18:14, 13.68s/it]\u001b[A\n",
      " 21%|██        | 21/100 [04:49<17:57, 13.64s/it]\u001b[A\n",
      " 22%|██▏       | 22/100 [05:03<17:54, 13.78s/it]\u001b[A\n",
      " 23%|██▎       | 23/100 [05:16<17:34, 13.69s/it]\u001b[A\n",
      " 24%|██▍       | 24/100 [05:30<17:16, 13.64s/it]\u001b[A\n",
      " 25%|██▌       | 25/100 [05:44<17:04, 13.66s/it]\u001b[A\n",
      " 26%|██▌       | 26/100 [06:02<18:33, 15.04s/it]\u001b[A\n",
      " 27%|██▋       | 27/100 [06:19<19:14, 15.81s/it]\u001b[A\n",
      " 28%|██▊       | 28/100 [06:38<19:49, 16.52s/it]\u001b[A\n",
      " 29%|██▉       | 29/100 [06:55<19:59, 16.89s/it]\u001b[A\n",
      " 30%|███       | 30/100 [07:14<20:19, 17.42s/it]\u001b[A\n",
      " 31%|███       | 31/100 [07:32<20:09, 17.53s/it]\u001b[A\n",
      " 32%|███▏      | 32/100 [07:50<20:02, 17.69s/it]\u001b[A\n",
      " 33%|███▎      | 33/100 [08:08<19:43, 17.66s/it]\u001b[A\n",
      " 34%|███▍      | 34/100 [08:26<19:36, 17.83s/it]\u001b[A\n",
      " 35%|███▌      | 35/100 [08:44<19:21, 17.88s/it]\u001b[A\n",
      " 36%|███▌      | 36/100 [09:01<18:59, 17.81s/it]\u001b[A\n",
      " 37%|███▋      | 37/100 [09:20<18:49, 17.93s/it]\u001b[A\n",
      " 38%|███▊      | 38/100 [09:38<18:37, 18.03s/it]\u001b[A\n",
      " 39%|███▉      | 39/100 [09:56<18:27, 18.16s/it]\u001b[A\n",
      " 40%|████      | 40/100 [10:14<18:02, 18.04s/it]\u001b[A\n",
      " 41%|████      | 41/100 [10:34<18:17, 18.59s/it]\u001b[A\n",
      " 42%|████▏     | 42/100 [10:52<17:50, 18.46s/it]\u001b[A\n",
      " 43%|████▎     | 43/100 [11:11<17:37, 18.56s/it]\u001b[A\n",
      " 44%|████▍     | 44/100 [11:29<17:18, 18.54s/it]\u001b[A\n",
      " 45%|████▌     | 45/100 [11:48<17:04, 18.63s/it]\u001b[A\n",
      " 46%|████▌     | 46/100 [12:07<16:40, 18.52s/it]\u001b[A\n",
      " 47%|████▋     | 47/100 [12:25<16:14, 18.38s/it]\u001b[A\n",
      " 48%|████▊     | 48/100 [12:43<15:52, 18.31s/it]\u001b[A\n",
      " 49%|████▉     | 49/100 [13:01<15:29, 18.23s/it]\u001b[A\n",
      " 50%|█████     | 50/100 [13:19<15:10, 18.20s/it]\u001b[A\n",
      " 51%|█████     | 51/100 [13:37<14:51, 18.20s/it]\u001b[A\n",
      " 52%|█████▏    | 52/100 [13:55<14:36, 18.26s/it]\u001b[A\n",
      " 53%|█████▎    | 53/100 [14:14<14:28, 18.48s/it]\u001b[A\n",
      " 54%|█████▍    | 54/100 [14:33<14:13, 18.57s/it]\u001b[A\n",
      " 55%|█████▌    | 55/100 [14:52<13:54, 18.54s/it]\u001b[A\n",
      " 56%|█████▌    | 56/100 [15:10<13:32, 18.47s/it]\u001b[A\n",
      " 57%|█████▋    | 57/100 [15:28<13:08, 18.33s/it]\u001b[A\n",
      " 58%|█████▊    | 58/100 [15:46<12:49, 18.33s/it]\u001b[A\n",
      " 59%|█████▉    | 59/100 [16:05<12:30, 18.30s/it]\u001b[A\n",
      " 60%|██████    | 60/100 [16:23<12:12, 18.32s/it]\u001b[A\n",
      " 61%|██████    | 61/100 [16:41<11:55, 18.34s/it]\u001b[A\n",
      " 62%|██████▏   | 62/100 [17:00<11:38, 18.37s/it]\u001b[A\n",
      " 63%|██████▎   | 63/100 [17:18<11:20, 18.39s/it]\u001b[A\n",
      " 64%|██████▍   | 64/100 [17:36<10:58, 18.29s/it]\u001b[A\n",
      " 65%|██████▌   | 65/100 [17:55<10:40, 18.30s/it]\u001b[A\n",
      " 66%|██████▌   | 66/100 [18:13<10:20, 18.26s/it]\u001b[A\n",
      " 67%|██████▋   | 67/100 [18:31<10:02, 18.26s/it]\u001b[A\n",
      " 68%|██████▊   | 68/100 [18:49<09:42, 18.19s/it]\u001b[A\n",
      " 69%|██████▉   | 69/100 [19:07<09:25, 18.24s/it]\u001b[A\n",
      " 70%|███████   | 70/100 [19:26<09:12, 18.40s/it]\u001b[A\n",
      " 71%|███████   | 71/100 [19:45<08:58, 18.55s/it]\u001b[A\n",
      " 72%|███████▏  | 72/100 [20:04<08:40, 18.57s/it]\u001b[A\n",
      " 73%|███████▎  | 73/100 [20:22<08:19, 18.51s/it]\u001b[A\n",
      " 74%|███████▍  | 74/100 [20:40<08:00, 18.46s/it]\u001b[A\n",
      " 75%|███████▌  | 75/100 [21:00<07:53, 18.92s/it]\u001b[A\n",
      " 76%|███████▌  | 76/100 [21:19<07:32, 18.84s/it]\u001b[A\n",
      " 77%|███████▋  | 77/100 [21:37<07:09, 18.66s/it]\u001b[A\n",
      " 78%|███████▊  | 78/100 [21:56<06:51, 18.71s/it]\u001b[A\n",
      " 79%|███████▉  | 79/100 [22:14<06:27, 18.47s/it]\u001b[A\n",
      " 80%|████████  | 80/100 [22:32<06:08, 18.44s/it]\u001b[A\n",
      " 81%|████████  | 81/100 [22:51<05:51, 18.51s/it]\u001b[A\n",
      " 82%|████████▏ | 82/100 [23:09<05:32, 18.45s/it]\u001b[A\n",
      " 83%|████████▎ | 83/100 [23:28<05:16, 18.62s/it]\u001b[A\n",
      " 84%|████████▍ | 84/100 [23:47<04:56, 18.52s/it]\u001b[A\n",
      " 85%|████████▌ | 85/100 [24:05<04:35, 18.37s/it]\u001b[A\n",
      " 86%|████████▌ | 86/100 [24:23<04:17, 18.43s/it]\u001b[A\n",
      " 87%|████████▋ | 87/100 [24:42<04:00, 18.46s/it]\u001b[A\n",
      " 88%|████████▊ | 88/100 [25:00<03:41, 18.43s/it]\u001b[A\n",
      " 89%|████████▉ | 89/100 [25:18<03:20, 18.23s/it]\u001b[A\n",
      " 90%|█████████ | 90/100 [25:36<03:02, 18.23s/it]\u001b[A\n",
      " 91%|█████████ | 91/100 [25:55<02:44, 18.28s/it]\u001b[A\n",
      " 92%|█████████▏| 92/100 [26:13<02:26, 18.32s/it]\u001b[A\n",
      " 93%|█████████▎| 93/100 [26:31<02:08, 18.33s/it]\u001b[A\n",
      " 94%|█████████▍| 94/100 [26:50<01:50, 18.35s/it]\u001b[A\n",
      " 95%|█████████▌| 95/100 [27:08<01:32, 18.40s/it]\u001b[A\n",
      " 96%|█████████▌| 96/100 [27:27<01:13, 18.45s/it]\u001b[A\n",
      " 97%|█████████▋| 97/100 [27:50<00:59, 19.84s/it]\u001b[A\n",
      " 98%|█████████▊| 98/100 [28:09<00:39, 19.72s/it]\u001b[A\n",
      " 99%|█████████▉| 99/100 [28:27<00:19, 19.22s/it]\u001b[A\n",
      "100%|██████████| 100/100 [28:51<00:00, 17.31s/it]\u001b[A\n"
     ]
    }
   ],
   "source": [
    "# compress files to send to Cameron\n",
    "from tqdm import tqdm\n",
    "\n",
    "CCI_dt = h5py.File(local_data_path + 'interim/CCI_dt.h5', 'w')\n",
    "filenames = sorted(os.listdir(local_data_path + 'interim/get_CCI_psuedotime/'))\n",
    "for file in tqdm(filenames):\n",
    "    time = float(file.split('-')[1])\n",
    "    df = pd.read_csv(local_data_path + 'interim/get_CCI_psuedotime/' + file, index_col = 0)\n",
    "    CCI_dt.create_dataset(str(time), data=np.array(df))\n",
    "\n",
    "CCI_dt.close()"
   ]
  }
 ],
 "metadata": {
  "kernelspec": {
   "display_name": "Python [conda env:immune_CCI] *",
   "language": "python",
   "name": "conda-env-immune_CCI-py"
  },
  "language_info": {
   "codemirror_mode": {
    "name": "ipython",
    "version": 3
   },
   "file_extension": ".py",
   "mimetype": "text/x-python",
   "name": "python",
   "nbconvert_exporter": "python",
   "pygments_lexer": "ipython3",
   "version": "3.6.7"
  }
 },
 "nbformat": 4,
 "nbformat_minor": 4
}
