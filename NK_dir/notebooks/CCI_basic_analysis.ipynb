{
 "cells": [
  {
   "cell_type": "code",
   "execution_count": 1,
   "metadata": {
    "colab": {
     "base_uri": "https://localhost:8080/",
     "height": 72
    },
    "colab_type": "code",
    "id": "wNb1eIt5l3qH",
    "outputId": "f1658c51-6639-4a3e-c802-ebe20a0b75dd",
    "scrolled": true
   },
   "outputs": [
    {
     "name": "stderr",
     "output_type": "stream",
     "text": [
      "/home/hratch/anaconda3/envs/CD8T_RA/lib/python3.6/site-packages/statsmodels/tools/_testing.py:19: FutureWarning: pandas.util.testing is deprecated. Use the functions in the public API at pandas.testing instead.\n",
      "  import pandas.util.testing as tm\n"
     ]
    }
   ],
   "source": [
    "import numpy as np\n",
    "import random \n",
    "import seaborn as sns\n",
    "import matplotlib.pyplot as plt\n",
    "from tqdm import tqdm#trange\n",
    "import pandas as pd\n",
    "import itertools\n",
    "import time\n",
    "from scipy.stats import kruskal\n",
    "from statsmodels.stats.multitest import multipletests\n",
    "import os\n",
    "import h5py\n",
    "import itertools\n",
    "\n",
    "\n",
    "\n",
    "import sys\n",
    "sys.path.insert(1, '../scripts')\n",
    "from load_environmental_variables import *"
   ]
  },
  {
   "cell_type": "code",
   "execution_count": 2,
   "metadata": {
    "scrolled": true
   },
   "outputs": [
    {
     "name": "stderr",
     "output_type": "stream",
     "text": [
      "100%|██████████| 100/100 [18:11<00:00, 10.92s/it]\n"
     ]
    }
   ],
   "source": [
    "# # load data\n",
    "# colnames = open(local_data_path + \"interim/velocyto_analyses/column_names.txt\").read().splitlines()\n",
    "# cci_dt = h5py.File(local_data_path + \"interim/CCI_dt.h5\", 'r')\n",
    "# psuedotime_points = cci_dt.keys()\n",
    "# distance_matrix = dict()\n",
    "# for dt in tqdm(list(psuedotime_points)):\n",
    "#     distance_matrix[dt] = pd.DataFrame(cci_dt[dt], columns = colnames, index = colnames)"
   ]
  },
  {
   "cell_type": "code",
   "execution_count": 3,
   "metadata": {},
   "outputs": [],
   "source": [
    "# cell_types = pd.read_csv(local_data_path + 'processed/5k_pbmc_celltypes_velocytoformatted.csv', index_col = 0)\n",
    "# cell_types_map = dict(zip(cell_types.SampleID,cell_types.Cell_Type))\n",
    "# cell_types_map = {'5k_pbmc_v3_count:' + k + 'x': v for k, v in cell_types_map.items()}\n",
    "# # making this a dictionary removes assumption that columns are the same for each time point\n",
    "# cell_types = {dt: dm.columns.map(cell_types_map).tolist() for dt,dm in distance_matrix.items()}"
   ]
  },
  {
   "cell_type": "code",
   "execution_count": 4,
   "metadata": {
    "colab": {},
    "colab_type": "code",
    "id": "KJhqdEGYkpYU",
    "scrolled": false
   },
   "outputs": [],
   "source": [
    "# # mapping_dict_ = dict(zip(distance_matrix[time_points[0]].columns.tolist(), cell_types)) # ASSUMING CELLS ARE IN SAME ORDER IN EACH MATRIX\n",
    "# def organize_input(df, t, mapping_dict = cell_types_map):\n",
    "#     '''df is a symmetrical distance matrix pandas dataframe as input. Rows and columns are unique cell ids from CCI scoring output, \n",
    "#     entries are the interaction score between those two cells. t is an integer representing a time point after scRNAseq measurement. \n",
    "#     mapping_dict is a dictionary that maps the unique cell ids (keys) to the cell type (values). Returns basically a metled adjacency list of \n",
    "#     cell type pairs, time points, and corresponding interaction scores.'''\n",
    "\n",
    "#     df = pd.DataFrame(df.stack()[np.triu(np.ones(df.shape)).astype('bool').reshape(df.size)]).reset_index()\n",
    "#     df.columns = ['Cell_1', 'Cell_2', 'interaction_scores']\n",
    "#     df['timepoints'] = t\n",
    "\n",
    "#       # change cell IDs to cell types\n",
    "#     for col in ['Cell_1', 'Cell_2']:\n",
    "#         df[col] = df[col].map(mapping_dict)\n",
    "\n",
    "#     df['cell_pairs'] = list(zip(df['Cell_1'].tolist(), df['Cell_2'].tolist()))#df['cell_pairs'] = df[['Cell_1', 'Cell_2']].apply(lambda x: (x[0], x[1]), axis=1)\n",
    "#     df.drop(columns = ['Cell_1', 'Cell_2'], inplace = True)\n",
    "\n",
    "#     return df"
   ]
  },
  {
   "cell_type": "code",
   "execution_count": 5,
   "metadata": {},
   "outputs": [
    {
     "name": "stderr",
     "output_type": "stream",
     "text": [
      "\r",
      "  0%|          | 0/100 [00:00<?, ?it/s]"
     ]
    },
    {
     "name": "stdout",
     "output_type": "stream",
     "text": [
      "Get cell pairs\n"
     ]
    },
    {
     "name": "stderr",
     "output_type": "stream",
     "text": [
      "100%|██████████| 100/100 [28:07<00:00, 16.87s/it]\n"
     ]
    },
    {
     "name": "stdout",
     "output_type": "stream",
     "text": [
      "Merge CCI information\n"
     ]
    },
    {
     "name": "stderr",
     "output_type": "stream",
     "text": [
      "100%|██████████| 99/99 [1:17:03<00:00, 46.70s/it] \n"
     ]
    }
   ],
   "source": [
    "# print('Get cell pairs')\n",
    "# distance_matrix = {t_: organize_input(df_, t_) for t_, df_ in tqdm(distance_matrix.items())}\n",
    "\n",
    "# print('Merge CCI information')\n",
    "# time_points = list(distance_matrix.keys())\n",
    "# all_information = distance_matrix[time_points[0]].copy()\n",
    "# for t in tqdm(time_points[1:]):\n",
    "#     all_information = pd.concat([all_information, distance_matrix[t]], axis = 0)\n",
    "# all_information.reset_index(inplace = True, drop = True)"
   ]
  },
  {
   "cell_type": "code",
   "execution_count": 9,
   "metadata": {},
   "outputs": [],
   "source": [
    "# print('Merge CCI information')\n",
    "# time_points = list(distance_matrix.keys())\n",
    "# all_information = distance_matrix[time_points[0]].copy()\n",
    "# for t in tqdm(time_points[1:]):\n",
    "#     all_information = pd.concat([all_information, distance_matrix[t]], axis = 0)\n",
    "# all_information.reset_index(inplace = True, drop = True)"
   ]
  },
  {
   "cell_type": "code",
   "execution_count": 3,
   "metadata": {},
   "outputs": [
    {
     "name": "stderr",
     "output_type": "stream",
     "text": [
      "/home/hratch/anaconda3/envs/CD8T_RA/lib/python3.6/site-packages/numpy/lib/arraysetops.py:568: FutureWarning: elementwise comparison failed; returning scalar instead, but in the future will perform elementwise comparison\n",
      "  mask |= (ar1 == a)\n"
     ]
    }
   ],
   "source": [
    "# all_information.to_csv(local_data_path + 'interim/reformatted_cci_dt.csv.gz', \n",
    "#                       compression = 'gzip')\n",
    "all_information = pd.read_csv(local_data_path + 'interim/reformatted_cci_dt.csv.gz', \n",
    "                             compression = 'gzip', index_col = 0)\n",
    "# all_information['cell_pairs'] = all_information.cell_pairs.apply(lambda x: eval(x))"
   ]
  },
  {
   "cell_type": "code",
   "execution_count": 35,
   "metadata": {},
   "outputs": [],
   "source": [
    "# all_information_ = all_information.loc[random.sample(all_information.index.tolist(), 12622800),:]\n",
    "# all_information_.reset_index(inplace = True, drop = True)\n",
    "# timepoints_ = sorted(d.timepoints.unique())\n",
    "#cp = cell_type_pairs[1]"
   ]
  },
  {
   "cell_type": "code",
   "execution_count": 65,
   "metadata": {},
   "outputs": [],
   "source": [
    "timepoints = sorted(all_information.timepoints.unique())\n",
    "cell_type_pairs = sorted(all_information.cell_pairs.unique())\n",
    "\n",
    "def get_pval(d): # kruskal test for interaction scores across timepoints\n",
    "    return kruskal(*[d[d.timepoints == t].interaction_scores for t in timepoints]).pvalue"
   ]
  },
  {
   "cell_type": "code",
   "execution_count": 66,
   "metadata": {},
   "outputs": [
    {
     "name": "stderr",
     "output_type": "stream",
     "text": [
      "100%|██████████| 100/100 [1:42:52<00:00, 61.73s/it]\n"
     ]
    }
   ],
   "source": [
    "#get p-values from kruskal test\n",
    "p_values = dict()\n",
    "for cp in tqdm(cell_type_pairs):\n",
    "    p_values[cp] = get_pval(all_information[all_information['cell_pairs'] == cp])\n",
    "\n",
    "# FDR correction\n",
    "p_ = [v for v in p_values.values()]\n",
    "p_ = list(multipletests(p_, method = 'fdr_bh')[1])\n",
    "\n",
    "counter = 0\n",
    "p_values_corrected = dict()\n",
    "for k in p_values.keys():\n",
    "    p_values_corrected[k] = p_[counter]\n",
    "    counter += 1\n",
    "    \n",
    "# sort by p-value\n",
    "p_values = {k: v for k, v in sorted(p_values_corrected.items(), key=lambda item: item[1])}\n",
    "# FOR NOW ONLY, filter out self interactions\n",
    "p_values = {k:v for k,v in p_values.items() if eval(k)[0] != eval(k)[1]}"
   ]
  },
  {
   "cell_type": "code",
   "execution_count": 120,
   "metadata": {},
   "outputs": [],
   "source": [
    "# viz = list(p_values.keys())[:8] + list(p_values.keys())[9:11]# top 10 cell pairs by p-value\n",
    "# # NEED TO GET RID OF RECIPROCAL PAIRS EARLIER IN CODE\n",
    "\n",
    "# fig, ax = fig, ax_ = plt.subplots(ncols = 5, nrows = 2, figsize = (30,10))\n",
    "# coordinates = list(itertools.product(list(range(5)), repeat=2))[:10]\n",
    "# counter = 0\n",
    "# for cp in tqdm(viz):\n",
    "#     d = all_information[all_information['cell_pairs'] == cp]\n",
    "#     sns.lineplot(x = 'timepoints', y = 'interaction_scores', data = d, ax = ax_[coordinates[counter]])\n",
    "#     ax_[coordinates[counter]].set_title(cp)\n",
    "#     counter += 1"
   ]
  },
  {
   "cell_type": "code",
   "execution_count": 129,
   "metadata": {},
   "outputs": [
    {
     "name": "stderr",
     "output_type": "stream",
     "text": [
      "\n",
      "\n",
      "  0%|          | 0/3 [00:00<?, ?it/s]\u001b[A\u001b[A\n",
      "\n",
      " 33%|███▎      | 1/3 [01:03<02:06, 63.15s/it]\u001b[A\u001b[A\n",
      "\n",
      " 67%|██████▋   | 2/3 [02:03<01:02, 62.46s/it]\u001b[A\u001b[A\n",
      "\n",
      "100%|██████████| 3/3 [03:01<00:00, 60.53s/it]\u001b[A\u001b[A\n"
     ]
    },
    {
     "data": {
      "image/png": "[encoded data removed]",
      "text/plain": [
       "<Figure size 1080x360 with 3 Axes>"
      ]
     },
     "metadata": {
      "needs_background": "light"
     },
     "output_type": "display_data"
    }
   ],
   "source": [
    "viz = [\"('b_cells', 'cd4_t_helper')\", \"('cd14_monocytes', 'cd34')\", \"('cd56_nk', 'cd14_monocytes')\"]\n",
    "fig, ax = fig, ax_ = plt.subplots(ncols = 3, nrows = 1, figsize = (15,5))\n",
    "\n",
    "counter = 0\n",
    "for cp in tqdm(viz):\n",
    "    d = all_information[all_information['cell_pairs'] == cp]\n",
    "    sns.lineplot(x = 'timepoints', y = 'interaction_scores', data = d, ax = ax_[counter])\n",
    "    ax_[counter].set_title(cp)\n",
    "#     ax_[counter].set(xlim = (5,None))\n",
    "    counter += 1"
   ]
  },
  {
   "cell_type": "code",
   "execution_count": null,
   "metadata": {},
   "outputs": [],
   "source": []
  }
 ],
 "metadata": {
  "colab": {
   "collapsed_sections": [],
   "name": "CCI_analysis.ipynb",
   "provenance": []
  },
  "kernelspec": {
   "display_name": "Python 3",
   "language": "python",
   "name": "python3"
  },
  "language_info": {
   "codemirror_mode": {
    "name": "ipython",
    "version": 3
   },
   "file_extension": ".py",
   "mimetype": "text/x-python",
   "name": "python",
   "nbconvert_exporter": "python",
   "pygments_lexer": "ipython3",
   "version": "3.6.10"
  }
 },
 "nbformat": 4,
 "nbformat_minor": 1
}
